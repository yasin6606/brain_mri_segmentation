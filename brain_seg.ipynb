{
 "cells": [
  {
   "cell_type": "markdown",
   "id": "e7d210f7-8787-4ae2-bec5-6c9c26b9c901",
   "metadata": {
    "id": "e7d210f7-8787-4ae2-bec5-6c9c26b9c901",
    "jp-MarkdownHeadingCollapsed": true
   },
   "source": [
    "# GPU info"
   ]
  },
  {
   "cell_type": "code",
   "execution_count": 1,
   "id": "5249d108-ba0a-4458-939f-1b9f73874435",
   "metadata": {
    "colab": {
     "base_uri": "https://localhost:8080/"
    },
    "executionInfo": {
     "elapsed": 3349,
     "status": "ok",
     "timestamp": 1747400939987,
     "user": {
      "displayName": "Yasin Gourkani",
      "userId": "15298842580635833110"
     },
     "user_tz": -210
    },
    "id": "5249d108-ba0a-4458-939f-1b9f73874435",
    "outputId": "ebce6022-6014-44f3-d79e-d6d45c494f3c"
   },
   "outputs": [
    {
     "name": "stdout",
     "output_type": "stream",
     "text": [
      "Fri May 16 13:08:54 2025       \n",
      "+-----------------------------------------------------------------------------------------+\n",
      "| NVIDIA-SMI 550.54.15              Driver Version: 550.54.15      CUDA Version: 12.4     |\n",
      "|-----------------------------------------+------------------------+----------------------+\n",
      "| GPU  Name                 Persistence-M | Bus-Id          Disp.A | Volatile Uncorr. ECC |\n",
      "| Fan  Temp   Perf          Pwr:Usage/Cap |           Memory-Usage | GPU-Util  Compute M. |\n",
      "|                                         |                        |               MIG M. |\n",
      "|=========================================+========================+======================|\n",
      "|   0  Tesla T4                       Off |   00000000:00:04.0 Off |                    0 |\n",
      "| N/A   69C    P8             11W /   70W |       0MiB /  15360MiB |      0%      Default |\n",
      "|                                         |                        |                  N/A |\n",
      "+-----------------------------------------+------------------------+----------------------+\n",
      "                                                                                         \n",
      "+-----------------------------------------------------------------------------------------+\n",
      "| Processes:                                                                              |\n",
      "|  GPU   GI   CI        PID   Type   Process name                              GPU Memory |\n",
      "|        ID   ID                                                               Usage      |\n",
      "|=========================================================================================|\n",
      "|  No running processes found                                                             |\n",
      "+-----------------------------------------------------------------------------------------+\n"
     ]
    }
   ],
   "source": [
    "!nvidia-smi"
   ]
  },
  {
   "cell_type": "markdown",
   "id": "uMPXZabD2SKB",
   "metadata": {
    "id": "uMPXZabD2SKB"
   },
   "source": [
    "# Install"
   ]
  },
  {
   "cell_type": "code",
   "execution_count": 2,
   "id": "K6WSiSs92Stj",
   "metadata": {
    "colab": {
     "base_uri": "https://localhost:8080/"
    },
    "executionInfo": {
     "elapsed": 17,
     "status": "ok",
     "timestamp": 1747400939987,
     "user": {
      "displayName": "Yasin Gourkani",
      "userId": "15298842580635833110"
     },
     "user_tz": -210
    },
    "id": "K6WSiSs92Stj",
    "outputId": "7e9f8d05-ed5a-4478-bb84-52e6a26f03d7"
   },
   "outputs": [
    {
     "name": "stdout",
     "output_type": "stream",
     "text": [
      "Found existing installation: torchmetrics 1.2.0\n",
      "Uninstalling torchmetrics-1.2.0:\n",
      "  Successfully uninstalled torchmetrics-1.2.0\n"
     ]
    }
   ],
   "source": [
    "!pip uninstall -y torchmetrics"
   ]
  },
  {
   "cell_type": "code",
   "execution_count": 3,
   "id": "24ngKsv62aTM",
   "metadata": {
    "executionInfo": {
     "elapsed": 3167,
     "status": "ok",
     "timestamp": 1747400943139,
     "user": {
      "displayName": "Yasin Gourkani",
      "userId": "15298842580635833110"
     },
     "user_tz": -210
    },
    "id": "24ngKsv62aTM"
   },
   "outputs": [],
   "source": [
    "!pip3 install -q segmentation_models_pytorch torchmetrics==1.2 imageio tqdm"
   ]
  },
  {
   "cell_type": "markdown",
   "id": "a9aa6a31-6111-4437-8a26-214dccd1abdc",
   "metadata": {
    "id": "a9aa6a31-6111-4437-8a26-214dccd1abdc"
   },
   "source": [
    "# Import"
   ]
  },
  {
   "cell_type": "code",
   "execution_count": 4,
   "id": "4eaeaf21-2f70-4378-977b-9b85bf01917a",
   "metadata": {
    "executionInfo": {
     "elapsed": 15787,
     "status": "ok",
     "timestamp": 1747400958922,
     "user": {
      "displayName": "Yasin Gourkani",
      "userId": "15298842580635833110"
     },
     "user_tz": -210
    },
    "id": "4eaeaf21-2f70-4378-977b-9b85bf01917a"
   },
   "outputs": [],
   "source": [
    "import torch\n",
    "from torch import nn\n",
    "from torch.utils.data import random_split, DataLoader\n",
    "from torch.optim import Adam\n",
    "from torch.optim.lr_scheduler import MultiStepLR, CosineAnnealingLR\n",
    "\n",
    "import torchvision\n",
    "import torchvision.transforms.v2 as T\n",
    "from torchvision.datasets import VisionDataset\n",
    "from torchvision import tv_tensors\n",
    "\n",
    "import segmentation_models_pytorch as smp\n",
    "from torchmetrics import Dice, MeanMetric\n",
    "\n",
    "from PIL import Image, ImageChops\n",
    "from imageio import mimsave\n",
    "\n",
    "import pandas as pd\n",
    "import numpy as np\n",
    "import matplotlib.pyplot as plt\n",
    "\n",
    "from datetime import datetime\n",
    "from tqdm import tqdm\n",
    "from glob import glob\n",
    "from os import path, listdir, getcwd, makedirs\n",
    "from typing import Optional, Callable"
   ]
  },
  {
   "cell_type": "code",
   "execution_count": 5,
   "id": "a6856dfb-fd80-42d7-a698-52b926a3a6bc",
   "metadata": {
    "colab": {
     "base_uri": "https://localhost:8080/"
    },
    "executionInfo": {
     "elapsed": 29,
     "status": "ok",
     "timestamp": 1747400958926,
     "user": {
      "displayName": "Yasin Gourkani",
      "userId": "15298842580635833110"
     },
     "user_tz": -210
    },
    "id": "a6856dfb-fd80-42d7-a698-52b926a3a6bc",
    "outputId": "19760055-df19-4d75-bf78-bb45f0ba4abf"
   },
   "outputs": [
    {
     "data": {
      "text/plain": [
       "('2.6.0+cu124', '0.21.0+cu124')"
      ]
     },
     "execution_count": 5,
     "metadata": {},
     "output_type": "execute_result"
    }
   ],
   "source": [
    "torch.__version__, torchvision.__version__"
   ]
  },
  {
   "cell_type": "markdown",
   "id": "7515c45a-d443-408b-be9d-d29a5a152532",
   "metadata": {
    "id": "7515c45a-d443-408b-be9d-d29a5a152532"
   },
   "source": [
    "# Device"
   ]
  },
  {
   "cell_type": "code",
   "execution_count": 6,
   "id": "336b04b0-2895-470b-8c19-cedee7274b08",
   "metadata": {
    "colab": {
     "base_uri": "https://localhost:8080/",
     "height": 0
    },
    "executionInfo": {
     "elapsed": 27,
     "status": "ok",
     "timestamp": 1747400958926,
     "user": {
      "displayName": "Yasin Gourkani",
      "userId": "15298842580635833110"
     },
     "user_tz": -210
    },
    "id": "336b04b0-2895-470b-8c19-cedee7274b08",
    "outputId": "abaefc73-fac2-47d7-d30b-01125ca54df0"
   },
   "outputs": [
    {
     "data": {
      "application/vnd.google.colaboratory.intrinsic+json": {
       "type": "string"
      },
      "text/plain": [
       "'cuda'"
      ]
     },
     "execution_count": 6,
     "metadata": {},
     "output_type": "execute_result"
    }
   ],
   "source": [
    "device = \"cuda\" if torch.cuda.is_available() else \"cpu\"\n",
    "device"
   ]
  },
  {
   "cell_type": "markdown",
   "id": "KXKWn4-P2t3s",
   "metadata": {
    "id": "KXKWn4-P2t3s"
   },
   "source": [
    "# Download dataset"
   ]
  },
  {
   "cell_type": "code",
   "execution_count": 7,
   "id": "g5PE066K2wxk",
   "metadata": {
    "colab": {
     "base_uri": "https://localhost:8080/"
    },
    "executionInfo": {
     "elapsed": 39346,
     "status": "ok",
     "timestamp": 1747400998248,
     "user": {
      "displayName": "Yasin Gourkani",
      "userId": "15298842580635833110"
     },
     "user_tz": -210
    },
    "id": "g5PE066K2wxk",
    "outputId": "0cf0817b-128b-4fb0-98e9-9a422d05c932"
   },
   "outputs": [
    {
     "name": "stdout",
     "output_type": "stream",
     "text": [
      "  % Total    % Received % Xferd  Average Speed   Time    Time     Time  Current\n",
      "                                 Dload  Upload   Total   Spent    Left  Speed\n",
      "  0     0    0     0    0     0      0      0 --:--:-- --:--:-- --:--:--     0\n",
      "100  713M  100  713M    0     0   214M      0  0:00:03  0:00:03 --:--:--  234M\n",
      "replace kaggle_3m/README.md? [y]es, [n]o, [A]ll, [N]one, [r]ename: n\n",
      "replace kaggle_3m/TCGA_CS_4941_19960909/TCGA_CS_4941_19960909_1.tif? [y]es, [n]o, [A]ll, [N]one, [r]ename: N\n"
     ]
    }
   ],
   "source": [
    "!curl -L -o \"/content/lgg-mri-segmentation.zip\" \"https://www.kaggle.com/api/v1/datasets/download/mateuszbuda/lgg-mri-segmentation\"\n",
    "!unzip -q \"/content/lgg-mri-segmentation.zip\""
   ]
  },
  {
   "cell_type": "markdown",
   "id": "7c69e886-9fb7-4064-a93c-d082ac00b1b3",
   "metadata": {
    "id": "7c69e886-9fb7-4064-a93c-d082ac00b1b3"
   },
   "source": [
    "# Arguments"
   ]
  },
  {
   "cell_type": "code",
   "execution_count": 8,
   "id": "b53b3776-331d-4913-b15f-acb0bce076c9",
   "metadata": {
    "executionInfo": {
     "elapsed": 54,
     "status": "ok",
     "timestamp": 1747400998248,
     "user": {
      "displayName": "Yasin Gourkani",
      "userId": "15298842580635833110"
     },
     "user_tz": -210
    },
    "id": "b53b3776-331d-4913-b15f-acb0bce076c9"
   },
   "outputs": [],
   "source": [
    "loss_alpha = 0.5\n",
    "batch_size = 64\n",
    "epochs = 20\n",
    "backbone = \"mobilenet_v2\"\n",
    "final_model_name = \"final_model.pt\"\n",
    "\n",
    "dataset_root = path.join(getcwd(), \"kaggle_3m\")\n",
    "# dataset_root = path.join(getcwd(), \"kaggle_3m_cleaned\")"
   ]
  },
  {
   "cell_type": "markdown",
   "id": "da0dad8b-ab9e-42e3-ab1b-80479b1b3a03",
   "metadata": {
    "id": "da0dad8b-ab9e-42e3-ab1b-80479b1b3a03",
    "jp-MarkdownHeadingCollapsed": true
   },
   "source": [
    "# Helpers"
   ]
  },
  {
   "cell_type": "code",
   "execution_count": 9,
   "id": "161ca83b-88d0-40d4-8acc-4dbacb8ec0e4",
   "metadata": {
    "executionInfo": {
     "elapsed": 54,
     "status": "ok",
     "timestamp": 1747400998249,
     "user": {
      "displayName": "Yasin Gourkani",
      "userId": "15298842580635833110"
     },
     "user_tz": -210
    },
    "id": "161ca83b-88d0-40d4-8acc-4dbacb8ec0e4"
   },
   "outputs": [],
   "source": [
    "def num_parameters(model):\n",
    "    params = sum([p.numel() for p in model.parameters() if p.requires_grad_])\n",
    "    print(f\"The number of trainable parameters: {params:,}\")"
   ]
  },
  {
   "cell_type": "code",
   "execution_count": 10,
   "id": "1e688618-70d4-4c0d-a5a5-c363eebd56df",
   "metadata": {
    "executionInfo": {
     "elapsed": 52,
     "status": "ok",
     "timestamp": 1747400998250,
     "user": {
      "displayName": "Yasin Gourkani",
      "userId": "15298842580635833110"
     },
     "user_tz": -210
    },
    "id": "1e688618-70d4-4c0d-a5a5-c363eebd56df"
   },
   "outputs": [],
   "source": [
    "def create_df_phase(phase_file=\"train.txt\"):\n",
    "    phase_file = phase_file.lower()\n",
    "\n",
    "    assert phase_file in [\"train.txt\", \"eval.txt\", \"test.txt\"], \"Phase_file must be one of [train.txt, eval.txt, test.txt]\"\n",
    "\n",
    "    with open(path.join(getcwd(), phase_file), 'r') as f:\n",
    "        train_ids = f.read()\n",
    "        f.close()\n",
    "        train_ids = train_ids.split(', ')\n",
    "\n",
    "        selected_columns = [\"patient_id\", \"slice\", \"slice_path\"]\n",
    "\n",
    "        df_train = df_images[df_images.patient_id.isin(train_ids)][selected_columns].copy()\n",
    "        df_train = df_train.merge(df_masks[df_masks.patient_id.isin(train_ids)][selected_columns], on=[\"patient_id\", \"slice\"])\n",
    "\n",
    "        df_train.rename(columns={\"slice_path_x\": \"img_path\", \"slice_path_y\": \"msk_path\"}, inplace=True)\n",
    "\n",
    "        df_train.to_csv(path.join(getcwd(), phase_file.replace(\"txt\", \"csv\")), index=False)"
   ]
  },
  {
   "cell_type": "code",
   "execution_count": 11,
   "id": "df4045f5-80fd-4dc7-8b74-46edc8ea74e7",
   "metadata": {
    "executionInfo": {
     "elapsed": 50,
     "status": "ok",
     "timestamp": 1747400998250,
     "user": {
      "displayName": "Yasin Gourkani",
      "userId": "15298842580635833110"
     },
     "user_tz": -210
    },
    "id": "df4045f5-80fd-4dc7-8b74-46edc8ea74e7"
   },
   "outputs": [],
   "source": [
    "def train_one_epoch(dataloader, model, optimizer_fn, loss_fn, metric_fn, avg_fn, ep, device):\n",
    "    model.train()\n",
    "\n",
    "    metric_fn.reset()\n",
    "    avg_fn.reset()\n",
    "\n",
    "    with tqdm(dataloader, desc=f\"Epoch {ep}\", unit=\" batch\") as trange:\n",
    "        for x_batch, y_batch in trange:\n",
    "            x_batch, y_batch = x_batch.to(device), y_batch.to(device)\n",
    "\n",
    "            # Forward\n",
    "            yp = model(x_batch)\n",
    "            loss = loss_fn(yp, y_batch)\n",
    "\n",
    "            # Backward\n",
    "            optimizer_fn.zero_grad()\n",
    "            loss.backward()\n",
    "            optimizer_fn.step()\n",
    "\n",
    "            # Calculate losses and metrics\n",
    "            avg_fn.update(loss, weight=len(y_batch))\n",
    "            avg_loss = avg_fn.compute().item()\n",
    "\n",
    "            metric_fn.update(yp, y_batch)\n",
    "            avg_metric = metric_fn.compute().item()\n",
    "\n",
    "            trange.set_postfix(loss=avg_loss, metric=avg_metric)\n",
    "\n",
    "    return model, avg_loss, avg_metric"
   ]
  },
  {
   "cell_type": "code",
   "execution_count": 12,
   "id": "9edb2e00-28ef-42a6-83dc-1282f0e0c0bc",
   "metadata": {
    "executionInfo": {
     "elapsed": 49,
     "status": "ok",
     "timestamp": 1747400998250,
     "user": {
      "displayName": "Yasin Gourkani",
      "userId": "15298842580635833110"
     },
     "user_tz": -210
    },
    "id": "9edb2e00-28ef-42a6-83dc-1282f0e0c0bc"
   },
   "outputs": [],
   "source": [
    "def eval_one_epoch(dataloader, model, loss_fn, metric_fn, avg_fn, device):\n",
    "    model.eval()\n",
    "\n",
    "    metric_fn.reset()\n",
    "    avg_fn.reset()\n",
    "\n",
    "    with torch.no_grad():\n",
    "        for x_batch, y_batch in dataloader:\n",
    "            x_batch, y_batch = x_batch.to(device), y_batch.to(device)\n",
    "\n",
    "            # Forward\n",
    "            yp = model(x_batch)\n",
    "            loss = loss_fn(yp, y_batch)\n",
    "\n",
    "            # Calculate losses and metrics\n",
    "            avg_fn.update(loss, weight=len(y_batch))\n",
    "            avg_loss = avg_fn.compute().item()\n",
    "\n",
    "            metric_fn.update(yp, y_batch)\n",
    "            avg_metric = metric_fn.compute().item()\n",
    "\n",
    "        print(f\"Eval ==> loss: {avg_loss:.4}\\tmetric: {avg_metric:.4}\\n\")\n",
    "\n",
    "    return avg_loss, avg_metric"
   ]
  },
  {
   "cell_type": "code",
   "execution_count": 13,
   "id": "886dffe1-c23c-4f5f-a222-b088862808e6",
   "metadata": {
    "executionInfo": {
     "elapsed": 49,
     "status": "ok",
     "timestamp": 1747400998251,
     "user": {
      "displayName": "Yasin Gourkani",
      "userId": "15298842580635833110"
     },
     "user_tz": -210
    },
    "id": "886dffe1-c23c-4f5f-a222-b088862808e6"
   },
   "outputs": [],
   "source": [
    "def combined_loss_fn(preds, target, alpha=loss_alpha):\n",
    "    dice_loss = smp.losses.DiceLoss(mode=\"binary\", ignore_index=0)\n",
    "    bce_loss = nn.BCEWithLogitsLoss()\n",
    "\n",
    "    return alpha * dice_loss(preds, target) + (1 - alpha) * bce_loss(preds, target.to(torch.float32))"
   ]
  },
  {
   "cell_type": "markdown",
   "id": "6b7f04fa-5568-4e03-bc07-53e871df8515",
   "metadata": {
    "id": "6b7f04fa-5568-4e03-bc07-53e871df8515",
    "jp-MarkdownHeadingCollapsed": true
   },
   "source": [
    "# Data"
   ]
  },
  {
   "cell_type": "markdown",
   "id": "b97fcd73-fc49-402e-a8da-345123053107",
   "metadata": {
    "id": "b97fcd73-fc49-402e-a8da-345123053107"
   },
   "source": [
    "## Primary overview to the dataset"
   ]
  },
  {
   "cell_type": "code",
   "execution_count": 14,
   "id": "c89f81d3-791b-409d-a10c-66f8e6f3252d",
   "metadata": {
    "colab": {
     "base_uri": "https://localhost:8080/"
    },
    "executionInfo": {
     "elapsed": 48,
     "status": "ok",
     "timestamp": 1747400998251,
     "user": {
      "displayName": "Yasin Gourkani",
      "userId": "15298842580635833110"
     },
     "user_tz": -210
    },
    "id": "c89f81d3-791b-409d-a10c-66f8e6f3252d",
    "outputId": "60e32ae2-8ae9-4977-c6b3-a9b4cd048a37"
   },
   "outputs": [
    {
     "data": {
      "text/plain": [
       "7858"
      ]
     },
     "execution_count": 14,
     "metadata": {},
     "output_type": "execute_result"
    }
   ],
   "source": [
    "paths = glob(path.join(dataset_root, \"**\"), recursive=True)\n",
    "paths = list(filter(lambda x: x.endswith(\".tif\"), paths))\n",
    "\n",
    "len(paths)"
   ]
  },
  {
   "cell_type": "code",
   "execution_count": 15,
   "id": "6897379a-88e1-4723-a3ef-23ba80d8833c",
   "metadata": {
    "colab": {
     "base_uri": "https://localhost:8080/"
    },
    "executionInfo": {
     "elapsed": 44,
     "status": "ok",
     "timestamp": 1747400998252,
     "user": {
      "displayName": "Yasin Gourkani",
      "userId": "15298842580635833110"
     },
     "user_tz": -210
    },
    "id": "6897379a-88e1-4723-a3ef-23ba80d8833c",
    "outputId": "d28825de-becd-43d0-92ec-2e4a71c2f485"
   },
   "outputs": [
    {
     "data": {
      "text/plain": [
       "['/content/kaggle_3m/TCGA_FG_A60K_20040224/TCGA_FG_A60K_20040224_25.tif',\n",
       " '/content/kaggle_3m/TCGA_FG_A60K_20040224/TCGA_FG_A60K_20040224_19_mask.tif',\n",
       " '/content/kaggle_3m/TCGA_FG_A60K_20040224/TCGA_FG_A60K_20040224_66.tif',\n",
       " '/content/kaggle_3m/TCGA_FG_A60K_20040224/TCGA_FG_A60K_20040224_16.tif',\n",
       " '/content/kaggle_3m/TCGA_FG_A60K_20040224/TCGA_FG_A60K_20040224_60_mask.tif']"
      ]
     },
     "execution_count": 15,
     "metadata": {},
     "output_type": "execute_result"
    }
   ],
   "source": [
    "paths[:5]"
   ]
  },
  {
   "cell_type": "code",
   "execution_count": 16,
   "id": "9a6fa3c5-1017-44d2-8d08-5ca5b28f12fb",
   "metadata": {
    "colab": {
     "base_uri": "https://localhost:8080/"
    },
    "executionInfo": {
     "elapsed": 42,
     "status": "ok",
     "timestamp": 1747400998252,
     "user": {
      "displayName": "Yasin Gourkani",
      "userId": "15298842580635833110"
     },
     "user_tz": -210
    },
    "id": "9a6fa3c5-1017-44d2-8d08-5ca5b28f12fb",
    "outputId": "b25568b8-1edc-4390-cd17-5d3f391722e4"
   },
   "outputs": [
    {
     "data": {
      "text/plain": [
       "['TCGA', 'FG', 'A60K', '20040224', '25.tif']"
      ]
     },
     "execution_count": 16,
     "metadata": {},
     "output_type": "execute_result"
    }
   ],
   "source": [
    "paths[0].split(path.sep)[-1].split('_')"
   ]
  },
  {
   "cell_type": "code",
   "execution_count": 17,
   "id": "5994a725-f2c0-431d-84a0-bf856157a36b",
   "metadata": {
    "colab": {
     "base_uri": "https://localhost:8080/"
    },
    "executionInfo": {
     "elapsed": 39,
     "status": "ok",
     "timestamp": 1747400998252,
     "user": {
      "displayName": "Yasin Gourkani",
      "userId": "15298842580635833110"
     },
     "user_tz": -210
    },
    "id": "5994a725-f2c0-431d-84a0-bf856157a36b",
    "outputId": "0f431c08-6337-4468-8a05-817171664e60"
   },
   "outputs": [
    {
     "data": {
      "text/plain": [
       "['TCGA', 'FG', 'A60K', '20040224', '19', 'mask.tif']"
      ]
     },
     "execution_count": 17,
     "metadata": {},
     "output_type": "execute_result"
    }
   ],
   "source": [
    "paths[1].split(path.sep)[-1].split('_')"
   ]
  },
  {
   "cell_type": "code",
   "execution_count": 18,
   "id": "32118703-8591-48fc-bd6f-eddb6132fe6e",
   "metadata": {
    "executionInfo": {
     "elapsed": 37,
     "status": "ok",
     "timestamp": 1747400998253,
     "user": {
      "displayName": "Yasin Gourkani",
      "userId": "15298842580635833110"
     },
     "user_tz": -210
    },
    "id": "32118703-8591-48fc-bd6f-eddb6132fe6e"
   },
   "outputs": [],
   "source": [
    "df = pd.read_csv(path.join(dataset_root, \"data.csv\"))"
   ]
  },
  {
   "cell_type": "code",
   "execution_count": 19,
   "id": "4b42c2b4-f659-455d-9ec5-ef75ac1d63e0",
   "metadata": {
    "colab": {
     "base_uri": "https://localhost:8080/",
     "height": 320
    },
    "executionInfo": {
     "elapsed": 36,
     "status": "ok",
     "timestamp": 1747400998253,
     "user": {
      "displayName": "Yasin Gourkani",
      "userId": "15298842580635833110"
     },
     "user_tz": -210
    },
    "id": "4b42c2b4-f659-455d-9ec5-ef75ac1d63e0",
    "outputId": "859c796c-bbb5-49f5-8a2c-c854f73b29f5"
   },
   "outputs": [
    {
     "data": {
      "application/vnd.google.colaboratory.intrinsic+json": {
       "summary": "{\n  \"name\": \"df\",\n  \"rows\": 8,\n  \"fields\": [\n    {\n      \"column\": \"RNASeqCluster\",\n      \"properties\": {\n        \"dtype\": \"number\",\n        \"std\": 31.761299943895917,\n        \"min\": 1.0,\n        \"max\": 92.0,\n        \"num_unique_values\": 6,\n        \"samples\": [\n          92.0,\n          2.4456521739130435,\n          4.0\n        ],\n        \"semantic_type\": \"\",\n        \"description\": \"\"\n      }\n    },\n    {\n      \"column\": \"MethylationCluster\",\n      \"properties\": {\n        \"dtype\": \"number\",\n        \"std\": 37.414466906673205,\n        \"min\": 1.0,\n        \"max\": 109.0,\n        \"num_unique_values\": 7,\n        \"samples\": [\n          109.0,\n          3.6788990825688073,\n          4.0\n        ],\n        \"semantic_type\": \"\",\n        \"description\": \"\"\n      }\n    },\n    {\n      \"column\": \"miRNACluster\",\n      \"properties\": {\n        \"dtype\": \"number\",\n        \"std\": 38.26346828193563,\n        \"min\": 0.7892628078254504,\n        \"max\": 110.0,\n        \"num_unique_values\": 6,\n        \"samples\": [\n          110.0,\n          1.9,\n          4.0\n        ],\n        \"semantic_type\": \"\",\n        \"description\": \"\"\n      }\n    },\n    {\n      \"column\": \"CNCluster\",\n      \"properties\": {\n        \"dtype\": \"number\",\n        \"std\": 37.60914829669237,\n        \"min\": 0.8628721148608073,\n        \"max\": 108.0,\n        \"num_unique_values\": 5,\n        \"samples\": [\n          1.7222222222222223,\n          3.0,\n          0.8628721148608073\n        ],\n        \"semantic_type\": \"\",\n        \"description\": \"\"\n      }\n    },\n    {\n      \"column\": \"RPPACluster\",\n      \"properties\": {\n        \"dtype\": \"number\",\n        \"std\": 33.93281759533757,\n        \"min\": 1.0,\n        \"max\": 98.0,\n        \"num_unique_values\": 7,\n        \"samples\": [\n          98.0,\n          2.36734693877551,\n          3.0\n        ],\n        \"semantic_type\": \"\",\n        \"description\": \"\"\n      }\n    },\n    {\n      \"column\": \"OncosignCluster\",\n      \"properties\": {\n        \"dtype\": \"number\",\n        \"std\": 36.546989217263906,\n        \"min\": 0.6639597057370957,\n        \"max\": 105.0,\n        \"num_unique_values\": 6,\n        \"samples\": [\n          105.0,\n          1.8952380952380952,\n          3.0\n        ],\n        \"semantic_type\": \"\",\n        \"description\": \"\"\n      }\n    },\n    {\n      \"column\": \"COCCluster\",\n      \"properties\": {\n        \"dtype\": \"number\",\n        \"std\": 38.314354376251316,\n        \"min\": 0.8559266959017562,\n        \"max\": 110.0,\n        \"num_unique_values\": 5,\n        \"samples\": [\n          1.7636363636363637,\n          3.0,\n          0.8559266959017562\n        ],\n        \"semantic_type\": \"\",\n        \"description\": \"\"\n      }\n    },\n    {\n      \"column\": \"histological_type\",\n      \"properties\": {\n        \"dtype\": \"number\",\n        \"std\": 37.891543223942364,\n        \"min\": 0.8509354050341333,\n        \"max\": 109.0,\n        \"num_unique_values\": 6,\n        \"samples\": [\n          109.0,\n          2.128440366972477,\n          3.0\n        ],\n        \"semantic_type\": \"\",\n        \"description\": \"\"\n      }\n    },\n    {\n      \"column\": \"neoplasm_histologic_grade\",\n      \"properties\": {\n        \"dtype\": \"number\",\n        \"std\": 38.03472165844171,\n        \"min\": 0.5012725905032172,\n        \"max\": 109.0,\n        \"num_unique_values\": 5,\n        \"samples\": [\n          1.5321100917431192,\n          2.0,\n          0.5012725905032172\n        ],\n        \"semantic_type\": \"\",\n        \"description\": \"\"\n      }\n    },\n    {\n      \"column\": \"tumor_tissue_site\",\n      \"properties\": {\n        \"dtype\": \"number\",\n        \"std\": 38.23587507638792,\n        \"min\": 0.0,\n        \"max\": 109.0,\n        \"num_unique_values\": 3,\n        \"samples\": [\n          109.0,\n          1.0,\n          0.0\n        ],\n        \"semantic_type\": \"\",\n        \"description\": \"\"\n      }\n    },\n    {\n      \"column\": \"laterality\",\n      \"properties\": {\n        \"dtype\": \"number\",\n        \"std\": 37.88967151343917,\n        \"min\": 0.9953169311370561,\n        \"max\": 109.0,\n        \"num_unique_values\": 6,\n        \"samples\": [\n          109.0,\n          2.0091743119266057,\n          3.0\n        ],\n        \"semantic_type\": \"\",\n        \"description\": \"\"\n      }\n    },\n    {\n      \"column\": \"tumor_location\",\n      \"properties\": {\n        \"dtype\": \"number\",\n        \"std\": 37.45532131161919,\n        \"min\": 1.0,\n        \"max\": 109.0,\n        \"num_unique_values\": 6,\n        \"samples\": [\n          109.0,\n          3.5137614678899083,\n          6.0\n        ],\n        \"semantic_type\": \"\",\n        \"description\": \"\"\n      }\n    },\n    {\n      \"column\": \"gender\",\n      \"properties\": {\n        \"dtype\": \"number\",\n        \"std\": 38.086939003967416,\n        \"min\": 0.502119192340169,\n        \"max\": 109.0,\n        \"num_unique_values\": 5,\n        \"samples\": [\n          1.4862385321100917,\n          2.0,\n          0.502119192340169\n        ],\n        \"semantic_type\": \"\",\n        \"description\": \"\"\n      }\n    },\n    {\n      \"column\": \"age_at_initial_pathologic\",\n      \"properties\": {\n        \"dtype\": \"number\",\n        \"std\": 30.85016493614298,\n        \"min\": 13.797150646169994,\n        \"max\": 109.0,\n        \"num_unique_values\": 8,\n        \"samples\": [\n          45.8348623853211,\n          47.0,\n          109.0\n        ],\n        \"semantic_type\": \"\",\n        \"description\": \"\"\n      }\n    },\n    {\n      \"column\": \"race\",\n      \"properties\": {\n        \"dtype\": \"number\",\n        \"std\": 37.32712731376129,\n        \"min\": 0.2912120028412687,\n        \"max\": 108.0,\n        \"num_unique_values\": 5,\n        \"samples\": [\n          2.9074074074074074,\n          3.0,\n          0.2912120028412687\n        ],\n        \"semantic_type\": \"\",\n        \"description\": \"\"\n      }\n    },\n    {\n      \"column\": \"ethnicity\",\n      \"properties\": {\n        \"dtype\": \"number\",\n        \"std\": 35.506174191163694,\n        \"min\": 0.1697920891077899,\n        \"max\": 102.0,\n        \"num_unique_values\": 5,\n        \"samples\": [\n          1.9705882352941178,\n          2.0,\n          0.1697920891077899\n        ],\n        \"semantic_type\": \"\",\n        \"description\": \"\"\n      }\n    },\n    {\n      \"column\": \"death01\",\n      \"properties\": {\n        \"dtype\": \"number\",\n        \"std\": 38.45396770755651,\n        \"min\": 0.0,\n        \"max\": 109.0,\n        \"num_unique_values\": 5,\n        \"samples\": [\n          0.24770642201834864,\n          1.0,\n          0.43367429540544855\n        ],\n        \"semantic_type\": \"\",\n        \"description\": \"\"\n      }\n    }\n  ]\n}",
       "type": "dataframe"
      },
      "text/html": [
       "\n",
       "  <div id=\"df-3a096c5f-89ee-466d-9b52-7b3398ea3dab\" class=\"colab-df-container\">\n",
       "    <div>\n",
       "<style scoped>\n",
       "    .dataframe tbody tr th:only-of-type {\n",
       "        vertical-align: middle;\n",
       "    }\n",
       "\n",
       "    .dataframe tbody tr th {\n",
       "        vertical-align: top;\n",
       "    }\n",
       "\n",
       "    .dataframe thead th {\n",
       "        text-align: right;\n",
       "    }\n",
       "</style>\n",
       "<table border=\"1\" class=\"dataframe\">\n",
       "  <thead>\n",
       "    <tr style=\"text-align: right;\">\n",
       "      <th></th>\n",
       "      <th>RNASeqCluster</th>\n",
       "      <th>MethylationCluster</th>\n",
       "      <th>miRNACluster</th>\n",
       "      <th>CNCluster</th>\n",
       "      <th>RPPACluster</th>\n",
       "      <th>OncosignCluster</th>\n",
       "      <th>COCCluster</th>\n",
       "      <th>histological_type</th>\n",
       "      <th>neoplasm_histologic_grade</th>\n",
       "      <th>tumor_tissue_site</th>\n",
       "      <th>laterality</th>\n",
       "      <th>tumor_location</th>\n",
       "      <th>gender</th>\n",
       "      <th>age_at_initial_pathologic</th>\n",
       "      <th>race</th>\n",
       "      <th>ethnicity</th>\n",
       "      <th>death01</th>\n",
       "    </tr>\n",
       "  </thead>\n",
       "  <tbody>\n",
       "    <tr>\n",
       "      <th>count</th>\n",
       "      <td>92.000000</td>\n",
       "      <td>109.000000</td>\n",
       "      <td>110.000000</td>\n",
       "      <td>108.000000</td>\n",
       "      <td>98.000000</td>\n",
       "      <td>105.000000</td>\n",
       "      <td>110.000000</td>\n",
       "      <td>109.000000</td>\n",
       "      <td>109.000000</td>\n",
       "      <td>109.0</td>\n",
       "      <td>109.000000</td>\n",
       "      <td>109.000000</td>\n",
       "      <td>109.000000</td>\n",
       "      <td>109.000000</td>\n",
       "      <td>108.000000</td>\n",
       "      <td>102.000000</td>\n",
       "      <td>109.000000</td>\n",
       "    </tr>\n",
       "    <tr>\n",
       "      <th>mean</th>\n",
       "      <td>2.445652</td>\n",
       "      <td>3.678899</td>\n",
       "      <td>1.900000</td>\n",
       "      <td>1.722222</td>\n",
       "      <td>2.367347</td>\n",
       "      <td>1.895238</td>\n",
       "      <td>1.763636</td>\n",
       "      <td>2.128440</td>\n",
       "      <td>1.532110</td>\n",
       "      <td>1.0</td>\n",
       "      <td>2.009174</td>\n",
       "      <td>3.513761</td>\n",
       "      <td>1.486239</td>\n",
       "      <td>45.834862</td>\n",
       "      <td>2.907407</td>\n",
       "      <td>1.970588</td>\n",
       "      <td>0.247706</td>\n",
       "    </tr>\n",
       "    <tr>\n",
       "      <th>std</th>\n",
       "      <td>1.180092</td>\n",
       "      <td>1.169684</td>\n",
       "      <td>0.789263</td>\n",
       "      <td>0.862872</td>\n",
       "      <td>1.125045</td>\n",
       "      <td>0.663960</td>\n",
       "      <td>0.855927</td>\n",
       "      <td>0.850935</td>\n",
       "      <td>0.501273</td>\n",
       "      <td>0.0</td>\n",
       "      <td>0.995317</td>\n",
       "      <td>1.863960</td>\n",
       "      <td>0.502119</td>\n",
       "      <td>13.797151</td>\n",
       "      <td>0.291212</td>\n",
       "      <td>0.169792</td>\n",
       "      <td>0.433674</td>\n",
       "    </tr>\n",
       "    <tr>\n",
       "      <th>min</th>\n",
       "      <td>1.000000</td>\n",
       "      <td>1.000000</td>\n",
       "      <td>1.000000</td>\n",
       "      <td>1.000000</td>\n",
       "      <td>1.000000</td>\n",
       "      <td>1.000000</td>\n",
       "      <td>1.000000</td>\n",
       "      <td>1.000000</td>\n",
       "      <td>1.000000</td>\n",
       "      <td>1.0</td>\n",
       "      <td>1.000000</td>\n",
       "      <td>1.000000</td>\n",
       "      <td>1.000000</td>\n",
       "      <td>20.000000</td>\n",
       "      <td>2.000000</td>\n",
       "      <td>1.000000</td>\n",
       "      <td>0.000000</td>\n",
       "    </tr>\n",
       "    <tr>\n",
       "      <th>25%</th>\n",
       "      <td>1.000000</td>\n",
       "      <td>3.000000</td>\n",
       "      <td>1.000000</td>\n",
       "      <td>1.000000</td>\n",
       "      <td>1.000000</td>\n",
       "      <td>1.000000</td>\n",
       "      <td>1.000000</td>\n",
       "      <td>1.000000</td>\n",
       "      <td>1.000000</td>\n",
       "      <td>1.0</td>\n",
       "      <td>1.000000</td>\n",
       "      <td>2.000000</td>\n",
       "      <td>1.000000</td>\n",
       "      <td>34.000000</td>\n",
       "      <td>3.000000</td>\n",
       "      <td>2.000000</td>\n",
       "      <td>0.000000</td>\n",
       "    </tr>\n",
       "    <tr>\n",
       "      <th>50%</th>\n",
       "      <td>2.000000</td>\n",
       "      <td>4.000000</td>\n",
       "      <td>2.000000</td>\n",
       "      <td>1.000000</td>\n",
       "      <td>2.000000</td>\n",
       "      <td>2.000000</td>\n",
       "      <td>1.000000</td>\n",
       "      <td>2.000000</td>\n",
       "      <td>2.000000</td>\n",
       "      <td>1.0</td>\n",
       "      <td>2.000000</td>\n",
       "      <td>2.000000</td>\n",
       "      <td>1.000000</td>\n",
       "      <td>47.000000</td>\n",
       "      <td>3.000000</td>\n",
       "      <td>2.000000</td>\n",
       "      <td>0.000000</td>\n",
       "    </tr>\n",
       "    <tr>\n",
       "      <th>75%</th>\n",
       "      <td>4.000000</td>\n",
       "      <td>5.000000</td>\n",
       "      <td>2.000000</td>\n",
       "      <td>3.000000</td>\n",
       "      <td>3.000000</td>\n",
       "      <td>2.000000</td>\n",
       "      <td>3.000000</td>\n",
       "      <td>3.000000</td>\n",
       "      <td>2.000000</td>\n",
       "      <td>1.0</td>\n",
       "      <td>3.000000</td>\n",
       "      <td>6.000000</td>\n",
       "      <td>2.000000</td>\n",
       "      <td>58.000000</td>\n",
       "      <td>3.000000</td>\n",
       "      <td>2.000000</td>\n",
       "      <td>0.000000</td>\n",
       "    </tr>\n",
       "    <tr>\n",
       "      <th>max</th>\n",
       "      <td>4.000000</td>\n",
       "      <td>5.000000</td>\n",
       "      <td>4.000000</td>\n",
       "      <td>3.000000</td>\n",
       "      <td>4.000000</td>\n",
       "      <td>3.000000</td>\n",
       "      <td>3.000000</td>\n",
       "      <td>3.000000</td>\n",
       "      <td>2.000000</td>\n",
       "      <td>1.0</td>\n",
       "      <td>3.000000</td>\n",
       "      <td>6.000000</td>\n",
       "      <td>2.000000</td>\n",
       "      <td>75.000000</td>\n",
       "      <td>3.000000</td>\n",
       "      <td>2.000000</td>\n",
       "      <td>1.000000</td>\n",
       "    </tr>\n",
       "  </tbody>\n",
       "</table>\n",
       "</div>\n",
       "    <div class=\"colab-df-buttons\">\n",
       "\n",
       "  <div class=\"colab-df-container\">\n",
       "    <button class=\"colab-df-convert\" onclick=\"convertToInteractive('df-3a096c5f-89ee-466d-9b52-7b3398ea3dab')\"\n",
       "            title=\"Convert this dataframe to an interactive table.\"\n",
       "            style=\"display:none;\">\n",
       "\n",
       "  <svg xmlns=\"http://www.w3.org/2000/svg\" height=\"24px\" viewBox=\"0 -960 960 960\">\n",
       "    <path d=\"M120-120v-720h720v720H120Zm60-500h600v-160H180v160Zm220 220h160v-160H400v160Zm0 220h160v-160H400v160ZM180-400h160v-160H180v160Zm440 0h160v-160H620v160ZM180-180h160v-160H180v160Zm440 0h160v-160H620v160Z\"/>\n",
       "  </svg>\n",
       "    </button>\n",
       "\n",
       "  <style>\n",
       "    .colab-df-container {\n",
       "      display:flex;\n",
       "      gap: 12px;\n",
       "    }\n",
       "\n",
       "    .colab-df-convert {\n",
       "      background-color: #E8F0FE;\n",
       "      border: none;\n",
       "      border-radius: 50%;\n",
       "      cursor: pointer;\n",
       "      display: none;\n",
       "      fill: #1967D2;\n",
       "      height: 32px;\n",
       "      padding: 0 0 0 0;\n",
       "      width: 32px;\n",
       "    }\n",
       "\n",
       "    .colab-df-convert:hover {\n",
       "      background-color: #E2EBFA;\n",
       "      box-shadow: 0px 1px 2px rgba(60, 64, 67, 0.3), 0px 1px 3px 1px rgba(60, 64, 67, 0.15);\n",
       "      fill: #174EA6;\n",
       "    }\n",
       "\n",
       "    .colab-df-buttons div {\n",
       "      margin-bottom: 4px;\n",
       "    }\n",
       "\n",
       "    [theme=dark] .colab-df-convert {\n",
       "      background-color: #3B4455;\n",
       "      fill: #D2E3FC;\n",
       "    }\n",
       "\n",
       "    [theme=dark] .colab-df-convert:hover {\n",
       "      background-color: #434B5C;\n",
       "      box-shadow: 0px 1px 3px 1px rgba(0, 0, 0, 0.15);\n",
       "      filter: drop-shadow(0px 1px 2px rgba(0, 0, 0, 0.3));\n",
       "      fill: #FFFFFF;\n",
       "    }\n",
       "  </style>\n",
       "\n",
       "    <script>\n",
       "      const buttonEl =\n",
       "        document.querySelector('#df-3a096c5f-89ee-466d-9b52-7b3398ea3dab button.colab-df-convert');\n",
       "      buttonEl.style.display =\n",
       "        google.colab.kernel.accessAllowed ? 'block' : 'none';\n",
       "\n",
       "      async function convertToInteractive(key) {\n",
       "        const element = document.querySelector('#df-3a096c5f-89ee-466d-9b52-7b3398ea3dab');\n",
       "        const dataTable =\n",
       "          await google.colab.kernel.invokeFunction('convertToInteractive',\n",
       "                                                    [key], {});\n",
       "        if (!dataTable) return;\n",
       "\n",
       "        const docLinkHtml = 'Like what you see? Visit the ' +\n",
       "          '<a target=\"_blank\" href=https://colab.research.google.com/notebooks/data_table.ipynb>data table notebook</a>'\n",
       "          + ' to learn more about interactive tables.';\n",
       "        element.innerHTML = '';\n",
       "        dataTable['output_type'] = 'display_data';\n",
       "        await google.colab.output.renderOutput(dataTable, element);\n",
       "        const docLink = document.createElement('div');\n",
       "        docLink.innerHTML = docLinkHtml;\n",
       "        element.appendChild(docLink);\n",
       "      }\n",
       "    </script>\n",
       "  </div>\n",
       "\n",
       "\n",
       "    <div id=\"df-c13d352b-dd88-4858-a328-e4bceec9a86f\">\n",
       "      <button class=\"colab-df-quickchart\" onclick=\"quickchart('df-c13d352b-dd88-4858-a328-e4bceec9a86f')\"\n",
       "                title=\"Suggest charts\"\n",
       "                style=\"display:none;\">\n",
       "\n",
       "<svg xmlns=\"http://www.w3.org/2000/svg\" height=\"24px\"viewBox=\"0 0 24 24\"\n",
       "     width=\"24px\">\n",
       "    <g>\n",
       "        <path d=\"M19 3H5c-1.1 0-2 .9-2 2v14c0 1.1.9 2 2 2h14c1.1 0 2-.9 2-2V5c0-1.1-.9-2-2-2zM9 17H7v-7h2v7zm4 0h-2V7h2v10zm4 0h-2v-4h2v4z\"/>\n",
       "    </g>\n",
       "</svg>\n",
       "      </button>\n",
       "\n",
       "<style>\n",
       "  .colab-df-quickchart {\n",
       "      --bg-color: #E8F0FE;\n",
       "      --fill-color: #1967D2;\n",
       "      --hover-bg-color: #E2EBFA;\n",
       "      --hover-fill-color: #174EA6;\n",
       "      --disabled-fill-color: #AAA;\n",
       "      --disabled-bg-color: #DDD;\n",
       "  }\n",
       "\n",
       "  [theme=dark] .colab-df-quickchart {\n",
       "      --bg-color: #3B4455;\n",
       "      --fill-color: #D2E3FC;\n",
       "      --hover-bg-color: #434B5C;\n",
       "      --hover-fill-color: #FFFFFF;\n",
       "      --disabled-bg-color: #3B4455;\n",
       "      --disabled-fill-color: #666;\n",
       "  }\n",
       "\n",
       "  .colab-df-quickchart {\n",
       "    background-color: var(--bg-color);\n",
       "    border: none;\n",
       "    border-radius: 50%;\n",
       "    cursor: pointer;\n",
       "    display: none;\n",
       "    fill: var(--fill-color);\n",
       "    height: 32px;\n",
       "    padding: 0;\n",
       "    width: 32px;\n",
       "  }\n",
       "\n",
       "  .colab-df-quickchart:hover {\n",
       "    background-color: var(--hover-bg-color);\n",
       "    box-shadow: 0 1px 2px rgba(60, 64, 67, 0.3), 0 1px 3px 1px rgba(60, 64, 67, 0.15);\n",
       "    fill: var(--button-hover-fill-color);\n",
       "  }\n",
       "\n",
       "  .colab-df-quickchart-complete:disabled,\n",
       "  .colab-df-quickchart-complete:disabled:hover {\n",
       "    background-color: var(--disabled-bg-color);\n",
       "    fill: var(--disabled-fill-color);\n",
       "    box-shadow: none;\n",
       "  }\n",
       "\n",
       "  .colab-df-spinner {\n",
       "    border: 2px solid var(--fill-color);\n",
       "    border-color: transparent;\n",
       "    border-bottom-color: var(--fill-color);\n",
       "    animation:\n",
       "      spin 1s steps(1) infinite;\n",
       "  }\n",
       "\n",
       "  @keyframes spin {\n",
       "    0% {\n",
       "      border-color: transparent;\n",
       "      border-bottom-color: var(--fill-color);\n",
       "      border-left-color: var(--fill-color);\n",
       "    }\n",
       "    20% {\n",
       "      border-color: transparent;\n",
       "      border-left-color: var(--fill-color);\n",
       "      border-top-color: var(--fill-color);\n",
       "    }\n",
       "    30% {\n",
       "      border-color: transparent;\n",
       "      border-left-color: var(--fill-color);\n",
       "      border-top-color: var(--fill-color);\n",
       "      border-right-color: var(--fill-color);\n",
       "    }\n",
       "    40% {\n",
       "      border-color: transparent;\n",
       "      border-right-color: var(--fill-color);\n",
       "      border-top-color: var(--fill-color);\n",
       "    }\n",
       "    60% {\n",
       "      border-color: transparent;\n",
       "      border-right-color: var(--fill-color);\n",
       "    }\n",
       "    80% {\n",
       "      border-color: transparent;\n",
       "      border-right-color: var(--fill-color);\n",
       "      border-bottom-color: var(--fill-color);\n",
       "    }\n",
       "    90% {\n",
       "      border-color: transparent;\n",
       "      border-bottom-color: var(--fill-color);\n",
       "    }\n",
       "  }\n",
       "</style>\n",
       "\n",
       "      <script>\n",
       "        async function quickchart(key) {\n",
       "          const quickchartButtonEl =\n",
       "            document.querySelector('#' + key + ' button');\n",
       "          quickchartButtonEl.disabled = true;  // To prevent multiple clicks.\n",
       "          quickchartButtonEl.classList.add('colab-df-spinner');\n",
       "          try {\n",
       "            const charts = await google.colab.kernel.invokeFunction(\n",
       "                'suggestCharts', [key], {});\n",
       "          } catch (error) {\n",
       "            console.error('Error during call to suggestCharts:', error);\n",
       "          }\n",
       "          quickchartButtonEl.classList.remove('colab-df-spinner');\n",
       "          quickchartButtonEl.classList.add('colab-df-quickchart-complete');\n",
       "        }\n",
       "        (() => {\n",
       "          let quickchartButtonEl =\n",
       "            document.querySelector('#df-c13d352b-dd88-4858-a328-e4bceec9a86f button');\n",
       "          quickchartButtonEl.style.display =\n",
       "            google.colab.kernel.accessAllowed ? 'block' : 'none';\n",
       "        })();\n",
       "      </script>\n",
       "    </div>\n",
       "    </div>\n",
       "  </div>\n"
      ],
      "text/plain": [
       "       RNASeqCluster  MethylationCluster  miRNACluster   CNCluster  \\\n",
       "count      92.000000          109.000000    110.000000  108.000000   \n",
       "mean        2.445652            3.678899      1.900000    1.722222   \n",
       "std         1.180092            1.169684      0.789263    0.862872   \n",
       "min         1.000000            1.000000      1.000000    1.000000   \n",
       "25%         1.000000            3.000000      1.000000    1.000000   \n",
       "50%         2.000000            4.000000      2.000000    1.000000   \n",
       "75%         4.000000            5.000000      2.000000    3.000000   \n",
       "max         4.000000            5.000000      4.000000    3.000000   \n",
       "\n",
       "       RPPACluster  OncosignCluster  COCCluster  histological_type  \\\n",
       "count    98.000000       105.000000  110.000000         109.000000   \n",
       "mean      2.367347         1.895238    1.763636           2.128440   \n",
       "std       1.125045         0.663960    0.855927           0.850935   \n",
       "min       1.000000         1.000000    1.000000           1.000000   \n",
       "25%       1.000000         1.000000    1.000000           1.000000   \n",
       "50%       2.000000         2.000000    1.000000           2.000000   \n",
       "75%       3.000000         2.000000    3.000000           3.000000   \n",
       "max       4.000000         3.000000    3.000000           3.000000   \n",
       "\n",
       "       neoplasm_histologic_grade  tumor_tissue_site  laterality  \\\n",
       "count                 109.000000              109.0  109.000000   \n",
       "mean                    1.532110                1.0    2.009174   \n",
       "std                     0.501273                0.0    0.995317   \n",
       "min                     1.000000                1.0    1.000000   \n",
       "25%                     1.000000                1.0    1.000000   \n",
       "50%                     2.000000                1.0    2.000000   \n",
       "75%                     2.000000                1.0    3.000000   \n",
       "max                     2.000000                1.0    3.000000   \n",
       "\n",
       "       tumor_location      gender  age_at_initial_pathologic        race  \\\n",
       "count      109.000000  109.000000                 109.000000  108.000000   \n",
       "mean         3.513761    1.486239                  45.834862    2.907407   \n",
       "std          1.863960    0.502119                  13.797151    0.291212   \n",
       "min          1.000000    1.000000                  20.000000    2.000000   \n",
       "25%          2.000000    1.000000                  34.000000    3.000000   \n",
       "50%          2.000000    1.000000                  47.000000    3.000000   \n",
       "75%          6.000000    2.000000                  58.000000    3.000000   \n",
       "max          6.000000    2.000000                  75.000000    3.000000   \n",
       "\n",
       "        ethnicity     death01  \n",
       "count  102.000000  109.000000  \n",
       "mean     1.970588    0.247706  \n",
       "std      0.169792    0.433674  \n",
       "min      1.000000    0.000000  \n",
       "25%      2.000000    0.000000  \n",
       "50%      2.000000    0.000000  \n",
       "75%      2.000000    0.000000  \n",
       "max      2.000000    1.000000  "
      ]
     },
     "execution_count": 19,
     "metadata": {},
     "output_type": "execute_result"
    }
   ],
   "source": [
    "df.describe()"
   ]
  },
  {
   "cell_type": "code",
   "execution_count": 20,
   "id": "8fa1db1d-cae3-4f27-9ad3-49273717900a",
   "metadata": {
    "colab": {
     "base_uri": "https://localhost:8080/",
     "height": 273
    },
    "executionInfo": {
     "elapsed": 35,
     "status": "ok",
     "timestamp": 1747400998254,
     "user": {
      "displayName": "Yasin Gourkani",
      "userId": "15298842580635833110"
     },
     "user_tz": -210
    },
    "id": "8fa1db1d-cae3-4f27-9ad3-49273717900a",
    "outputId": "180332a4-bec3-4be6-9e7e-10c45d3b7b3d"
   },
   "outputs": [
    {
     "data": {
      "image/jpeg": "[encoded data removed]",
      "image/png": "[encoded data removed]",
      "text/plain": [
       "<PIL.TiffImagePlugin.TiffImageFile image mode=L size=256x256>"
      ]
     },
     "execution_count": 20,
     "metadata": {},
     "output_type": "execute_result"
    }
   ],
   "source": [
    "img = Image.open(paths[30])\n",
    "img"
   ]
  },
  {
   "cell_type": "code",
   "execution_count": 21,
   "id": "2d7ed115-c397-4a7b-b09d-9988efb1c996",
   "metadata": {
    "colab": {
     "base_uri": "https://localhost:8080/"
    },
    "executionInfo": {
     "elapsed": 33,
     "status": "ok",
     "timestamp": 1747400998254,
     "user": {
      "displayName": "Yasin Gourkani",
      "userId": "15298842580635833110"
     },
     "user_tz": -210
    },
    "id": "2d7ed115-c397-4a7b-b09d-9988efb1c996",
    "outputId": "7c2ed68b-8550-4447-f1bb-ce307b467fd0"
   },
   "outputs": [
    {
     "data": {
      "text/plain": [
       "(1, 256, 256, 'uint8', tensor(0, dtype=torch.uint8), 0)"
      ]
     },
     "execution_count": 21,
     "metadata": {},
     "output_type": "execute_result"
    }
   ],
   "source": [
    "img_t = T.functional.to_image(img)\n",
    "*img_t.shape, str(img_t.dtype).replace(\"torch.\", ''), img_t.min(), img_t.max().item()"
   ]
  },
  {
   "cell_type": "markdown",
   "id": "b39bd67e-3c9b-4224-8fb7-2c8fa208054a",
   "metadata": {
    "id": "b39bd67e-3c9b-4224-8fb7-2c8fa208054a"
   },
   "source": [
    "## Data prepration"
   ]
  },
  {
   "cell_type": "markdown",
   "id": "b78e9878-d2b3-447f-ab51-315d55d0bdfb",
   "metadata": {
    "id": "b78e9878-d2b3-447f-ab51-315d55d0bdfb"
   },
   "source": [
    "### Read data.csv"
   ]
  },
  {
   "cell_type": "code",
   "execution_count": 22,
   "id": "84467f73-8dcc-4ea3-b863-e51c13df6f56",
   "metadata": {
    "executionInfo": {
     "elapsed": 32,
     "status": "ok",
     "timestamp": 1747400998255,
     "user": {
      "displayName": "Yasin Gourkani",
      "userId": "15298842580635833110"
     },
     "user_tz": -210
    },
    "id": "84467f73-8dcc-4ea3-b863-e51c13df6f56"
   },
   "outputs": [],
   "source": [
    "df_data = pd.read_csv(path.join(dataset_root, \"data.csv\"))"
   ]
  },
  {
   "cell_type": "markdown",
   "id": "cf5ad6c7-8ad9-429e-9dfa-ab021be81ea2",
   "metadata": {
    "id": "cf5ad6c7-8ad9-429e-9dfa-ab021be81ea2"
   },
   "source": [
    "### Seperate images from their relevant masks"
   ]
  },
  {
   "cell_type": "code",
   "execution_count": 23,
   "id": "78ff242c-5729-4d37-bbb2-622c5748705b",
   "metadata": {
    "colab": {
     "base_uri": "https://localhost:8080/"
    },
    "executionInfo": {
     "elapsed": 31,
     "status": "ok",
     "timestamp": 1747400998255,
     "user": {
      "displayName": "Yasin Gourkani",
      "userId": "15298842580635833110"
     },
     "user_tz": -210
    },
    "id": "78ff242c-5729-4d37-bbb2-622c5748705b",
    "outputId": "6dc584ea-014f-4864-f275-7b3d15ae8dd3"
   },
   "outputs": [
    {
     "data": {
      "text/plain": [
       "(3929,\n",
       " 3929,\n",
       " '/content/kaggle_3m/TCGA_FG_A60K_20040224/TCGA_FG_A60K_20040224_25.tif')"
      ]
     },
     "execution_count": 23,
     "metadata": {},
     "output_type": "execute_result"
    }
   ],
   "source": [
    "images_full_path = list(filter(lambda x: not x.endswith(\"_mask.tif\"), paths))\n",
    "masks_full_path = list(filter(lambda x: x.endswith(\"_mask.tif\"), paths))\n",
    "\n",
    "len(images_full_path), len(masks_full_path), images_full_path[0]"
   ]
  },
  {
   "cell_type": "markdown",
   "id": "80b0d5fb-4735-4ba1-b673-929aa128a61e",
   "metadata": {
    "id": "80b0d5fb-4735-4ba1-b673-929aa128a61e"
   },
   "source": [
    "### Make columns (patient_id, slice, slice_path, size, dtype, max_pixel)"
   ]
  },
  {
   "cell_type": "code",
   "execution_count": 24,
   "id": "6c1c45b1-403b-4106-86cc-c8760033df13",
   "metadata": {
    "executionInfo": {
     "elapsed": 11641,
     "status": "ok",
     "timestamp": 1747401009866,
     "user": {
      "displayName": "Yasin Gourkani",
      "userId": "15298842580635833110"
     },
     "user_tz": -210
    },
    "id": "6c1c45b1-403b-4106-86cc-c8760033df13"
   },
   "outputs": [],
   "source": [
    "images_info, masks_info = [], []\n",
    "\n",
    "for img_path, msk_path in zip(images_full_path, masks_full_path):\n",
    "\n",
    "    # Image\n",
    "    img = Image.open(img_path)\n",
    "    img = T.functional.to_image(img)\n",
    "    patient_id, slice_date, slice_num = img_path.split(path.sep)[-1].replace(\".tif\", '').split('_')[-3:]\n",
    "    img_info = [patient_id, int(slice_num), slice_date, img_path, *img.shape, str(img.dtype).replace(\"torch.\", ''), img.max().item()]\n",
    "    images_info.append(img_info)\n",
    "\n",
    "    # Mask\n",
    "    msk = Image.open(msk_path)\n",
    "    msk = T.functional.to_image(msk)\n",
    "    patient_id, slice_date, slice_num = msk_path.split(path.sep)[-1].split('_')[-4:-1]\n",
    "    msk_info = [patient_id, int(slice_num), slice_date, msk_path, *msk.shape, str(img.dtype).replace(\"torch.\", ''), msk.max().item()]\n",
    "    masks_info.append(msk_info)"
   ]
  },
  {
   "cell_type": "markdown",
   "id": "31c951f9-a1db-4634-88dc-8a1b6c2e9835",
   "metadata": {
    "id": "31c951f9-a1db-4634-88dc-8a1b6c2e9835"
   },
   "source": [
    "### Create dataframe for images and their relevant masks"
   ]
  },
  {
   "cell_type": "code",
   "execution_count": 25,
   "id": "ff52e70b-4e5c-44a3-9f12-2cf2763a6b83",
   "metadata": {
    "colab": {
     "base_uri": "https://localhost:8080/",
     "height": 423
    },
    "executionInfo": {
     "elapsed": 14,
     "status": "ok",
     "timestamp": 1747401009867,
     "user": {
      "displayName": "Yasin Gourkani",
      "userId": "15298842580635833110"
     },
     "user_tz": -210
    },
    "id": "ff52e70b-4e5c-44a3-9f12-2cf2763a6b83",
    "outputId": "a002c269-f72e-4ab8-e041-cd00c8e2f4e1"
   },
   "outputs": [
    {
     "data": {
      "application/vnd.google.colaboratory.intrinsic+json": {
       "summary": "{\n  \"name\": \"df_images\",\n  \"rows\": 3929,\n  \"fields\": [\n    {\n      \"column\": \"patient_id\",\n      \"properties\": {\n        \"dtype\": \"category\",\n        \"num_unique_values\": 110,\n        \"samples\": [\n          \"7882\",\n          \"5852\",\n          \"5393\"\n        ],\n        \"semantic_type\": \"\",\n        \"description\": \"\"\n      }\n    },\n    {\n      \"column\": \"slice\",\n      \"properties\": {\n        \"dtype\": \"number\",\n        \"std\": 15,\n        \"min\": 1,\n        \"max\": 88,\n        \"num_unique_values\": 88,\n        \"samples\": [\n          77,\n          1,\n          27\n        ],\n        \"semantic_type\": \"\",\n        \"description\": \"\"\n      }\n    },\n    {\n      \"column\": \"slice_date\",\n      \"properties\": {\n        \"dtype\": \"object\",\n        \"num_unique_values\": 109,\n        \"samples\": [\n          \"19970125\",\n          \"19950709\",\n          \"19990606\"\n        ],\n        \"semantic_type\": \"\",\n        \"description\": \"\"\n      }\n    },\n    {\n      \"column\": \"slice_path\",\n      \"properties\": {\n        \"dtype\": \"string\",\n        \"num_unique_values\": 3929,\n        \"samples\": [\n          \"/content/kaggle_3m/TCGA_DU_7300_19910814/TCGA_DU_7300_19910814_19.tif\",\n          \"/content/kaggle_3m/TCGA_DU_7010_19860307/TCGA_DU_7010_19860307_41.tif\",\n          \"/content/kaggle_3m/TCGA_HT_7473_19970826/TCGA_HT_7473_19970826_22.tif\"\n        ],\n        \"semantic_type\": \"\",\n        \"description\": \"\"\n      }\n    },\n    {\n      \"column\": \"channel\",\n      \"properties\": {\n        \"dtype\": \"number\",\n        \"std\": 0,\n        \"min\": 3,\n        \"max\": 3,\n        \"num_unique_values\": 1,\n        \"samples\": [\n          3\n        ],\n        \"semantic_type\": \"\",\n        \"description\": \"\"\n      }\n    },\n    {\n      \"column\": \"width\",\n      \"properties\": {\n        \"dtype\": \"number\",\n        \"std\": 0,\n        \"min\": 256,\n        \"max\": 256,\n        \"num_unique_values\": 1,\n        \"samples\": [\n          256\n        ],\n        \"semantic_type\": \"\",\n        \"description\": \"\"\n      }\n    },\n    {\n      \"column\": \"height\",\n      \"properties\": {\n        \"dtype\": \"number\",\n        \"std\": 0,\n        \"min\": 256,\n        \"max\": 256,\n        \"num_unique_values\": 1,\n        \"samples\": [\n          256\n        ],\n        \"semantic_type\": \"\",\n        \"description\": \"\"\n      }\n    },\n    {\n      \"column\": \"sample_dtype\",\n      \"properties\": {\n        \"dtype\": \"category\",\n        \"num_unique_values\": 1,\n        \"samples\": [\n          \"uint8\"\n        ],\n        \"semantic_type\": \"\",\n        \"description\": \"\"\n      }\n    },\n    {\n      \"column\": \"max_pixel\",\n      \"properties\": {\n        \"dtype\": \"number\",\n        \"std\": 49,\n        \"min\": 3,\n        \"max\": 255,\n        \"num_unique_values\": 229,\n        \"samples\": [\n          48\n        ],\n        \"semantic_type\": \"\",\n        \"description\": \"\"\n      }\n    }\n  ]\n}",
       "type": "dataframe",
       "variable_name": "df_images"
      },
      "text/html": [
       "\n",
       "  <div id=\"df-ad8423b1-9b82-4ca7-960e-436eaca043b7\" class=\"colab-df-container\">\n",
       "    <div>\n",
       "<style scoped>\n",
       "    .dataframe tbody tr th:only-of-type {\n",
       "        vertical-align: middle;\n",
       "    }\n",
       "\n",
       "    .dataframe tbody tr th {\n",
       "        vertical-align: top;\n",
       "    }\n",
       "\n",
       "    .dataframe thead th {\n",
       "        text-align: right;\n",
       "    }\n",
       "</style>\n",
       "<table border=\"1\" class=\"dataframe\">\n",
       "  <thead>\n",
       "    <tr style=\"text-align: right;\">\n",
       "      <th></th>\n",
       "      <th>patient_id</th>\n",
       "      <th>slice</th>\n",
       "      <th>slice_date</th>\n",
       "      <th>slice_path</th>\n",
       "      <th>channel</th>\n",
       "      <th>width</th>\n",
       "      <th>height</th>\n",
       "      <th>sample_dtype</th>\n",
       "      <th>max_pixel</th>\n",
       "    </tr>\n",
       "  </thead>\n",
       "  <tbody>\n",
       "    <tr>\n",
       "      <th>1588</th>\n",
       "      <td>4941</td>\n",
       "      <td>1</td>\n",
       "      <td>19960909</td>\n",
       "      <td>/content/kaggle_3m/TCGA_CS_4941_19960909/TCGA_...</td>\n",
       "      <td>3</td>\n",
       "      <td>256</td>\n",
       "      <td>256</td>\n",
       "      <td>uint8</td>\n",
       "      <td>215</td>\n",
       "    </tr>\n",
       "    <tr>\n",
       "      <th>1604</th>\n",
       "      <td>4941</td>\n",
       "      <td>2</td>\n",
       "      <td>19960909</td>\n",
       "      <td>/content/kaggle_3m/TCGA_CS_4941_19960909/TCGA_...</td>\n",
       "      <td>3</td>\n",
       "      <td>256</td>\n",
       "      <td>256</td>\n",
       "      <td>uint8</td>\n",
       "      <td>219</td>\n",
       "    </tr>\n",
       "    <tr>\n",
       "      <th>1602</th>\n",
       "      <td>4941</td>\n",
       "      <td>3</td>\n",
       "      <td>19960909</td>\n",
       "      <td>/content/kaggle_3m/TCGA_CS_4941_19960909/TCGA_...</td>\n",
       "      <td>3</td>\n",
       "      <td>256</td>\n",
       "      <td>256</td>\n",
       "      <td>uint8</td>\n",
       "      <td>240</td>\n",
       "    </tr>\n",
       "    <tr>\n",
       "      <th>1607</th>\n",
       "      <td>4941</td>\n",
       "      <td>4</td>\n",
       "      <td>19960909</td>\n",
       "      <td>/content/kaggle_3m/TCGA_CS_4941_19960909/TCGA_...</td>\n",
       "      <td>3</td>\n",
       "      <td>256</td>\n",
       "      <td>256</td>\n",
       "      <td>uint8</td>\n",
       "      <td>255</td>\n",
       "    </tr>\n",
       "    <tr>\n",
       "      <th>1594</th>\n",
       "      <td>4941</td>\n",
       "      <td>5</td>\n",
       "      <td>19960909</td>\n",
       "      <td>/content/kaggle_3m/TCGA_CS_4941_19960909/TCGA_...</td>\n",
       "      <td>3</td>\n",
       "      <td>256</td>\n",
       "      <td>256</td>\n",
       "      <td>uint8</td>\n",
       "      <td>255</td>\n",
       "    </tr>\n",
       "    <tr>\n",
       "      <th>...</th>\n",
       "      <td>...</td>\n",
       "      <td>...</td>\n",
       "      <td>...</td>\n",
       "      <td>...</td>\n",
       "      <td>...</td>\n",
       "      <td>...</td>\n",
       "      <td>...</td>\n",
       "      <td>...</td>\n",
       "      <td>...</td>\n",
       "    </tr>\n",
       "    <tr>\n",
       "      <th>2219</th>\n",
       "      <td>A61B</td>\n",
       "      <td>84</td>\n",
       "      <td>19991127</td>\n",
       "      <td>/content/kaggle_3m/TCGA_HT_A61B_19991127/TCGA_...</td>\n",
       "      <td>3</td>\n",
       "      <td>256</td>\n",
       "      <td>256</td>\n",
       "      <td>uint8</td>\n",
       "      <td>8</td>\n",
       "    </tr>\n",
       "    <tr>\n",
       "      <th>2202</th>\n",
       "      <td>A61B</td>\n",
       "      <td>85</td>\n",
       "      <td>19991127</td>\n",
       "      <td>/content/kaggle_3m/TCGA_HT_A61B_19991127/TCGA_...</td>\n",
       "      <td>3</td>\n",
       "      <td>256</td>\n",
       "      <td>256</td>\n",
       "      <td>uint8</td>\n",
       "      <td>8</td>\n",
       "    </tr>\n",
       "    <tr>\n",
       "      <th>2254</th>\n",
       "      <td>A61B</td>\n",
       "      <td>86</td>\n",
       "      <td>19991127</td>\n",
       "      <td>/content/kaggle_3m/TCGA_HT_A61B_19991127/TCGA_...</td>\n",
       "      <td>3</td>\n",
       "      <td>256</td>\n",
       "      <td>256</td>\n",
       "      <td>uint8</td>\n",
       "      <td>9</td>\n",
       "    </tr>\n",
       "    <tr>\n",
       "      <th>2263</th>\n",
       "      <td>A61B</td>\n",
       "      <td>87</td>\n",
       "      <td>19991127</td>\n",
       "      <td>/content/kaggle_3m/TCGA_HT_A61B_19991127/TCGA_...</td>\n",
       "      <td>3</td>\n",
       "      <td>256</td>\n",
       "      <td>256</td>\n",
       "      <td>uint8</td>\n",
       "      <td>8</td>\n",
       "    </tr>\n",
       "    <tr>\n",
       "      <th>2182</th>\n",
       "      <td>A61B</td>\n",
       "      <td>88</td>\n",
       "      <td>19991127</td>\n",
       "      <td>/content/kaggle_3m/TCGA_HT_A61B_19991127/TCGA_...</td>\n",
       "      <td>3</td>\n",
       "      <td>256</td>\n",
       "      <td>256</td>\n",
       "      <td>uint8</td>\n",
       "      <td>8</td>\n",
       "    </tr>\n",
       "  </tbody>\n",
       "</table>\n",
       "<p>3929 rows × 9 columns</p>\n",
       "</div>\n",
       "    <div class=\"colab-df-buttons\">\n",
       "\n",
       "  <div class=\"colab-df-container\">\n",
       "    <button class=\"colab-df-convert\" onclick=\"convertToInteractive('df-ad8423b1-9b82-4ca7-960e-436eaca043b7')\"\n",
       "            title=\"Convert this dataframe to an interactive table.\"\n",
       "            style=\"display:none;\">\n",
       "\n",
       "  <svg xmlns=\"http://www.w3.org/2000/svg\" height=\"24px\" viewBox=\"0 -960 960 960\">\n",
       "    <path d=\"M120-120v-720h720v720H120Zm60-500h600v-160H180v160Zm220 220h160v-160H400v160Zm0 220h160v-160H400v160ZM180-400h160v-160H180v160Zm440 0h160v-160H620v160ZM180-180h160v-160H180v160Zm440 0h160v-160H620v160Z\"/>\n",
       "  </svg>\n",
       "    </button>\n",
       "\n",
       "  <style>\n",
       "    .colab-df-container {\n",
       "      display:flex;\n",
       "      gap: 12px;\n",
       "    }\n",
       "\n",
       "    .colab-df-convert {\n",
       "      background-color: #E8F0FE;\n",
       "      border: none;\n",
       "      border-radius: 50%;\n",
       "      cursor: pointer;\n",
       "      display: none;\n",
       "      fill: #1967D2;\n",
       "      height: 32px;\n",
       "      padding: 0 0 0 0;\n",
       "      width: 32px;\n",
       "    }\n",
       "\n",
       "    .colab-df-convert:hover {\n",
       "      background-color: #E2EBFA;\n",
       "      box-shadow: 0px 1px 2px rgba(60, 64, 67, 0.3), 0px 1px 3px 1px rgba(60, 64, 67, 0.15);\n",
       "      fill: #174EA6;\n",
       "    }\n",
       "\n",
       "    .colab-df-buttons div {\n",
       "      margin-bottom: 4px;\n",
       "    }\n",
       "\n",
       "    [theme=dark] .colab-df-convert {\n",
       "      background-color: #3B4455;\n",
       "      fill: #D2E3FC;\n",
       "    }\n",
       "\n",
       "    [theme=dark] .colab-df-convert:hover {\n",
       "      background-color: #434B5C;\n",
       "      box-shadow: 0px 1px 3px 1px rgba(0, 0, 0, 0.15);\n",
       "      filter: drop-shadow(0px 1px 2px rgba(0, 0, 0, 0.3));\n",
       "      fill: #FFFFFF;\n",
       "    }\n",
       "  </style>\n",
       "\n",
       "    <script>\n",
       "      const buttonEl =\n",
       "        document.querySelector('#df-ad8423b1-9b82-4ca7-960e-436eaca043b7 button.colab-df-convert');\n",
       "      buttonEl.style.display =\n",
       "        google.colab.kernel.accessAllowed ? 'block' : 'none';\n",
       "\n",
       "      async function convertToInteractive(key) {\n",
       "        const element = document.querySelector('#df-ad8423b1-9b82-4ca7-960e-436eaca043b7');\n",
       "        const dataTable =\n",
       "          await google.colab.kernel.invokeFunction('convertToInteractive',\n",
       "                                                    [key], {});\n",
       "        if (!dataTable) return;\n",
       "\n",
       "        const docLinkHtml = 'Like what you see? Visit the ' +\n",
       "          '<a target=\"_blank\" href=https://colab.research.google.com/notebooks/data_table.ipynb>data table notebook</a>'\n",
       "          + ' to learn more about interactive tables.';\n",
       "        element.innerHTML = '';\n",
       "        dataTable['output_type'] = 'display_data';\n",
       "        await google.colab.output.renderOutput(dataTable, element);\n",
       "        const docLink = document.createElement('div');\n",
       "        docLink.innerHTML = docLinkHtml;\n",
       "        element.appendChild(docLink);\n",
       "      }\n",
       "    </script>\n",
       "  </div>\n",
       "\n",
       "\n",
       "    <div id=\"df-fe9b2fd1-df39-4d6a-acf4-dfb452215331\">\n",
       "      <button class=\"colab-df-quickchart\" onclick=\"quickchart('df-fe9b2fd1-df39-4d6a-acf4-dfb452215331')\"\n",
       "                title=\"Suggest charts\"\n",
       "                style=\"display:none;\">\n",
       "\n",
       "<svg xmlns=\"http://www.w3.org/2000/svg\" height=\"24px\"viewBox=\"0 0 24 24\"\n",
       "     width=\"24px\">\n",
       "    <g>\n",
       "        <path d=\"M19 3H5c-1.1 0-2 .9-2 2v14c0 1.1.9 2 2 2h14c1.1 0 2-.9 2-2V5c0-1.1-.9-2-2-2zM9 17H7v-7h2v7zm4 0h-2V7h2v10zm4 0h-2v-4h2v4z\"/>\n",
       "    </g>\n",
       "</svg>\n",
       "      </button>\n",
       "\n",
       "<style>\n",
       "  .colab-df-quickchart {\n",
       "      --bg-color: #E8F0FE;\n",
       "      --fill-color: #1967D2;\n",
       "      --hover-bg-color: #E2EBFA;\n",
       "      --hover-fill-color: #174EA6;\n",
       "      --disabled-fill-color: #AAA;\n",
       "      --disabled-bg-color: #DDD;\n",
       "  }\n",
       "\n",
       "  [theme=dark] .colab-df-quickchart {\n",
       "      --bg-color: #3B4455;\n",
       "      --fill-color: #D2E3FC;\n",
       "      --hover-bg-color: #434B5C;\n",
       "      --hover-fill-color: #FFFFFF;\n",
       "      --disabled-bg-color: #3B4455;\n",
       "      --disabled-fill-color: #666;\n",
       "  }\n",
       "\n",
       "  .colab-df-quickchart {\n",
       "    background-color: var(--bg-color);\n",
       "    border: none;\n",
       "    border-radius: 50%;\n",
       "    cursor: pointer;\n",
       "    display: none;\n",
       "    fill: var(--fill-color);\n",
       "    height: 32px;\n",
       "    padding: 0;\n",
       "    width: 32px;\n",
       "  }\n",
       "\n",
       "  .colab-df-quickchart:hover {\n",
       "    background-color: var(--hover-bg-color);\n",
       "    box-shadow: 0 1px 2px rgba(60, 64, 67, 0.3), 0 1px 3px 1px rgba(60, 64, 67, 0.15);\n",
       "    fill: var(--button-hover-fill-color);\n",
       "  }\n",
       "\n",
       "  .colab-df-quickchart-complete:disabled,\n",
       "  .colab-df-quickchart-complete:disabled:hover {\n",
       "    background-color: var(--disabled-bg-color);\n",
       "    fill: var(--disabled-fill-color);\n",
       "    box-shadow: none;\n",
       "  }\n",
       "\n",
       "  .colab-df-spinner {\n",
       "    border: 2px solid var(--fill-color);\n",
       "    border-color: transparent;\n",
       "    border-bottom-color: var(--fill-color);\n",
       "    animation:\n",
       "      spin 1s steps(1) infinite;\n",
       "  }\n",
       "\n",
       "  @keyframes spin {\n",
       "    0% {\n",
       "      border-color: transparent;\n",
       "      border-bottom-color: var(--fill-color);\n",
       "      border-left-color: var(--fill-color);\n",
       "    }\n",
       "    20% {\n",
       "      border-color: transparent;\n",
       "      border-left-color: var(--fill-color);\n",
       "      border-top-color: var(--fill-color);\n",
       "    }\n",
       "    30% {\n",
       "      border-color: transparent;\n",
       "      border-left-color: var(--fill-color);\n",
       "      border-top-color: var(--fill-color);\n",
       "      border-right-color: var(--fill-color);\n",
       "    }\n",
       "    40% {\n",
       "      border-color: transparent;\n",
       "      border-right-color: var(--fill-color);\n",
       "      border-top-color: var(--fill-color);\n",
       "    }\n",
       "    60% {\n",
       "      border-color: transparent;\n",
       "      border-right-color: var(--fill-color);\n",
       "    }\n",
       "    80% {\n",
       "      border-color: transparent;\n",
       "      border-right-color: var(--fill-color);\n",
       "      border-bottom-color: var(--fill-color);\n",
       "    }\n",
       "    90% {\n",
       "      border-color: transparent;\n",
       "      border-bottom-color: var(--fill-color);\n",
       "    }\n",
       "  }\n",
       "</style>\n",
       "\n",
       "      <script>\n",
       "        async function quickchart(key) {\n",
       "          const quickchartButtonEl =\n",
       "            document.querySelector('#' + key + ' button');\n",
       "          quickchartButtonEl.disabled = true;  // To prevent multiple clicks.\n",
       "          quickchartButtonEl.classList.add('colab-df-spinner');\n",
       "          try {\n",
       "            const charts = await google.colab.kernel.invokeFunction(\n",
       "                'suggestCharts', [key], {});\n",
       "          } catch (error) {\n",
       "            console.error('Error during call to suggestCharts:', error);\n",
       "          }\n",
       "          quickchartButtonEl.classList.remove('colab-df-spinner');\n",
       "          quickchartButtonEl.classList.add('colab-df-quickchart-complete');\n",
       "        }\n",
       "        (() => {\n",
       "          let quickchartButtonEl =\n",
       "            document.querySelector('#df-fe9b2fd1-df39-4d6a-acf4-dfb452215331 button');\n",
       "          quickchartButtonEl.style.display =\n",
       "            google.colab.kernel.accessAllowed ? 'block' : 'none';\n",
       "        })();\n",
       "      </script>\n",
       "    </div>\n",
       "    </div>\n",
       "  </div>\n"
      ],
      "text/plain": [
       "     patient_id  slice slice_date  \\\n",
       "1588       4941      1   19960909   \n",
       "1604       4941      2   19960909   \n",
       "1602       4941      3   19960909   \n",
       "1607       4941      4   19960909   \n",
       "1594       4941      5   19960909   \n",
       "...         ...    ...        ...   \n",
       "2219       A61B     84   19991127   \n",
       "2202       A61B     85   19991127   \n",
       "2254       A61B     86   19991127   \n",
       "2263       A61B     87   19991127   \n",
       "2182       A61B     88   19991127   \n",
       "\n",
       "                                             slice_path  channel  width  \\\n",
       "1588  /content/kaggle_3m/TCGA_CS_4941_19960909/TCGA_...        3    256   \n",
       "1604  /content/kaggle_3m/TCGA_CS_4941_19960909/TCGA_...        3    256   \n",
       "1602  /content/kaggle_3m/TCGA_CS_4941_19960909/TCGA_...        3    256   \n",
       "1607  /content/kaggle_3m/TCGA_CS_4941_19960909/TCGA_...        3    256   \n",
       "1594  /content/kaggle_3m/TCGA_CS_4941_19960909/TCGA_...        3    256   \n",
       "...                                                 ...      ...    ...   \n",
       "2219  /content/kaggle_3m/TCGA_HT_A61B_19991127/TCGA_...        3    256   \n",
       "2202  /content/kaggle_3m/TCGA_HT_A61B_19991127/TCGA_...        3    256   \n",
       "2254  /content/kaggle_3m/TCGA_HT_A61B_19991127/TCGA_...        3    256   \n",
       "2263  /content/kaggle_3m/TCGA_HT_A61B_19991127/TCGA_...        3    256   \n",
       "2182  /content/kaggle_3m/TCGA_HT_A61B_19991127/TCGA_...        3    256   \n",
       "\n",
       "      height sample_dtype  max_pixel  \n",
       "1588     256        uint8        215  \n",
       "1604     256        uint8        219  \n",
       "1602     256        uint8        240  \n",
       "1607     256        uint8        255  \n",
       "1594     256        uint8        255  \n",
       "...      ...          ...        ...  \n",
       "2219     256        uint8          8  \n",
       "2202     256        uint8          8  \n",
       "2254     256        uint8          9  \n",
       "2263     256        uint8          8  \n",
       "2182     256        uint8          8  \n",
       "\n",
       "[3929 rows x 9 columns]"
      ]
     },
     "execution_count": 25,
     "metadata": {},
     "output_type": "execute_result"
    }
   ],
   "source": [
    "columns_name = [\"patient_id\", \"slice\", \"slice_date\", \"slice_path\", \"channel\", \"width\", \"height\", \"sample_dtype\", \"max_pixel\"]\n",
    "\n",
    "df_images = pd.DataFrame(images_info, columns=columns_name).sort_values([\"patient_id\", \"slice\"])\n",
    "df_masks = pd.DataFrame(masks_info, columns=columns_name).sort_values([\"patient_id\", \"slice\"])\n",
    "\n",
    "df_images"
   ]
  },
  {
   "cell_type": "markdown",
   "id": "ab947ab7-59c1-41f5-9dec-bbe53cb82433",
   "metadata": {
    "id": "ab947ab7-59c1-41f5-9dec-bbe53cb82433"
   },
   "source": [
    "## Create a GIF from a patient's scans"
   ]
  },
  {
   "cell_type": "code",
   "execution_count": 26,
   "id": "7a137501-31d9-405e-9970-f44c5c449dbd",
   "metadata": {
    "executionInfo": {
     "elapsed": 5402,
     "status": "ok",
     "timestamp": 1747401015258,
     "user": {
      "displayName": "Yasin Gourkani",
      "userId": "15298842580635833110"
     },
     "user_tz": -210
    },
    "id": "7a137501-31d9-405e-9970-f44c5c449dbd"
   },
   "outputs": [],
   "source": [
    "patient_id = \"7881\"\n",
    "\n",
    "visual_img = df_images[df_images.patient_id == patient_id]\n",
    "visual_msk = df_masks[df_masks.patient_id == patient_id]\n",
    "\n",
    "imgs = []\n",
    "\n",
    "for i, (img, msk) in enumerate(zip(visual_img.values, visual_msk.values)):\n",
    "    img = Image.open(img[3])\n",
    "    msk = Image.open(msk[3])\n",
    "\n",
    "    res = ImageChops.add(img, msk.convert(\"RGB\"))\n",
    "    imgs.append(res)\n",
    "\n",
    "makedirs(path.join(getcwd(), \"images\", \"gifs\"), exist_ok=True)\n",
    "mimsave(path.join(getcwd(), \"images\", \"gifs\", f\"{patient_id}.gif\"), imgs, duration=100, loop=0)"
   ]
  },
  {
   "cell_type": "markdown",
   "id": "6fb3c38c-583c-451a-8ac1-fadd9d734cf9",
   "metadata": {
    "id": "6fb3c38c-583c-451a-8ac1-fadd9d734cf9"
   },
   "source": [
    "## EDA"
   ]
  },
  {
   "cell_type": "markdown",
   "id": "e9df4242-2a47-43de-ab04-e70192d00c70",
   "metadata": {
    "id": "e9df4242-2a47-43de-ab04-e70192d00c70"
   },
   "source": [
    "### data.csv dataframe (Additional information of all patients)"
   ]
  },
  {
   "cell_type": "markdown",
   "id": "c264e463-255b-4796-899c-fb9a16d2cc43",
   "metadata": {
    "id": "c264e463-255b-4796-899c-fb9a16d2cc43"
   },
   "source": [
    "#### Gender"
   ]
  },
  {
   "cell_type": "code",
   "execution_count": 27,
   "id": "7043a387-b7ae-44ac-bf53-e7bb356645ed",
   "metadata": {
    "colab": {
     "base_uri": "https://localhost:8080/",
     "height": 452
    },
    "executionInfo": {
     "elapsed": 74,
     "status": "ok",
     "timestamp": 1747401015259,
     "user": {
      "displayName": "Yasin Gourkani",
      "userId": "15298842580635833110"
     },
     "user_tz": -210
    },
    "id": "7043a387-b7ae-44ac-bf53-e7bb356645ed",
    "outputId": "e20b149d-9791-423d-ae00-7b40d330752a"
   },
   "outputs": [
    {
     "data": {
      "image/png": "[encoded data removed]",
      "text/plain": [
       "<Figure size 640x480 with 1 Axes>"
      ]
     },
     "metadata": {},
     "output_type": "display_data"
    }
   ],
   "source": [
    "df_data.gender.plot(kind=\"hist\", title=\"Gender\");"
   ]
  },
  {
   "cell_type": "markdown",
   "id": "e7108124-1d20-46d6-9d9c-e0d893c5e4b2",
   "metadata": {
    "id": "e7108124-1d20-46d6-9d9c-e0d893c5e4b2"
   },
   "source": [
    "#### Age at initial pathologic"
   ]
  },
  {
   "cell_type": "code",
   "execution_count": 28,
   "id": "4de4bd45-b2a1-4b83-83a0-0501d5f9bbec",
   "metadata": {
    "colab": {
     "base_uri": "https://localhost:8080/",
     "height": 452
    },
    "executionInfo": {
     "elapsed": 69,
     "status": "ok",
     "timestamp": 1747401015259,
     "user": {
      "displayName": "Yasin Gourkani",
      "userId": "15298842580635833110"
     },
     "user_tz": -210
    },
    "id": "4de4bd45-b2a1-4b83-83a0-0501d5f9bbec",
    "outputId": "68d2ab23-4626-43a1-ca58-c8f4ecd38863"
   },
   "outputs": [
    {
     "data": {
      "image/png": "[encoded data removed]",
      "text/plain": [
       "<Figure size 640x480 with 1 Axes>"
      ]
     },
     "metadata": {},
     "output_type": "display_data"
    }
   ],
   "source": [
    "df_data.age_at_initial_pathologic.plot(kind=\"hist\", title=\"Age\", bins=30);"
   ]
  },
  {
   "cell_type": "markdown",
   "id": "9f997c42-d119-4c20-932d-35590bd29e22",
   "metadata": {
    "id": "9f997c42-d119-4c20-932d-35590bd29e22"
   },
   "source": [
    "#### Race"
   ]
  },
  {
   "cell_type": "code",
   "execution_count": 29,
   "id": "ed8a0753-2019-4336-9772-23926aa2d5cf",
   "metadata": {
    "colab": {
     "base_uri": "https://localhost:8080/",
     "height": 452
    },
    "executionInfo": {
     "elapsed": 66,
     "status": "ok",
     "timestamp": 1747401015260,
     "user": {
      "displayName": "Yasin Gourkani",
      "userId": "15298842580635833110"
     },
     "user_tz": -210
    },
    "id": "ed8a0753-2019-4336-9772-23926aa2d5cf",
    "outputId": "b505c7fa-3d59-469c-845b-0d426e4b8cf1"
   },
   "outputs": [
    {
     "data": {
      "image/png": "[encoded data removed]",
      "text/plain": [
       "<Figure size 640x480 with 1 Axes>"
      ]
     },
     "metadata": {},
     "output_type": "display_data"
    }
   ],
   "source": [
    "df_data.race.plot(kind=\"hist\", title=\"Race\");"
   ]
  },
  {
   "cell_type": "markdown",
   "id": "a52f6542-9c7f-4895-8329-356965f9d78c",
   "metadata": {
    "id": "a52f6542-9c7f-4895-8329-356965f9d78c"
   },
   "source": [
    "#### Ethnicity"
   ]
  },
  {
   "cell_type": "code",
   "execution_count": 30,
   "id": "c04a53fb-4c21-4cff-b231-20dd07c1e269",
   "metadata": {
    "colab": {
     "base_uri": "https://localhost:8080/",
     "height": 452
    },
    "executionInfo": {
     "elapsed": 64,
     "status": "ok",
     "timestamp": 1747401015260,
     "user": {
      "displayName": "Yasin Gourkani",
      "userId": "15298842580635833110"
     },
     "user_tz": -210
    },
    "id": "c04a53fb-4c21-4cff-b231-20dd07c1e269",
    "outputId": "25c8d44d-aad9-4583-8514-ac49fc7fb735"
   },
   "outputs": [
    {
     "data": {
      "image/png": "[encoded data removed]",
      "text/plain": [
       "<Figure size 640x480 with 1 Axes>"
      ]
     },
     "metadata": {},
     "output_type": "display_data"
    }
   ],
   "source": [
    "df_data.ethnicity.plot(kind=\"hist\", title=\"Ethnicity\");"
   ]
  },
  {
   "cell_type": "markdown",
   "id": "9d0d3ab5-caad-4b03-b314-c94fe186fe4e",
   "metadata": {
    "id": "9d0d3ab5-caad-4b03-b314-c94fe186fe4e"
   },
   "source": [
    "#### Death Status"
   ]
  },
  {
   "cell_type": "code",
   "execution_count": 31,
   "id": "6dbd588b-eb8a-4ac6-a910-bcd29ed27d7e",
   "metadata": {
    "colab": {
     "base_uri": "https://localhost:8080/",
     "height": 452
    },
    "executionInfo": {
     "elapsed": 64,
     "status": "ok",
     "timestamp": 1747401015261,
     "user": {
      "displayName": "Yasin Gourkani",
      "userId": "15298842580635833110"
     },
     "user_tz": -210
    },
    "id": "6dbd588b-eb8a-4ac6-a910-bcd29ed27d7e",
    "outputId": "2875665d-679c-473e-ed0b-9cde4a31ad05"
   },
   "outputs": [
    {
     "data": {
      "image/png": "[encoded data removed]",
      "text/plain": [
       "<Figure size 640x480 with 1 Axes>"
      ]
     },
     "metadata": {},
     "output_type": "display_data"
    }
   ],
   "source": [
    "df_data.death01.plot(kind=\"hist\", title=\"Death Status\");"
   ]
  },
  {
   "cell_type": "markdown",
   "id": "62202daf-6a4f-47c2-b7a0-7e42d9418e23",
   "metadata": {
    "id": "62202daf-6a4f-47c2-b7a0-7e42d9418e23"
   },
   "source": [
    "### Images dataframe"
   ]
  },
  {
   "cell_type": "code",
   "execution_count": 32,
   "id": "11f69856-4015-4bbe-9018-510c0417ccb8",
   "metadata": {
    "colab": {
     "base_uri": "https://localhost:8080/",
     "height": 423
    },
    "executionInfo": {
     "elapsed": 62,
     "status": "ok",
     "timestamp": 1747401015261,
     "user": {
      "displayName": "Yasin Gourkani",
      "userId": "15298842580635833110"
     },
     "user_tz": -210
    },
    "id": "11f69856-4015-4bbe-9018-510c0417ccb8",
    "outputId": "8943ea19-e7df-46aa-bb88-def7946fb482"
   },
   "outputs": [
    {
     "data": {
      "application/vnd.google.colaboratory.intrinsic+json": {
       "summary": "{\n  \"name\": \"df_images\",\n  \"rows\": 3929,\n  \"fields\": [\n    {\n      \"column\": \"patient_id\",\n      \"properties\": {\n        \"dtype\": \"category\",\n        \"num_unique_values\": 110,\n        \"samples\": [\n          \"7882\",\n          \"5852\",\n          \"5393\"\n        ],\n        \"semantic_type\": \"\",\n        \"description\": \"\"\n      }\n    },\n    {\n      \"column\": \"slice\",\n      \"properties\": {\n        \"dtype\": \"number\",\n        \"std\": 15,\n        \"min\": 1,\n        \"max\": 88,\n        \"num_unique_values\": 88,\n        \"samples\": [\n          77,\n          1,\n          27\n        ],\n        \"semantic_type\": \"\",\n        \"description\": \"\"\n      }\n    },\n    {\n      \"column\": \"slice_date\",\n      \"properties\": {\n        \"dtype\": \"object\",\n        \"num_unique_values\": 109,\n        \"samples\": [\n          \"19970125\",\n          \"19950709\",\n          \"19990606\"\n        ],\n        \"semantic_type\": \"\",\n        \"description\": \"\"\n      }\n    },\n    {\n      \"column\": \"slice_path\",\n      \"properties\": {\n        \"dtype\": \"string\",\n        \"num_unique_values\": 3929,\n        \"samples\": [\n          \"/content/kaggle_3m/TCGA_DU_7300_19910814/TCGA_DU_7300_19910814_19.tif\",\n          \"/content/kaggle_3m/TCGA_DU_7010_19860307/TCGA_DU_7010_19860307_41.tif\",\n          \"/content/kaggle_3m/TCGA_HT_7473_19970826/TCGA_HT_7473_19970826_22.tif\"\n        ],\n        \"semantic_type\": \"\",\n        \"description\": \"\"\n      }\n    },\n    {\n      \"column\": \"channel\",\n      \"properties\": {\n        \"dtype\": \"number\",\n        \"std\": 0,\n        \"min\": 3,\n        \"max\": 3,\n        \"num_unique_values\": 1,\n        \"samples\": [\n          3\n        ],\n        \"semantic_type\": \"\",\n        \"description\": \"\"\n      }\n    },\n    {\n      \"column\": \"width\",\n      \"properties\": {\n        \"dtype\": \"number\",\n        \"std\": 0,\n        \"min\": 256,\n        \"max\": 256,\n        \"num_unique_values\": 1,\n        \"samples\": [\n          256\n        ],\n        \"semantic_type\": \"\",\n        \"description\": \"\"\n      }\n    },\n    {\n      \"column\": \"height\",\n      \"properties\": {\n        \"dtype\": \"number\",\n        \"std\": 0,\n        \"min\": 256,\n        \"max\": 256,\n        \"num_unique_values\": 1,\n        \"samples\": [\n          256\n        ],\n        \"semantic_type\": \"\",\n        \"description\": \"\"\n      }\n    },\n    {\n      \"column\": \"sample_dtype\",\n      \"properties\": {\n        \"dtype\": \"category\",\n        \"num_unique_values\": 1,\n        \"samples\": [\n          \"uint8\"\n        ],\n        \"semantic_type\": \"\",\n        \"description\": \"\"\n      }\n    },\n    {\n      \"column\": \"max_pixel\",\n      \"properties\": {\n        \"dtype\": \"number\",\n        \"std\": 49,\n        \"min\": 3,\n        \"max\": 255,\n        \"num_unique_values\": 229,\n        \"samples\": [\n          48\n        ],\n        \"semantic_type\": \"\",\n        \"description\": \"\"\n      }\n    }\n  ]\n}",
       "type": "dataframe",
       "variable_name": "df_images"
      },
      "text/html": [
       "\n",
       "  <div id=\"df-2b239568-dc91-48ec-adda-57226dd507ac\" class=\"colab-df-container\">\n",
       "    <div>\n",
       "<style scoped>\n",
       "    .dataframe tbody tr th:only-of-type {\n",
       "        vertical-align: middle;\n",
       "    }\n",
       "\n",
       "    .dataframe tbody tr th {\n",
       "        vertical-align: top;\n",
       "    }\n",
       "\n",
       "    .dataframe thead th {\n",
       "        text-align: right;\n",
       "    }\n",
       "</style>\n",
       "<table border=\"1\" class=\"dataframe\">\n",
       "  <thead>\n",
       "    <tr style=\"text-align: right;\">\n",
       "      <th></th>\n",
       "      <th>patient_id</th>\n",
       "      <th>slice</th>\n",
       "      <th>slice_date</th>\n",
       "      <th>slice_path</th>\n",
       "      <th>channel</th>\n",
       "      <th>width</th>\n",
       "      <th>height</th>\n",
       "      <th>sample_dtype</th>\n",
       "      <th>max_pixel</th>\n",
       "    </tr>\n",
       "  </thead>\n",
       "  <tbody>\n",
       "    <tr>\n",
       "      <th>1588</th>\n",
       "      <td>4941</td>\n",
       "      <td>1</td>\n",
       "      <td>19960909</td>\n",
       "      <td>/content/kaggle_3m/TCGA_CS_4941_19960909/TCGA_...</td>\n",
       "      <td>3</td>\n",
       "      <td>256</td>\n",
       "      <td>256</td>\n",
       "      <td>uint8</td>\n",
       "      <td>215</td>\n",
       "    </tr>\n",
       "    <tr>\n",
       "      <th>1604</th>\n",
       "      <td>4941</td>\n",
       "      <td>2</td>\n",
       "      <td>19960909</td>\n",
       "      <td>/content/kaggle_3m/TCGA_CS_4941_19960909/TCGA_...</td>\n",
       "      <td>3</td>\n",
       "      <td>256</td>\n",
       "      <td>256</td>\n",
       "      <td>uint8</td>\n",
       "      <td>219</td>\n",
       "    </tr>\n",
       "    <tr>\n",
       "      <th>1602</th>\n",
       "      <td>4941</td>\n",
       "      <td>3</td>\n",
       "      <td>19960909</td>\n",
       "      <td>/content/kaggle_3m/TCGA_CS_4941_19960909/TCGA_...</td>\n",
       "      <td>3</td>\n",
       "      <td>256</td>\n",
       "      <td>256</td>\n",
       "      <td>uint8</td>\n",
       "      <td>240</td>\n",
       "    </tr>\n",
       "    <tr>\n",
       "      <th>1607</th>\n",
       "      <td>4941</td>\n",
       "      <td>4</td>\n",
       "      <td>19960909</td>\n",
       "      <td>/content/kaggle_3m/TCGA_CS_4941_19960909/TCGA_...</td>\n",
       "      <td>3</td>\n",
       "      <td>256</td>\n",
       "      <td>256</td>\n",
       "      <td>uint8</td>\n",
       "      <td>255</td>\n",
       "    </tr>\n",
       "    <tr>\n",
       "      <th>1594</th>\n",
       "      <td>4941</td>\n",
       "      <td>5</td>\n",
       "      <td>19960909</td>\n",
       "      <td>/content/kaggle_3m/TCGA_CS_4941_19960909/TCGA_...</td>\n",
       "      <td>3</td>\n",
       "      <td>256</td>\n",
       "      <td>256</td>\n",
       "      <td>uint8</td>\n",
       "      <td>255</td>\n",
       "    </tr>\n",
       "    <tr>\n",
       "      <th>...</th>\n",
       "      <td>...</td>\n",
       "      <td>...</td>\n",
       "      <td>...</td>\n",
       "      <td>...</td>\n",
       "      <td>...</td>\n",
       "      <td>...</td>\n",
       "      <td>...</td>\n",
       "      <td>...</td>\n",
       "      <td>...</td>\n",
       "    </tr>\n",
       "    <tr>\n",
       "      <th>2219</th>\n",
       "      <td>A61B</td>\n",
       "      <td>84</td>\n",
       "      <td>19991127</td>\n",
       "      <td>/content/kaggle_3m/TCGA_HT_A61B_19991127/TCGA_...</td>\n",
       "      <td>3</td>\n",
       "      <td>256</td>\n",
       "      <td>256</td>\n",
       "      <td>uint8</td>\n",
       "      <td>8</td>\n",
       "    </tr>\n",
       "    <tr>\n",
       "      <th>2202</th>\n",
       "      <td>A61B</td>\n",
       "      <td>85</td>\n",
       "      <td>19991127</td>\n",
       "      <td>/content/kaggle_3m/TCGA_HT_A61B_19991127/TCGA_...</td>\n",
       "      <td>3</td>\n",
       "      <td>256</td>\n",
       "      <td>256</td>\n",
       "      <td>uint8</td>\n",
       "      <td>8</td>\n",
       "    </tr>\n",
       "    <tr>\n",
       "      <th>2254</th>\n",
       "      <td>A61B</td>\n",
       "      <td>86</td>\n",
       "      <td>19991127</td>\n",
       "      <td>/content/kaggle_3m/TCGA_HT_A61B_19991127/TCGA_...</td>\n",
       "      <td>3</td>\n",
       "      <td>256</td>\n",
       "      <td>256</td>\n",
       "      <td>uint8</td>\n",
       "      <td>9</td>\n",
       "    </tr>\n",
       "    <tr>\n",
       "      <th>2263</th>\n",
       "      <td>A61B</td>\n",
       "      <td>87</td>\n",
       "      <td>19991127</td>\n",
       "      <td>/content/kaggle_3m/TCGA_HT_A61B_19991127/TCGA_...</td>\n",
       "      <td>3</td>\n",
       "      <td>256</td>\n",
       "      <td>256</td>\n",
       "      <td>uint8</td>\n",
       "      <td>8</td>\n",
       "    </tr>\n",
       "    <tr>\n",
       "      <th>2182</th>\n",
       "      <td>A61B</td>\n",
       "      <td>88</td>\n",
       "      <td>19991127</td>\n",
       "      <td>/content/kaggle_3m/TCGA_HT_A61B_19991127/TCGA_...</td>\n",
       "      <td>3</td>\n",
       "      <td>256</td>\n",
       "      <td>256</td>\n",
       "      <td>uint8</td>\n",
       "      <td>8</td>\n",
       "    </tr>\n",
       "  </tbody>\n",
       "</table>\n",
       "<p>3929 rows × 9 columns</p>\n",
       "</div>\n",
       "    <div class=\"colab-df-buttons\">\n",
       "\n",
       "  <div class=\"colab-df-container\">\n",
       "    <button class=\"colab-df-convert\" onclick=\"convertToInteractive('df-2b239568-dc91-48ec-adda-57226dd507ac')\"\n",
       "            title=\"Convert this dataframe to an interactive table.\"\n",
       "            style=\"display:none;\">\n",
       "\n",
       "  <svg xmlns=\"http://www.w3.org/2000/svg\" height=\"24px\" viewBox=\"0 -960 960 960\">\n",
       "    <path d=\"M120-120v-720h720v720H120Zm60-500h600v-160H180v160Zm220 220h160v-160H400v160Zm0 220h160v-160H400v160ZM180-400h160v-160H180v160Zm440 0h160v-160H620v160ZM180-180h160v-160H180v160Zm440 0h160v-160H620v160Z\"/>\n",
       "  </svg>\n",
       "    </button>\n",
       "\n",
       "  <style>\n",
       "    .colab-df-container {\n",
       "      display:flex;\n",
       "      gap: 12px;\n",
       "    }\n",
       "\n",
       "    .colab-df-convert {\n",
       "      background-color: #E8F0FE;\n",
       "      border: none;\n",
       "      border-radius: 50%;\n",
       "      cursor: pointer;\n",
       "      display: none;\n",
       "      fill: #1967D2;\n",
       "      height: 32px;\n",
       "      padding: 0 0 0 0;\n",
       "      width: 32px;\n",
       "    }\n",
       "\n",
       "    .colab-df-convert:hover {\n",
       "      background-color: #E2EBFA;\n",
       "      box-shadow: 0px 1px 2px rgba(60, 64, 67, 0.3), 0px 1px 3px 1px rgba(60, 64, 67, 0.15);\n",
       "      fill: #174EA6;\n",
       "    }\n",
       "\n",
       "    .colab-df-buttons div {\n",
       "      margin-bottom: 4px;\n",
       "    }\n",
       "\n",
       "    [theme=dark] .colab-df-convert {\n",
       "      background-color: #3B4455;\n",
       "      fill: #D2E3FC;\n",
       "    }\n",
       "\n",
       "    [theme=dark] .colab-df-convert:hover {\n",
       "      background-color: #434B5C;\n",
       "      box-shadow: 0px 1px 3px 1px rgba(0, 0, 0, 0.15);\n",
       "      filter: drop-shadow(0px 1px 2px rgba(0, 0, 0, 0.3));\n",
       "      fill: #FFFFFF;\n",
       "    }\n",
       "  </style>\n",
       "\n",
       "    <script>\n",
       "      const buttonEl =\n",
       "        document.querySelector('#df-2b239568-dc91-48ec-adda-57226dd507ac button.colab-df-convert');\n",
       "      buttonEl.style.display =\n",
       "        google.colab.kernel.accessAllowed ? 'block' : 'none';\n",
       "\n",
       "      async function convertToInteractive(key) {\n",
       "        const element = document.querySelector('#df-2b239568-dc91-48ec-adda-57226dd507ac');\n",
       "        const dataTable =\n",
       "          await google.colab.kernel.invokeFunction('convertToInteractive',\n",
       "                                                    [key], {});\n",
       "        if (!dataTable) return;\n",
       "\n",
       "        const docLinkHtml = 'Like what you see? Visit the ' +\n",
       "          '<a target=\"_blank\" href=https://colab.research.google.com/notebooks/data_table.ipynb>data table notebook</a>'\n",
       "          + ' to learn more about interactive tables.';\n",
       "        element.innerHTML = '';\n",
       "        dataTable['output_type'] = 'display_data';\n",
       "        await google.colab.output.renderOutput(dataTable, element);\n",
       "        const docLink = document.createElement('div');\n",
       "        docLink.innerHTML = docLinkHtml;\n",
       "        element.appendChild(docLink);\n",
       "      }\n",
       "    </script>\n",
       "  </div>\n",
       "\n",
       "\n",
       "    <div id=\"df-e634d298-c718-47c0-a78e-43db45054d17\">\n",
       "      <button class=\"colab-df-quickchart\" onclick=\"quickchart('df-e634d298-c718-47c0-a78e-43db45054d17')\"\n",
       "                title=\"Suggest charts\"\n",
       "                style=\"display:none;\">\n",
       "\n",
       "<svg xmlns=\"http://www.w3.org/2000/svg\" height=\"24px\"viewBox=\"0 0 24 24\"\n",
       "     width=\"24px\">\n",
       "    <g>\n",
       "        <path d=\"M19 3H5c-1.1 0-2 .9-2 2v14c0 1.1.9 2 2 2h14c1.1 0 2-.9 2-2V5c0-1.1-.9-2-2-2zM9 17H7v-7h2v7zm4 0h-2V7h2v10zm4 0h-2v-4h2v4z\"/>\n",
       "    </g>\n",
       "</svg>\n",
       "      </button>\n",
       "\n",
       "<style>\n",
       "  .colab-df-quickchart {\n",
       "      --bg-color: #E8F0FE;\n",
       "      --fill-color: #1967D2;\n",
       "      --hover-bg-color: #E2EBFA;\n",
       "      --hover-fill-color: #174EA6;\n",
       "      --disabled-fill-color: #AAA;\n",
       "      --disabled-bg-color: #DDD;\n",
       "  }\n",
       "\n",
       "  [theme=dark] .colab-df-quickchart {\n",
       "      --bg-color: #3B4455;\n",
       "      --fill-color: #D2E3FC;\n",
       "      --hover-bg-color: #434B5C;\n",
       "      --hover-fill-color: #FFFFFF;\n",
       "      --disabled-bg-color: #3B4455;\n",
       "      --disabled-fill-color: #666;\n",
       "  }\n",
       "\n",
       "  .colab-df-quickchart {\n",
       "    background-color: var(--bg-color);\n",
       "    border: none;\n",
       "    border-radius: 50%;\n",
       "    cursor: pointer;\n",
       "    display: none;\n",
       "    fill: var(--fill-color);\n",
       "    height: 32px;\n",
       "    padding: 0;\n",
       "    width: 32px;\n",
       "  }\n",
       "\n",
       "  .colab-df-quickchart:hover {\n",
       "    background-color: var(--hover-bg-color);\n",
       "    box-shadow: 0 1px 2px rgba(60, 64, 67, 0.3), 0 1px 3px 1px rgba(60, 64, 67, 0.15);\n",
       "    fill: var(--button-hover-fill-color);\n",
       "  }\n",
       "\n",
       "  .colab-df-quickchart-complete:disabled,\n",
       "  .colab-df-quickchart-complete:disabled:hover {\n",
       "    background-color: var(--disabled-bg-color);\n",
       "    fill: var(--disabled-fill-color);\n",
       "    box-shadow: none;\n",
       "  }\n",
       "\n",
       "  .colab-df-spinner {\n",
       "    border: 2px solid var(--fill-color);\n",
       "    border-color: transparent;\n",
       "    border-bottom-color: var(--fill-color);\n",
       "    animation:\n",
       "      spin 1s steps(1) infinite;\n",
       "  }\n",
       "\n",
       "  @keyframes spin {\n",
       "    0% {\n",
       "      border-color: transparent;\n",
       "      border-bottom-color: var(--fill-color);\n",
       "      border-left-color: var(--fill-color);\n",
       "    }\n",
       "    20% {\n",
       "      border-color: transparent;\n",
       "      border-left-color: var(--fill-color);\n",
       "      border-top-color: var(--fill-color);\n",
       "    }\n",
       "    30% {\n",
       "      border-color: transparent;\n",
       "      border-left-color: var(--fill-color);\n",
       "      border-top-color: var(--fill-color);\n",
       "      border-right-color: var(--fill-color);\n",
       "    }\n",
       "    40% {\n",
       "      border-color: transparent;\n",
       "      border-right-color: var(--fill-color);\n",
       "      border-top-color: var(--fill-color);\n",
       "    }\n",
       "    60% {\n",
       "      border-color: transparent;\n",
       "      border-right-color: var(--fill-color);\n",
       "    }\n",
       "    80% {\n",
       "      border-color: transparent;\n",
       "      border-right-color: var(--fill-color);\n",
       "      border-bottom-color: var(--fill-color);\n",
       "    }\n",
       "    90% {\n",
       "      border-color: transparent;\n",
       "      border-bottom-color: var(--fill-color);\n",
       "    }\n",
       "  }\n",
       "</style>\n",
       "\n",
       "      <script>\n",
       "        async function quickchart(key) {\n",
       "          const quickchartButtonEl =\n",
       "            document.querySelector('#' + key + ' button');\n",
       "          quickchartButtonEl.disabled = true;  // To prevent multiple clicks.\n",
       "          quickchartButtonEl.classList.add('colab-df-spinner');\n",
       "          try {\n",
       "            const charts = await google.colab.kernel.invokeFunction(\n",
       "                'suggestCharts', [key], {});\n",
       "          } catch (error) {\n",
       "            console.error('Error during call to suggestCharts:', error);\n",
       "          }\n",
       "          quickchartButtonEl.classList.remove('colab-df-spinner');\n",
       "          quickchartButtonEl.classList.add('colab-df-quickchart-complete');\n",
       "        }\n",
       "        (() => {\n",
       "          let quickchartButtonEl =\n",
       "            document.querySelector('#df-e634d298-c718-47c0-a78e-43db45054d17 button');\n",
       "          quickchartButtonEl.style.display =\n",
       "            google.colab.kernel.accessAllowed ? 'block' : 'none';\n",
       "        })();\n",
       "      </script>\n",
       "    </div>\n",
       "    </div>\n",
       "  </div>\n"
      ],
      "text/plain": [
       "     patient_id  slice slice_date  \\\n",
       "1588       4941      1   19960909   \n",
       "1604       4941      2   19960909   \n",
       "1602       4941      3   19960909   \n",
       "1607       4941      4   19960909   \n",
       "1594       4941      5   19960909   \n",
       "...         ...    ...        ...   \n",
       "2219       A61B     84   19991127   \n",
       "2202       A61B     85   19991127   \n",
       "2254       A61B     86   19991127   \n",
       "2263       A61B     87   19991127   \n",
       "2182       A61B     88   19991127   \n",
       "\n",
       "                                             slice_path  channel  width  \\\n",
       "1588  /content/kaggle_3m/TCGA_CS_4941_19960909/TCGA_...        3    256   \n",
       "1604  /content/kaggle_3m/TCGA_CS_4941_19960909/TCGA_...        3    256   \n",
       "1602  /content/kaggle_3m/TCGA_CS_4941_19960909/TCGA_...        3    256   \n",
       "1607  /content/kaggle_3m/TCGA_CS_4941_19960909/TCGA_...        3    256   \n",
       "1594  /content/kaggle_3m/TCGA_CS_4941_19960909/TCGA_...        3    256   \n",
       "...                                                 ...      ...    ...   \n",
       "2219  /content/kaggle_3m/TCGA_HT_A61B_19991127/TCGA_...        3    256   \n",
       "2202  /content/kaggle_3m/TCGA_HT_A61B_19991127/TCGA_...        3    256   \n",
       "2254  /content/kaggle_3m/TCGA_HT_A61B_19991127/TCGA_...        3    256   \n",
       "2263  /content/kaggle_3m/TCGA_HT_A61B_19991127/TCGA_...        3    256   \n",
       "2182  /content/kaggle_3m/TCGA_HT_A61B_19991127/TCGA_...        3    256   \n",
       "\n",
       "      height sample_dtype  max_pixel  \n",
       "1588     256        uint8        215  \n",
       "1604     256        uint8        219  \n",
       "1602     256        uint8        240  \n",
       "1607     256        uint8        255  \n",
       "1594     256        uint8        255  \n",
       "...      ...          ...        ...  \n",
       "2219     256        uint8          8  \n",
       "2202     256        uint8          8  \n",
       "2254     256        uint8          9  \n",
       "2263     256        uint8          8  \n",
       "2182     256        uint8          8  \n",
       "\n",
       "[3929 rows x 9 columns]"
      ]
     },
     "execution_count": 32,
     "metadata": {},
     "output_type": "execute_result"
    }
   ],
   "source": [
    "df_images"
   ]
  },
  {
   "cell_type": "markdown",
   "id": "4ce99499-63e7-4434-bf84-68dd3812ae61",
   "metadata": {
    "id": "4ce99499-63e7-4434-bf84-68dd3812ae61"
   },
   "source": [
    "### Masks dataframe"
   ]
  },
  {
   "cell_type": "code",
   "execution_count": 33,
   "id": "3c3ff7ad-843c-4026-a517-e4543de40742",
   "metadata": {
    "colab": {
     "base_uri": "https://localhost:8080/",
     "height": 423
    },
    "executionInfo": {
     "elapsed": 62,
     "status": "ok",
     "timestamp": 1747401015262,
     "user": {
      "displayName": "Yasin Gourkani",
      "userId": "15298842580635833110"
     },
     "user_tz": -210
    },
    "id": "3c3ff7ad-843c-4026-a517-e4543de40742",
    "outputId": "40829d4a-5fde-4e8c-a9c3-4170deb8e3d4"
   },
   "outputs": [
    {
     "data": {
      "application/vnd.google.colaboratory.intrinsic+json": {
       "summary": "{\n  \"name\": \"df_masks\",\n  \"rows\": 3929,\n  \"fields\": [\n    {\n      \"column\": \"patient_id\",\n      \"properties\": {\n        \"dtype\": \"category\",\n        \"num_unique_values\": 110,\n        \"samples\": [\n          \"7882\",\n          \"5852\",\n          \"5393\"\n        ],\n        \"semantic_type\": \"\",\n        \"description\": \"\"\n      }\n    },\n    {\n      \"column\": \"slice\",\n      \"properties\": {\n        \"dtype\": \"number\",\n        \"std\": 15,\n        \"min\": 1,\n        \"max\": 88,\n        \"num_unique_values\": 88,\n        \"samples\": [\n          77,\n          1,\n          27\n        ],\n        \"semantic_type\": \"\",\n        \"description\": \"\"\n      }\n    },\n    {\n      \"column\": \"slice_date\",\n      \"properties\": {\n        \"dtype\": \"object\",\n        \"num_unique_values\": 109,\n        \"samples\": [\n          \"19970125\",\n          \"19950709\",\n          \"19990606\"\n        ],\n        \"semantic_type\": \"\",\n        \"description\": \"\"\n      }\n    },\n    {\n      \"column\": \"slice_path\",\n      \"properties\": {\n        \"dtype\": \"string\",\n        \"num_unique_values\": 3929,\n        \"samples\": [\n          \"/content/kaggle_3m/TCGA_DU_7300_19910814/TCGA_DU_7300_19910814_19_mask.tif\",\n          \"/content/kaggle_3m/TCGA_DU_7010_19860307/TCGA_DU_7010_19860307_41_mask.tif\",\n          \"/content/kaggle_3m/TCGA_HT_7473_19970826/TCGA_HT_7473_19970826_22_mask.tif\"\n        ],\n        \"semantic_type\": \"\",\n        \"description\": \"\"\n      }\n    },\n    {\n      \"column\": \"channel\",\n      \"properties\": {\n        \"dtype\": \"number\",\n        \"std\": 0,\n        \"min\": 1,\n        \"max\": 1,\n        \"num_unique_values\": 1,\n        \"samples\": [\n          1\n        ],\n        \"semantic_type\": \"\",\n        \"description\": \"\"\n      }\n    },\n    {\n      \"column\": \"width\",\n      \"properties\": {\n        \"dtype\": \"number\",\n        \"std\": 0,\n        \"min\": 256,\n        \"max\": 256,\n        \"num_unique_values\": 1,\n        \"samples\": [\n          256\n        ],\n        \"semantic_type\": \"\",\n        \"description\": \"\"\n      }\n    },\n    {\n      \"column\": \"height\",\n      \"properties\": {\n        \"dtype\": \"number\",\n        \"std\": 0,\n        \"min\": 256,\n        \"max\": 256,\n        \"num_unique_values\": 1,\n        \"samples\": [\n          256\n        ],\n        \"semantic_type\": \"\",\n        \"description\": \"\"\n      }\n    },\n    {\n      \"column\": \"sample_dtype\",\n      \"properties\": {\n        \"dtype\": \"category\",\n        \"num_unique_values\": 1,\n        \"samples\": [\n          \"uint8\"\n        ],\n        \"semantic_type\": \"\",\n        \"description\": \"\"\n      }\n    },\n    {\n      \"column\": \"max_pixel\",\n      \"properties\": {\n        \"dtype\": \"number\",\n        \"std\": 121,\n        \"min\": 0,\n        \"max\": 255,\n        \"num_unique_values\": 2,\n        \"samples\": [\n          255\n        ],\n        \"semantic_type\": \"\",\n        \"description\": \"\"\n      }\n    }\n  ]\n}",
       "type": "dataframe",
       "variable_name": "df_masks"
      },
      "text/html": [
       "\n",
       "  <div id=\"df-83171a37-62a2-439a-acda-ecddf9dc08b3\" class=\"colab-df-container\">\n",
       "    <div>\n",
       "<style scoped>\n",
       "    .dataframe tbody tr th:only-of-type {\n",
       "        vertical-align: middle;\n",
       "    }\n",
       "\n",
       "    .dataframe tbody tr th {\n",
       "        vertical-align: top;\n",
       "    }\n",
       "\n",
       "    .dataframe thead th {\n",
       "        text-align: right;\n",
       "    }\n",
       "</style>\n",
       "<table border=\"1\" class=\"dataframe\">\n",
       "  <thead>\n",
       "    <tr style=\"text-align: right;\">\n",
       "      <th></th>\n",
       "      <th>patient_id</th>\n",
       "      <th>slice</th>\n",
       "      <th>slice_date</th>\n",
       "      <th>slice_path</th>\n",
       "      <th>channel</th>\n",
       "      <th>width</th>\n",
       "      <th>height</th>\n",
       "      <th>sample_dtype</th>\n",
       "      <th>max_pixel</th>\n",
       "    </tr>\n",
       "  </thead>\n",
       "  <tbody>\n",
       "    <tr>\n",
       "      <th>1608</th>\n",
       "      <td>4941</td>\n",
       "      <td>1</td>\n",
       "      <td>19960909</td>\n",
       "      <td>/content/kaggle_3m/TCGA_CS_4941_19960909/TCGA_...</td>\n",
       "      <td>1</td>\n",
       "      <td>256</td>\n",
       "      <td>256</td>\n",
       "      <td>uint8</td>\n",
       "      <td>0</td>\n",
       "    </tr>\n",
       "    <tr>\n",
       "      <th>1597</th>\n",
       "      <td>4941</td>\n",
       "      <td>2</td>\n",
       "      <td>19960909</td>\n",
       "      <td>/content/kaggle_3m/TCGA_CS_4941_19960909/TCGA_...</td>\n",
       "      <td>1</td>\n",
       "      <td>256</td>\n",
       "      <td>256</td>\n",
       "      <td>uint8</td>\n",
       "      <td>0</td>\n",
       "    </tr>\n",
       "    <tr>\n",
       "      <th>1602</th>\n",
       "      <td>4941</td>\n",
       "      <td>3</td>\n",
       "      <td>19960909</td>\n",
       "      <td>/content/kaggle_3m/TCGA_CS_4941_19960909/TCGA_...</td>\n",
       "      <td>1</td>\n",
       "      <td>256</td>\n",
       "      <td>256</td>\n",
       "      <td>uint8</td>\n",
       "      <td>0</td>\n",
       "    </tr>\n",
       "    <tr>\n",
       "      <th>1610</th>\n",
       "      <td>4941</td>\n",
       "      <td>4</td>\n",
       "      <td>19960909</td>\n",
       "      <td>/content/kaggle_3m/TCGA_CS_4941_19960909/TCGA_...</td>\n",
       "      <td>1</td>\n",
       "      <td>256</td>\n",
       "      <td>256</td>\n",
       "      <td>uint8</td>\n",
       "      <td>0</td>\n",
       "    </tr>\n",
       "    <tr>\n",
       "      <th>1605</th>\n",
       "      <td>4941</td>\n",
       "      <td>5</td>\n",
       "      <td>19960909</td>\n",
       "      <td>/content/kaggle_3m/TCGA_CS_4941_19960909/TCGA_...</td>\n",
       "      <td>1</td>\n",
       "      <td>256</td>\n",
       "      <td>256</td>\n",
       "      <td>uint8</td>\n",
       "      <td>0</td>\n",
       "    </tr>\n",
       "    <tr>\n",
       "      <th>...</th>\n",
       "      <td>...</td>\n",
       "      <td>...</td>\n",
       "      <td>...</td>\n",
       "      <td>...</td>\n",
       "      <td>...</td>\n",
       "      <td>...</td>\n",
       "      <td>...</td>\n",
       "      <td>...</td>\n",
       "      <td>...</td>\n",
       "    </tr>\n",
       "    <tr>\n",
       "      <th>2263</th>\n",
       "      <td>A61B</td>\n",
       "      <td>84</td>\n",
       "      <td>19991127</td>\n",
       "      <td>/content/kaggle_3m/TCGA_HT_A61B_19991127/TCGA_...</td>\n",
       "      <td>1</td>\n",
       "      <td>256</td>\n",
       "      <td>256</td>\n",
       "      <td>uint8</td>\n",
       "      <td>0</td>\n",
       "    </tr>\n",
       "    <tr>\n",
       "      <th>2249</th>\n",
       "      <td>A61B</td>\n",
       "      <td>85</td>\n",
       "      <td>19991127</td>\n",
       "      <td>/content/kaggle_3m/TCGA_HT_A61B_19991127/TCGA_...</td>\n",
       "      <td>1</td>\n",
       "      <td>256</td>\n",
       "      <td>256</td>\n",
       "      <td>uint8</td>\n",
       "      <td>0</td>\n",
       "    </tr>\n",
       "    <tr>\n",
       "      <th>2251</th>\n",
       "      <td>A61B</td>\n",
       "      <td>86</td>\n",
       "      <td>19991127</td>\n",
       "      <td>/content/kaggle_3m/TCGA_HT_A61B_19991127/TCGA_...</td>\n",
       "      <td>1</td>\n",
       "      <td>256</td>\n",
       "      <td>256</td>\n",
       "      <td>uint8</td>\n",
       "      <td>0</td>\n",
       "    </tr>\n",
       "    <tr>\n",
       "      <th>2182</th>\n",
       "      <td>A61B</td>\n",
       "      <td>87</td>\n",
       "      <td>19991127</td>\n",
       "      <td>/content/kaggle_3m/TCGA_HT_A61B_19991127/TCGA_...</td>\n",
       "      <td>1</td>\n",
       "      <td>256</td>\n",
       "      <td>256</td>\n",
       "      <td>uint8</td>\n",
       "      <td>0</td>\n",
       "    </tr>\n",
       "    <tr>\n",
       "      <th>2242</th>\n",
       "      <td>A61B</td>\n",
       "      <td>88</td>\n",
       "      <td>19991127</td>\n",
       "      <td>/content/kaggle_3m/TCGA_HT_A61B_19991127/TCGA_...</td>\n",
       "      <td>1</td>\n",
       "      <td>256</td>\n",
       "      <td>256</td>\n",
       "      <td>uint8</td>\n",
       "      <td>0</td>\n",
       "    </tr>\n",
       "  </tbody>\n",
       "</table>\n",
       "<p>3929 rows × 9 columns</p>\n",
       "</div>\n",
       "    <div class=\"colab-df-buttons\">\n",
       "\n",
       "  <div class=\"colab-df-container\">\n",
       "    <button class=\"colab-df-convert\" onclick=\"convertToInteractive('df-83171a37-62a2-439a-acda-ecddf9dc08b3')\"\n",
       "            title=\"Convert this dataframe to an interactive table.\"\n",
       "            style=\"display:none;\">\n",
       "\n",
       "  <svg xmlns=\"http://www.w3.org/2000/svg\" height=\"24px\" viewBox=\"0 -960 960 960\">\n",
       "    <path d=\"M120-120v-720h720v720H120Zm60-500h600v-160H180v160Zm220 220h160v-160H400v160Zm0 220h160v-160H400v160ZM180-400h160v-160H180v160Zm440 0h160v-160H620v160ZM180-180h160v-160H180v160Zm440 0h160v-160H620v160Z\"/>\n",
       "  </svg>\n",
       "    </button>\n",
       "\n",
       "  <style>\n",
       "    .colab-df-container {\n",
       "      display:flex;\n",
       "      gap: 12px;\n",
       "    }\n",
       "\n",
       "    .colab-df-convert {\n",
       "      background-color: #E8F0FE;\n",
       "      border: none;\n",
       "      border-radius: 50%;\n",
       "      cursor: pointer;\n",
       "      display: none;\n",
       "      fill: #1967D2;\n",
       "      height: 32px;\n",
       "      padding: 0 0 0 0;\n",
       "      width: 32px;\n",
       "    }\n",
       "\n",
       "    .colab-df-convert:hover {\n",
       "      background-color: #E2EBFA;\n",
       "      box-shadow: 0px 1px 2px rgba(60, 64, 67, 0.3), 0px 1px 3px 1px rgba(60, 64, 67, 0.15);\n",
       "      fill: #174EA6;\n",
       "    }\n",
       "\n",
       "    .colab-df-buttons div {\n",
       "      margin-bottom: 4px;\n",
       "    }\n",
       "\n",
       "    [theme=dark] .colab-df-convert {\n",
       "      background-color: #3B4455;\n",
       "      fill: #D2E3FC;\n",
       "    }\n",
       "\n",
       "    [theme=dark] .colab-df-convert:hover {\n",
       "      background-color: #434B5C;\n",
       "      box-shadow: 0px 1px 3px 1px rgba(0, 0, 0, 0.15);\n",
       "      filter: drop-shadow(0px 1px 2px rgba(0, 0, 0, 0.3));\n",
       "      fill: #FFFFFF;\n",
       "    }\n",
       "  </style>\n",
       "\n",
       "    <script>\n",
       "      const buttonEl =\n",
       "        document.querySelector('#df-83171a37-62a2-439a-acda-ecddf9dc08b3 button.colab-df-convert');\n",
       "      buttonEl.style.display =\n",
       "        google.colab.kernel.accessAllowed ? 'block' : 'none';\n",
       "\n",
       "      async function convertToInteractive(key) {\n",
       "        const element = document.querySelector('#df-83171a37-62a2-439a-acda-ecddf9dc08b3');\n",
       "        const dataTable =\n",
       "          await google.colab.kernel.invokeFunction('convertToInteractive',\n",
       "                                                    [key], {});\n",
       "        if (!dataTable) return;\n",
       "\n",
       "        const docLinkHtml = 'Like what you see? Visit the ' +\n",
       "          '<a target=\"_blank\" href=https://colab.research.google.com/notebooks/data_table.ipynb>data table notebook</a>'\n",
       "          + ' to learn more about interactive tables.';\n",
       "        element.innerHTML = '';\n",
       "        dataTable['output_type'] = 'display_data';\n",
       "        await google.colab.output.renderOutput(dataTable, element);\n",
       "        const docLink = document.createElement('div');\n",
       "        docLink.innerHTML = docLinkHtml;\n",
       "        element.appendChild(docLink);\n",
       "      }\n",
       "    </script>\n",
       "  </div>\n",
       "\n",
       "\n",
       "    <div id=\"df-17507692-5858-47ca-a895-4fad0bb3696a\">\n",
       "      <button class=\"colab-df-quickchart\" onclick=\"quickchart('df-17507692-5858-47ca-a895-4fad0bb3696a')\"\n",
       "                title=\"Suggest charts\"\n",
       "                style=\"display:none;\">\n",
       "\n",
       "<svg xmlns=\"http://www.w3.org/2000/svg\" height=\"24px\"viewBox=\"0 0 24 24\"\n",
       "     width=\"24px\">\n",
       "    <g>\n",
       "        <path d=\"M19 3H5c-1.1 0-2 .9-2 2v14c0 1.1.9 2 2 2h14c1.1 0 2-.9 2-2V5c0-1.1-.9-2-2-2zM9 17H7v-7h2v7zm4 0h-2V7h2v10zm4 0h-2v-4h2v4z\"/>\n",
       "    </g>\n",
       "</svg>\n",
       "      </button>\n",
       "\n",
       "<style>\n",
       "  .colab-df-quickchart {\n",
       "      --bg-color: #E8F0FE;\n",
       "      --fill-color: #1967D2;\n",
       "      --hover-bg-color: #E2EBFA;\n",
       "      --hover-fill-color: #174EA6;\n",
       "      --disabled-fill-color: #AAA;\n",
       "      --disabled-bg-color: #DDD;\n",
       "  }\n",
       "\n",
       "  [theme=dark] .colab-df-quickchart {\n",
       "      --bg-color: #3B4455;\n",
       "      --fill-color: #D2E3FC;\n",
       "      --hover-bg-color: #434B5C;\n",
       "      --hover-fill-color: #FFFFFF;\n",
       "      --disabled-bg-color: #3B4455;\n",
       "      --disabled-fill-color: #666;\n",
       "  }\n",
       "\n",
       "  .colab-df-quickchart {\n",
       "    background-color: var(--bg-color);\n",
       "    border: none;\n",
       "    border-radius: 50%;\n",
       "    cursor: pointer;\n",
       "    display: none;\n",
       "    fill: var(--fill-color);\n",
       "    height: 32px;\n",
       "    padding: 0;\n",
       "    width: 32px;\n",
       "  }\n",
       "\n",
       "  .colab-df-quickchart:hover {\n",
       "    background-color: var(--hover-bg-color);\n",
       "    box-shadow: 0 1px 2px rgba(60, 64, 67, 0.3), 0 1px 3px 1px rgba(60, 64, 67, 0.15);\n",
       "    fill: var(--button-hover-fill-color);\n",
       "  }\n",
       "\n",
       "  .colab-df-quickchart-complete:disabled,\n",
       "  .colab-df-quickchart-complete:disabled:hover {\n",
       "    background-color: var(--disabled-bg-color);\n",
       "    fill: var(--disabled-fill-color);\n",
       "    box-shadow: none;\n",
       "  }\n",
       "\n",
       "  .colab-df-spinner {\n",
       "    border: 2px solid var(--fill-color);\n",
       "    border-color: transparent;\n",
       "    border-bottom-color: var(--fill-color);\n",
       "    animation:\n",
       "      spin 1s steps(1) infinite;\n",
       "  }\n",
       "\n",
       "  @keyframes spin {\n",
       "    0% {\n",
       "      border-color: transparent;\n",
       "      border-bottom-color: var(--fill-color);\n",
       "      border-left-color: var(--fill-color);\n",
       "    }\n",
       "    20% {\n",
       "      border-color: transparent;\n",
       "      border-left-color: var(--fill-color);\n",
       "      border-top-color: var(--fill-color);\n",
       "    }\n",
       "    30% {\n",
       "      border-color: transparent;\n",
       "      border-left-color: var(--fill-color);\n",
       "      border-top-color: var(--fill-color);\n",
       "      border-right-color: var(--fill-color);\n",
       "    }\n",
       "    40% {\n",
       "      border-color: transparent;\n",
       "      border-right-color: var(--fill-color);\n",
       "      border-top-color: var(--fill-color);\n",
       "    }\n",
       "    60% {\n",
       "      border-color: transparent;\n",
       "      border-right-color: var(--fill-color);\n",
       "    }\n",
       "    80% {\n",
       "      border-color: transparent;\n",
       "      border-right-color: var(--fill-color);\n",
       "      border-bottom-color: var(--fill-color);\n",
       "    }\n",
       "    90% {\n",
       "      border-color: transparent;\n",
       "      border-bottom-color: var(--fill-color);\n",
       "    }\n",
       "  }\n",
       "</style>\n",
       "\n",
       "      <script>\n",
       "        async function quickchart(key) {\n",
       "          const quickchartButtonEl =\n",
       "            document.querySelector('#' + key + ' button');\n",
       "          quickchartButtonEl.disabled = true;  // To prevent multiple clicks.\n",
       "          quickchartButtonEl.classList.add('colab-df-spinner');\n",
       "          try {\n",
       "            const charts = await google.colab.kernel.invokeFunction(\n",
       "                'suggestCharts', [key], {});\n",
       "          } catch (error) {\n",
       "            console.error('Error during call to suggestCharts:', error);\n",
       "          }\n",
       "          quickchartButtonEl.classList.remove('colab-df-spinner');\n",
       "          quickchartButtonEl.classList.add('colab-df-quickchart-complete');\n",
       "        }\n",
       "        (() => {\n",
       "          let quickchartButtonEl =\n",
       "            document.querySelector('#df-17507692-5858-47ca-a895-4fad0bb3696a button');\n",
       "          quickchartButtonEl.style.display =\n",
       "            google.colab.kernel.accessAllowed ? 'block' : 'none';\n",
       "        })();\n",
       "      </script>\n",
       "    </div>\n",
       "    </div>\n",
       "  </div>\n"
      ],
      "text/plain": [
       "     patient_id  slice slice_date  \\\n",
       "1608       4941      1   19960909   \n",
       "1597       4941      2   19960909   \n",
       "1602       4941      3   19960909   \n",
       "1610       4941      4   19960909   \n",
       "1605       4941      5   19960909   \n",
       "...         ...    ...        ...   \n",
       "2263       A61B     84   19991127   \n",
       "2249       A61B     85   19991127   \n",
       "2251       A61B     86   19991127   \n",
       "2182       A61B     87   19991127   \n",
       "2242       A61B     88   19991127   \n",
       "\n",
       "                                             slice_path  channel  width  \\\n",
       "1608  /content/kaggle_3m/TCGA_CS_4941_19960909/TCGA_...        1    256   \n",
       "1597  /content/kaggle_3m/TCGA_CS_4941_19960909/TCGA_...        1    256   \n",
       "1602  /content/kaggle_3m/TCGA_CS_4941_19960909/TCGA_...        1    256   \n",
       "1610  /content/kaggle_3m/TCGA_CS_4941_19960909/TCGA_...        1    256   \n",
       "1605  /content/kaggle_3m/TCGA_CS_4941_19960909/TCGA_...        1    256   \n",
       "...                                                 ...      ...    ...   \n",
       "2263  /content/kaggle_3m/TCGA_HT_A61B_19991127/TCGA_...        1    256   \n",
       "2249  /content/kaggle_3m/TCGA_HT_A61B_19991127/TCGA_...        1    256   \n",
       "2251  /content/kaggle_3m/TCGA_HT_A61B_19991127/TCGA_...        1    256   \n",
       "2182  /content/kaggle_3m/TCGA_HT_A61B_19991127/TCGA_...        1    256   \n",
       "2242  /content/kaggle_3m/TCGA_HT_A61B_19991127/TCGA_...        1    256   \n",
       "\n",
       "      height sample_dtype  max_pixel  \n",
       "1608     256        uint8          0  \n",
       "1597     256        uint8          0  \n",
       "1602     256        uint8          0  \n",
       "1610     256        uint8          0  \n",
       "1605     256        uint8          0  \n",
       "...      ...          ...        ...  \n",
       "2263     256        uint8          0  \n",
       "2249     256        uint8          0  \n",
       "2251     256        uint8          0  \n",
       "2182     256        uint8          0  \n",
       "2242     256        uint8          0  \n",
       "\n",
       "[3929 rows x 9 columns]"
      ]
     },
     "execution_count": 33,
     "metadata": {},
     "output_type": "execute_result"
    }
   ],
   "source": [
    "df_masks"
   ]
  },
  {
   "cell_type": "markdown",
   "id": "cb6a9c38-7e03-4c0f-8a2a-ca6aee457804",
   "metadata": {
    "id": "cb6a9c38-7e03-4c0f-8a2a-ca6aee457804"
   },
   "source": [
    "### Sizes and dtype"
   ]
  },
  {
   "cell_type": "code",
   "execution_count": 34,
   "id": "39619b14-2bd6-4767-a147-ca8711b5d77a",
   "metadata": {
    "colab": {
     "base_uri": "https://localhost:8080/"
    },
    "executionInfo": {
     "elapsed": 60,
     "status": "ok",
     "timestamp": 1747401015262,
     "user": {
      "displayName": "Yasin Gourkani",
      "userId": "15298842580635833110"
     },
     "user_tz": -210
    },
    "id": "39619b14-2bd6-4767-a147-ca8711b5d77a",
    "outputId": "2c561452-7858-4991-982d-037bdb4f0102"
   },
   "outputs": [
    {
     "data": {
      "text/plain": [
       "(array([3]), array([256]), array([256]), array(['uint8'], dtype=object))"
      ]
     },
     "execution_count": 34,
     "metadata": {},
     "output_type": "execute_result"
    }
   ],
   "source": [
    "df_images.channel.unique(), df_images.width.unique(), df_images.height.unique(), df_images.sample_dtype.unique()"
   ]
  },
  {
   "cell_type": "code",
   "execution_count": 35,
   "id": "06689c4f-e312-404f-83dc-327bafe32307",
   "metadata": {
    "colab": {
     "base_uri": "https://localhost:8080/"
    },
    "executionInfo": {
     "elapsed": 59,
     "status": "ok",
     "timestamp": 1747401015263,
     "user": {
      "displayName": "Yasin Gourkani",
      "userId": "15298842580635833110"
     },
     "user_tz": -210
    },
    "id": "06689c4f-e312-404f-83dc-327bafe32307",
    "outputId": "bed59989-ef6d-4865-e198-186cad6b6ecd"
   },
   "outputs": [
    {
     "data": {
      "text/plain": [
       "(array([1]), array([256]), array([256]), array(['uint8'], dtype=object))"
      ]
     },
     "execution_count": 35,
     "metadata": {},
     "output_type": "execute_result"
    }
   ],
   "source": [
    "df_masks.channel.unique(), df_masks.width.unique(), df_masks.height.unique(), df_masks.sample_dtype.unique()"
   ]
  },
  {
   "cell_type": "markdown",
   "id": "eb841c95-42b0-439f-a3af-7fa822d7f8ba",
   "metadata": {
    "id": "eb841c95-42b0-439f-a3af-7fa822d7f8ba"
   },
   "source": [
    "### The number of pixels"
   ]
  },
  {
   "cell_type": "code",
   "execution_count": 36,
   "id": "f8707560-696e-4a4c-9a71-ac6674d52eef",
   "metadata": {
    "colab": {
     "base_uri": "https://localhost:8080/"
    },
    "executionInfo": {
     "elapsed": 57,
     "status": "ok",
     "timestamp": 1747401015263,
     "user": {
      "displayName": "Yasin Gourkani",
      "userId": "15298842580635833110"
     },
     "user_tz": -210
    },
    "id": "f8707560-696e-4a4c-9a71-ac6674d52eef",
    "outputId": "df8e8219-84b1-4b75-a76e-2c5c33131103"
   },
   "outputs": [
    {
     "data": {
      "text/plain": [
       "3"
      ]
     },
     "execution_count": 36,
     "metadata": {},
     "output_type": "execute_result"
    }
   ],
   "source": [
    "df_images.max_pixel.min()"
   ]
  },
  {
   "cell_type": "code",
   "execution_count": 37,
   "id": "5eb5f0d5-0cdd-40a8-a946-b9edfab61cd9",
   "metadata": {
    "colab": {
     "base_uri": "https://localhost:8080/",
     "height": 472
    },
    "executionInfo": {
     "elapsed": 54,
     "status": "ok",
     "timestamp": 1747401015264,
     "user": {
      "displayName": "Yasin Gourkani",
      "userId": "15298842580635833110"
     },
     "user_tz": -210
    },
    "id": "5eb5f0d5-0cdd-40a8-a946-b9edfab61cd9",
    "outputId": "85cc5a2b-9cb5-43fc-f7f1-bb5266c5d01f"
   },
   "outputs": [
    {
     "data": {
      "image/png": "[encoded data removed]",
      "text/plain": [
       "<Figure size 640x480 with 1 Axes>"
      ]
     },
     "metadata": {},
     "output_type": "display_data"
    }
   ],
   "source": [
    "df_images.max_pixel.plot(kind=\"hist\", title=\"Max number of pixels on Images\", xlabel=\"Pixel\", bins=255);"
   ]
  },
  {
   "cell_type": "code",
   "execution_count": 38,
   "id": "d1c8da53-c978-47f1-b283-632ad87854ed",
   "metadata": {
    "colab": {
     "base_uri": "https://localhost:8080/",
     "height": 472
    },
    "executionInfo": {
     "elapsed": 5535,
     "status": "ok",
     "timestamp": 1747401020747,
     "user": {
      "displayName": "Yasin Gourkani",
      "userId": "15298842580635833110"
     },
     "user_tz": -210
    },
    "id": "d1c8da53-c978-47f1-b283-632ad87854ed",
    "outputId": "987aa130-06d0-4b68-f6e5-d8ce897aea71"
   },
   "outputs": [
    {
     "data": {
      "image/png": "[encoded data removed]",
      "text/plain": [
       "<Figure size 640x480 with 1 Axes>"
      ]
     },
     "metadata": {},
     "output_type": "display_data"
    }
   ],
   "source": [
    "df_masks.max_pixel.plot(kind=\"hist\", title=\"Max number of pixels on Masks (Binary)\", xlabel=\"Pixel\", bins=255);"
   ]
  },
  {
   "cell_type": "markdown",
   "id": "4a40aa30-bb80-4a03-8e23-95f0304bb438",
   "metadata": {
    "id": "4a40aa30-bb80-4a03-8e23-95f0304bb438"
   },
   "source": [
    "### Visualize each channel separately"
   ]
  },
  {
   "cell_type": "code",
   "execution_count": 39,
   "id": "64198620-b1ac-47e8-bbe7-b6afe50d7583",
   "metadata": {
    "colab": {
     "base_uri": "https://localhost:8080/",
     "height": 344
    },
    "executionInfo": {
     "elapsed": 35,
     "status": "ok",
     "timestamp": 1747401020747,
     "user": {
      "displayName": "Yasin Gourkani",
      "userId": "15298842580635833110"
     },
     "user_tz": -210
    },
    "id": "64198620-b1ac-47e8-bbe7-b6afe50d7583",
    "outputId": "1eb2d186-03ef-4d00-fa88-e36a5a314303"
   },
   "outputs": [
    {
     "name": "stdout",
     "output_type": "stream",
     "text": [
      "/content/kaggle_3m/TCGA_HT_7684_19950816/TCGA_HT_7684_19950816_11.tif\n",
      "/content/kaggle_3m/TCGA_HT_7684_19950816/TCGA_HT_7684_19950816_11_mask.tif \n",
      "\n"
     ]
    },
    {
     "data": {
      "image/png": "[encoded data removed]",
      "text/plain": [
       "<Figure size 1600x700 with 4 Axes>"
      ]
     },
     "metadata": {},
     "output_type": "display_data"
    }
   ],
   "source": [
    "sample_idx = torch.randint(0, df_images.shape[0], (1,)).item()\n",
    "\n",
    "img = Image.open(df_images.iloc[sample_idx].slice_path)\n",
    "msk = Image.open(df_masks.iloc[sample_idx].slice_path)\n",
    "\n",
    "print(df_images.iloc[sample_idx].slice_path)\n",
    "print(df_masks.iloc[sample_idx].slice_path, \"\\n\")\n",
    "\n",
    "img = T.functional.to_image(img)\n",
    "msk = T.functional.to_image(msk)\n",
    "\n",
    "fig, axs = plt.subplots(nrows=1, ncols=4, figsize=(16, 7))\n",
    "\n",
    "titles = [\"pre-contrast\", \"FLAIR\", \"post-contrast\", \"Scan + Mask\"]\n",
    "\n",
    "axs[0].imshow(img[0], cmap=\"gray\")\n",
    "axs[1].imshow(img[1], cmap=\"gray\")\n",
    "axs[2].imshow(img[2], cmap=\"gray\")\n",
    "\n",
    "axs[3].imshow(img.permute(1, 2, 0), cmap=\"gray\")\n",
    "axs[3].imshow(msk.permute(1, 2, 0), cmap=\"gray\", alpha=0.4)\n",
    "\n",
    "for i, ax in enumerate(axs):\n",
    "    ax.set_title(titles[i])\n",
    "    ax.axis(\"off\");"
   ]
  },
  {
   "cell_type": "markdown",
   "id": "72068e0b-71c8-4b31-b10e-3840450138b0",
   "metadata": {
    "id": "72068e0b-71c8-4b31-b10e-3840450138b0"
   },
   "source": [
    "## Split data to Train, Eval, and Test"
   ]
  },
  {
   "cell_type": "code",
   "execution_count": 40,
   "id": "7ec67a36-c4ed-4f13-990c-43bd5bee823b",
   "metadata": {
    "colab": {
     "base_uri": "https://localhost:8080/"
    },
    "executionInfo": {
     "elapsed": 27,
     "status": "ok",
     "timestamp": 1747401020748,
     "user": {
      "displayName": "Yasin Gourkani",
      "userId": "15298842580635833110"
     },
     "user_tz": -210
    },
    "id": "7ec67a36-c4ed-4f13-990c-43bd5bee823b",
    "outputId": "0f417e09-d929-4acc-9077-1094adacf3ac"
   },
   "outputs": [
    {
     "data": {
      "text/plain": [
       "(88, 11, 11)"
      ]
     },
     "execution_count": 40,
     "metadata": {},
     "output_type": "execute_result"
    }
   ],
   "source": [
    "train_set, eval_set, test_set = random_split(df_images.patient_id.unique(), lengths=[0.8, 0.1, 0.1])\n",
    "\n",
    "with open(path.join(getcwd(), \"train.txt\"), 'w') as f:\n",
    "    f.write(str(list(train_set)).replace('[', '').replace(']', '').replace('\\'', '').replace(\"\\n\", ''))\n",
    "    f.close()\n",
    "\n",
    "with open(path.join(getcwd(), \"eval.txt\"), 'w') as f:\n",
    "    f.write(str(list(eval_set)).replace('[', '').replace(']', '').replace('\\'', '').replace(\"\\n\", ''))\n",
    "    f.close()\n",
    "\n",
    "with open(path.join(getcwd(), \"test.txt\"), 'w') as f:\n",
    "    f.write(str(list(test_set)).replace('[', '').replace(']', '').replace('\\'', '').replace(\"\\n\", ''))\n",
    "    f.close()\n",
    "\n",
    "len(train_set), len(eval_set), len(test_set)"
   ]
  },
  {
   "cell_type": "markdown",
   "id": "f2b4bead-7c66-4689-b72a-ed7d6fa9ab26",
   "metadata": {
    "id": "f2b4bead-7c66-4689-b72a-ed7d6fa9ab26"
   },
   "source": [
    "## Create df_train, df_eval, and df_test"
   ]
  },
  {
   "cell_type": "markdown",
   "id": "e61c9c7c-bbe6-40e0-afde-57432f3b1bb9",
   "metadata": {
    "id": "e61c9c7c-bbe6-40e0-afde-57432f3b1bb9"
   },
   "source": [
    "### Train dataframe"
   ]
  },
  {
   "cell_type": "code",
   "execution_count": 41,
   "id": "bcd63dc8-396d-43a1-869e-1c57a8f41078",
   "metadata": {
    "executionInfo": {
     "elapsed": 25,
     "status": "ok",
     "timestamp": 1747401020748,
     "user": {
      "displayName": "Yasin Gourkani",
      "userId": "15298842580635833110"
     },
     "user_tz": -210
    },
    "id": "bcd63dc8-396d-43a1-869e-1c57a8f41078"
   },
   "outputs": [],
   "source": [
    "create_df_phase(\"train.txt\")"
   ]
  },
  {
   "cell_type": "markdown",
   "id": "d6e2dbfe-e133-4960-9a18-97736d28c329",
   "metadata": {
    "id": "d6e2dbfe-e133-4960-9a18-97736d28c329"
   },
   "source": [
    "### Eval dataframe"
   ]
  },
  {
   "cell_type": "code",
   "execution_count": 42,
   "id": "6c070888-fcc0-4814-af46-3931d622764a",
   "metadata": {
    "executionInfo": {
     "elapsed": 25,
     "status": "ok",
     "timestamp": 1747401020749,
     "user": {
      "displayName": "Yasin Gourkani",
      "userId": "15298842580635833110"
     },
     "user_tz": -210
    },
    "id": "6c070888-fcc0-4814-af46-3931d622764a"
   },
   "outputs": [],
   "source": [
    "create_df_phase(\"eval.txt\")"
   ]
  },
  {
   "cell_type": "markdown",
   "id": "96cb46ca-1865-49fd-b738-f96c837f662f",
   "metadata": {
    "id": "96cb46ca-1865-49fd-b738-f96c837f662f"
   },
   "source": [
    "### Test dataframe"
   ]
  },
  {
   "cell_type": "code",
   "execution_count": 43,
   "id": "ad1f716f-4fc3-469b-ad38-13c661f255d2",
   "metadata": {
    "executionInfo": {
     "elapsed": 25,
     "status": "ok",
     "timestamp": 1747401020750,
     "user": {
      "displayName": "Yasin Gourkani",
      "userId": "15298842580635833110"
     },
     "user_tz": -210
    },
    "id": "ad1f716f-4fc3-469b-ad38-13c661f255d2"
   },
   "outputs": [],
   "source": [
    "create_df_phase(\"test.txt\")"
   ]
  },
  {
   "cell_type": "markdown",
   "id": "1fe01737-4303-4eb2-b141-c54fa4f85ea4",
   "metadata": {
    "id": "1fe01737-4303-4eb2-b141-c54fa4f85ea4"
   },
   "source": [
    "## Implement custom dataset"
   ]
  },
  {
   "cell_type": "code",
   "execution_count": 44,
   "id": "ab99302d-1d70-4d12-96cd-6bfb54e9e8d4",
   "metadata": {
    "executionInfo": {
     "elapsed": 26,
     "status": "ok",
     "timestamp": 1747401020752,
     "user": {
      "displayName": "Yasin Gourkani",
      "userId": "15298842580635833110"
     },
     "user_tz": -210
    },
    "id": "ab99302d-1d70-4d12-96cd-6bfb54e9e8d4"
   },
   "outputs": [],
   "source": [
    "class BrainMRIDataset(VisionDataset):\n",
    "    def __init__(self, csv_file: str, transforms: Optional[Callable] = None, memory: Optional[bool] = False):\n",
    "        super(BrainMRIDataset, self).__init__(transforms=transforms)\n",
    "\n",
    "        self.df = pd.read_csv(csv_file)\n",
    "        self.memory = memory\n",
    "\n",
    "        self.img_ls = []\n",
    "        self.msk_ls = []\n",
    "\n",
    "        if memory:\n",
    "            self._save_memory()\n",
    "\n",
    "    def __getitem__(self, item_idx):\n",
    "\n",
    "        if self.memory:\n",
    "            img = self.img_ls[item_idx]\n",
    "            msk = self.msk_ls[item_idx]\n",
    "        else:\n",
    "            patient_id, slice_, img_path, msk_path = self.df.iloc[item_idx]\n",
    "\n",
    "            img = self._read_sample(img_path)\n",
    "            msk = self._read_sample(msk_path, is_img=False)\n",
    "\n",
    "        if self.transforms is not None:\n",
    "            img, msk = self.transforms(img, msk)\n",
    "\n",
    "        return img, msk.int()\n",
    "\n",
    "    def _save_memory(self):\n",
    "        for patient_id, slice_, img_path, msk_path in self.df.values:\n",
    "            img = self._read_sample(img_path)\n",
    "            self.img_ls.append(img)\n",
    "\n",
    "            msk = self._read_sample(msk_path, is_img=False)\n",
    "            self.msk_ls.append(msk)\n",
    "\n",
    "    def _read_sample(self, path_, is_img=True):\n",
    "        samp = Image.open(path_)\n",
    "        samp = T.functional.to_image(samp)\n",
    "\n",
    "        if is_img:\n",
    "            samp = self._normalizer(samp)\n",
    "            samp = tv_tensors.Image(samp)\n",
    "        else:\n",
    "            # samp = samp.repeat(3, 1, 1)\n",
    "            samp = samp.float() / 255.0\n",
    "            samp = tv_tensors.Mask(samp)\n",
    "\n",
    "        return samp\n",
    "\n",
    "    def _normalizer(self, x):\n",
    "        return (x - x.min()) / (x.max() - x.min())\n",
    "\n",
    "    def __len__(self):\n",
    "        return self.df.shape[0]"
   ]
  },
  {
   "cell_type": "markdown",
   "id": "d7f741fc-f22c-4130-9e8f-696c4646a6e3",
   "metadata": {
    "id": "d7f741fc-f22c-4130-9e8f-696c4646a6e3"
   },
   "source": [
    "## Transforms"
   ]
  },
  {
   "cell_type": "code",
   "execution_count": 45,
   "id": "5e5aa2de-e5a4-44e7-84da-ccc9b78a0ff4",
   "metadata": {
    "executionInfo": {
     "elapsed": 27,
     "status": "ok",
     "timestamp": 1747401020753,
     "user": {
      "displayName": "Yasin Gourkani",
      "userId": "15298842580635833110"
     },
     "user_tz": -210
    },
    "id": "5e5aa2de-e5a4-44e7-84da-ccc9b78a0ff4"
   },
   "outputs": [],
   "source": [
    "train_trainsforms = T.Compose([\n",
    "    T.Resize((256, 256)),\n",
    "    T.RandomPhotometricDistort(),\n",
    "    T.RandomHorizontalFlip(),\n",
    "    T.RandomRotation(35),\n",
    "    T.ColorJitter(brightness=0.2, contrast=0.2, saturation=0.2, hue=0.1),\n",
    "    # T.Normalize(mean=(0.5, 0.5, 0.5), std=(0.5, 0.5, 0.5)),\n",
    "])\n",
    "\n",
    "eval_trainsforms = T.Compose([\n",
    "    T.Resize((256, 256)),\n",
    "    # T.Normalize(mean=(0.5, 0.5, 0.5), std=(0.5, 0.5, 0.5)),\n",
    "])"
   ]
  },
  {
   "cell_type": "code",
   "execution_count": 46,
   "id": "33ec8544-5298-4e4e-b1c0-d35c525c94ff",
   "metadata": {
    "executionInfo": {
     "elapsed": 27,
     "status": "ok",
     "timestamp": 1747401020754,
     "user": {
      "displayName": "Yasin Gourkani",
      "userId": "15298842580635833110"
     },
     "user_tz": -210
    },
    "id": "33ec8544-5298-4e4e-b1c0-d35c525c94ff"
   },
   "outputs": [],
   "source": [
    "d = BrainMRIDataset(\"./train.csv\", train_trainsforms, False)"
   ]
  },
  {
   "cell_type": "code",
   "execution_count": 47,
   "id": "1e8f6922-b7b3-4dea-9044-c2ac73fed758",
   "metadata": {
    "colab": {
     "base_uri": "https://localhost:8080/",
     "height": 1000,
     "output_embedded_package_id": "1KC3t6McV3wpF8aCx4RU3_7dO29ZxX6ae"
    },
    "executionInfo": {
     "elapsed": 15903,
     "status": "ok",
     "timestamp": 1747401036630,
     "user": {
      "displayName": "Yasin Gourkani",
      "userId": "15298842580635833110"
     },
     "user_tz": -210
    },
    "id": "1e8f6922-b7b3-4dea-9044-c2ac73fed758",
    "outputId": "4b097b0f-4209-4212-adbd-58c8e0d79ae3"
   },
   "outputs": [
    {
     "data": {
      "text/plain": [
       "Output hidden; open in https://colab.research.google.com to view."
      ]
     },
     "metadata": {},
     "output_type": "display_data"
    }
   ],
   "source": [
    "rand_idx = torch.randint(0, len(d), (45,))\n",
    "\n",
    "fig, axs = plt.subplots(nrows=9, ncols=5, figsize=(18, 25))\n",
    "axs = axs.flatten()\n",
    "\n",
    "for i, idx in enumerate(rand_idx):\n",
    "    img_, msk_ = d[idx.item()]\n",
    "\n",
    "    axs[i].imshow(img_.permute(1, 2, 0), cmap=\"gray\")\n",
    "    axs[i].imshow(msk_.permute(1, 2, 0), alpha=0.4, cmap=\"gray\")\n",
    "\n",
    "for ax in axs:\n",
    "    ax.axis(\"off\")"
   ]
  },
  {
   "cell_type": "markdown",
   "id": "452b4625-ebe0-47b2-bc8e-5b3ff80745ed",
   "metadata": {
    "id": "452b4625-ebe0-47b2-bc8e-5b3ff80745ed"
   },
   "source": [
    "## Create datasets"
   ]
  },
  {
   "cell_type": "code",
   "execution_count": 48,
   "id": "d1d84220-bd87-4258-8247-cbe8108599cb",
   "metadata": {
    "colab": {
     "base_uri": "https://localhost:8080/"
    },
    "executionInfo": {
     "elapsed": 1756,
     "status": "ok",
     "timestamp": 1747401038373,
     "user": {
      "displayName": "Yasin Gourkani",
      "userId": "15298842580635833110"
     },
     "user_tz": -210
    },
    "id": "d1d84220-bd87-4258-8247-cbe8108599cb",
    "outputId": "b8c1cfaa-8481-4f80-b19e-b290ccd792ba"
   },
   "outputs": [
    {
     "data": {
      "text/plain": [
       "(3179, 439, 311)"
      ]
     },
     "execution_count": 48,
     "metadata": {},
     "output_type": "execute_result"
    }
   ],
   "source": [
    "train_set = BrainMRIDataset(path.join(getcwd(), \"train.csv\"), train_trainsforms, True)\n",
    "eval_set = BrainMRIDataset(path.join(getcwd(), \"eval.csv\"), eval_trainsforms, True)\n",
    "test_set = BrainMRIDataset(path.join(getcwd(), \"test.csv\"), eval_trainsforms, False)\n",
    "\n",
    "len(train_set), len(eval_set), len(test_set)"
   ]
  },
  {
   "cell_type": "markdown",
   "id": "d0e5a57c-0479-40a8-92b1-5258c850f2c1",
   "metadata": {
    "id": "d0e5a57c-0479-40a8-92b1-5258c850f2c1"
   },
   "source": [
    "## Dataloaders"
   ]
  },
  {
   "cell_type": "code",
   "execution_count": 49,
   "id": "05fc0097-22ac-4a72-b820-9420f43dbc70",
   "metadata": {
    "executionInfo": {
     "elapsed": 12,
     "status": "ok",
     "timestamp": 1747401038374,
     "user": {
      "displayName": "Yasin Gourkani",
      "userId": "15298842580635833110"
     },
     "user_tz": -210
    },
    "id": "05fc0097-22ac-4a72-b820-9420f43dbc70"
   },
   "outputs": [],
   "source": [
    "train_loader = DataLoader(train_set, batch_size=batch_size, shuffle=True)\n",
    "eval_loader = DataLoader(eval_set, batch_size=batch_size*2)\n",
    "test_loader = DataLoader(test_set, batch_size=batch_size*2)"
   ]
  },
  {
   "cell_type": "code",
   "execution_count": 50,
   "id": "29b109bb-d745-4bc2-8773-de294e577190",
   "metadata": {
    "colab": {
     "base_uri": "https://localhost:8080/"
    },
    "executionInfo": {
     "elapsed": 11,
     "status": "ok",
     "timestamp": 1747401038374,
     "user": {
      "displayName": "Yasin Gourkani",
      "userId": "15298842580635833110"
     },
     "user_tz": -210
    },
    "id": "29b109bb-d745-4bc2-8773-de294e577190",
    "outputId": "dd5b2d9d-19da-4746-e056-fe10c4156c71"
   },
   "outputs": [
    {
     "data": {
      "text/plain": [
       "(torch.Size([64, 3, 256, 256]),\n",
       " torch.Size([64, 1, 256, 256]),\n",
       " tensor(0, dtype=torch.int32),\n",
       " tensor(1, dtype=torch.int32),\n",
       " torch.int32,\n",
       " tensor([0, 1], dtype=torch.int32))"
      ]
     },
     "execution_count": 50,
     "metadata": {},
     "output_type": "execute_result"
    }
   ],
   "source": [
    "img, msk = next(iter(train_loader))\n",
    "img.shape, msk.shape, msk.min(), msk.max(), msk.dtype, msk.unique()"
   ]
  },
  {
   "cell_type": "markdown",
   "id": "93c7d759-de05-447d-86cf-ce468bc54bc7",
   "metadata": {
    "id": "93c7d759-de05-447d-86cf-ce468bc54bc7"
   },
   "source": [
    "# Model"
   ]
  },
  {
   "cell_type": "code",
   "execution_count": 52,
   "id": "68f3536b-961e-4c9a-a42d-9cc86ba28d77",
   "metadata": {
    "colab": {
     "base_uri": "https://localhost:8080/"
    },
    "executionInfo": {
     "elapsed": 2467,
     "status": "ok",
     "timestamp": 1747401061913,
     "user": {
      "displayName": "Yasin Gourkani",
      "userId": "15298842580635833110"
     },
     "user_tz": -210
    },
    "id": "68f3536b-961e-4c9a-a42d-9cc86ba28d77",
    "outputId": "fa542fe6-8c1d-42d8-cb24-44c01e3c44c2",
    "scrolled": true
   },
   "outputs": [
    {
     "name": "stdout",
     "output_type": "stream",
     "text": [
      "The number of trainable parameters: 6,628,945\n"
     ]
    }
   ],
   "source": [
    "model = smp.Unet(encoder_name=backbone, encoder_weights=\"imagenet\", classes=1, in_channels=3)\n",
    "num_parameters(model)"
   ]
  },
  {
   "cell_type": "markdown",
   "id": "fbf99e8d-d432-462d-8c6e-621d5710cbb7",
   "metadata": {
    "id": "fbf99e8d-d432-462d-8c6e-621d5710cbb7",
    "jp-MarkdownHeadingCollapsed": true
   },
   "source": [
    "# Train phase"
   ]
  },
  {
   "cell_type": "markdown",
   "id": "610be759-2180-41b9-b50a-95b63e003102",
   "metadata": {
    "id": "610be759-2180-41b9-b50a-95b63e003102"
   },
   "source": [
    "## Check paths"
   ]
  },
  {
   "cell_type": "markdown",
   "id": "10176347-caf3-45ab-9bd3-61de14ef4e9d",
   "metadata": {
    "id": "10176347-caf3-45ab-9bd3-61de14ef4e9d"
   },
   "source": [
    "### Forward"
   ]
  },
  {
   "cell_type": "code",
   "execution_count": null,
   "id": "2d948d34-4850-4078-9dfb-54aee380e46f",
   "metadata": {
    "id": "2d948d34-4850-4078-9dfb-54aee380e46f",
    "outputId": "128d4c59-dac3-4544-a123-72677d2daeb3"
   },
   "outputs": [
    {
     "name": "stdout",
     "output_type": "stream",
     "text": [
      "torch.Size([16, 3, 256, 256]) tensor(0.) tensor(1.)\n",
      "torch.Size([16, 1, 256, 256]) tensor(0, dtype=torch.int32) tensor(1, dtype=torch.int32)\n",
      "torch.Size([16, 1, 256, 256]) tensor(-5.1086) tensor(15.6625)\n"
     ]
    },
    {
     "data": {
      "text/plain": [
       "0.4246821999549866"
      ]
     },
     "execution_count": 54,
     "metadata": {},
     "output_type": "execute_result"
    }
   ],
   "source": [
    "img, msk = next(iter(train_loader))\n",
    "\n",
    "with torch.inference_mode():\n",
    "    yp = model(img)\n",
    "    loss = combined_loss_fn(yp, msk)\n",
    "\n",
    "torch.cuda.empty_cache()\n",
    "\n",
    "loss.item()"
   ]
  },
  {
   "cell_type": "markdown",
   "id": "3de9e0db-66b0-480f-bf46-3d1ae9aa21a0",
   "metadata": {
    "id": "3de9e0db-66b0-480f-bf46-3d1ae9aa21a0"
   },
   "source": [
    "### Backward"
   ]
  },
  {
   "cell_type": "code",
   "execution_count": null,
   "id": "63e0fa03-e4f1-4b5e-bb3d-173228c63ed7",
   "metadata": {
    "id": "63e0fa03-e4f1-4b5e-bb3d-173228c63ed7",
    "outputId": "df56ae8b-a24e-4e3b-97c2-7ffe9142d5d7"
   },
   "outputs": [
    {
     "name": "stdout",
     "output_type": "stream",
     "text": [
      "The number of trainable parameters: 8,757,105\n"
     ]
    }
   ],
   "source": [
    "model = smp.Unet(encoder_name=backbone, encoder_weights=\"imagenet\", classes=1, in_channels=3).to(device)\n",
    "num_parameters(model)"
   ]
  },
  {
   "cell_type": "code",
   "execution_count": null,
   "id": "f3150f82-f709-48cc-b01f-657f40590cbc",
   "metadata": {
    "id": "f3150f82-f709-48cc-b01f-657f40590cbc"
   },
   "outputs": [],
   "source": [
    "optimizer = Adam(model.parameters(), lr=0.0001, weight_decay=1e-4)\n",
    "metric_fn = Dice(ignore_index=0).to(device)\n",
    "avg_fn = MeanMetric().to(device)"
   ]
  },
  {
   "cell_type": "code",
   "execution_count": null,
   "id": "5ecf47bf-f0a0-4ea5-945f-f06aa728e7ff",
   "metadata": {
    "id": "5ecf47bf-f0a0-4ea5-945f-f06aa728e7ff",
    "outputId": "d0be55e2-78f5-4582-ca53-3cb71ad1b7c9"
   },
   "outputs": [
    {
     "data": {
      "text/plain": [
       "(632, 63)"
      ]
     },
     "execution_count": 59,
     "metadata": {},
     "output_type": "execute_result"
    }
   ],
   "source": [
    "_, mini_train_set = random_split(train_set, lengths=[0.8, 0.2])\n",
    "_, mini_eval_set = random_split(eval_set, lengths=[0.8, 0.2])\n",
    "\n",
    "mini_train_loader = DataLoader(mini_train_set, batch_size=batch_size, shuffle=True)\n",
    "mini_eval_loader = DataLoader(mini_eval_set, batch_size=batch_size)\n",
    "\n",
    "len(mini_train_set), len(mini_eval_set)"
   ]
  },
  {
   "cell_type": "code",
   "execution_count": null,
   "id": "b941d3b8-17f1-4c59-9863-7cb182111b40",
   "metadata": {
    "id": "b941d3b8-17f1-4c59-9863-7cb182111b40",
    "outputId": "46b56fb8-67fd-4af9-b2d4-05adc5bbe202"
   },
   "outputs": [
    {
     "name": "stderr",
     "output_type": "stream",
     "text": [
      "Epoch 0: 100%|███████████████████████████████████████████████████████████| 40/40 [00:50<00:00,  1.25s/ batch, loss=0.369, metric=0.0523]\n"
     ]
    },
    {
     "name": "stdout",
     "output_type": "stream",
     "text": [
      "Eval ==> loss: 0.3069\tmetric: 0.08249\n",
      "\n"
     ]
    },
    {
     "name": "stderr",
     "output_type": "stream",
     "text": [
      "Epoch 1: 100%|████████████████████████████████████████████████████████████| 40/40 [00:49<00:00,  1.25s/ batch, loss=0.231, metric=0.102]\n"
     ]
    },
    {
     "name": "stdout",
     "output_type": "stream",
     "text": [
      "Eval ==> loss: 0.2545\tmetric: 0.1099\n",
      "\n"
     ]
    },
    {
     "name": "stderr",
     "output_type": "stream",
     "text": [
      "Epoch 2: 100%|█████████████████████████████████████████████████████████████| 40/40 [00:50<00:00,  1.26s/ batch, loss=0.18, metric=0.201]\n"
     ]
    },
    {
     "name": "stdout",
     "output_type": "stream",
     "text": [
      "Eval ==> loss: 0.2103\tmetric: 0.2197\n",
      "\n"
     ]
    },
    {
     "name": "stderr",
     "output_type": "stream",
     "text": [
      "Epoch 3: 100%|████████████████████████████████████████████████████████████| 40/40 [00:49<00:00,  1.25s/ batch, loss=0.147, metric=0.307]\n"
     ]
    },
    {
     "name": "stdout",
     "output_type": "stream",
     "text": [
      "Eval ==> loss: 0.1839\tmetric: 0.311\n",
      "\n"
     ]
    },
    {
     "name": "stderr",
     "output_type": "stream",
     "text": [
      "Epoch 4: 100%|████████████████████████████████████████████████████████████| 40/40 [00:50<00:00,  1.26s/ batch, loss=0.123, metric=0.406]\n"
     ]
    },
    {
     "name": "stdout",
     "output_type": "stream",
     "text": [
      "Eval ==> loss: 0.1559\tmetric: 0.413\n",
      "\n"
     ]
    }
   ],
   "source": [
    "for ep in range(5):\n",
    "    model, _, _ = train_one_epoch(mini_train_loader, model, optimizer, combined_loss_fn, metric_fn, avg_fn, ep, device)\n",
    "    eval_one_epoch(mini_eval_loader, model, combined_loss_fn, metric_fn, avg_fn, device)\n",
    "\n",
    "torch.cuda.empty_cache()"
   ]
  },
  {
   "cell_type": "markdown",
   "id": "dbf447f4-05e6-46d7-96a4-884abe999928",
   "metadata": {
    "id": "dbf447f4-05e6-46d7-96a4-884abe999928"
   },
   "source": [
    "## Find efficient hyper-parameters"
   ]
  },
  {
   "cell_type": "code",
   "execution_count": null,
   "id": "18077581-620d-401d-87d9-d1b75a5c885a",
   "metadata": {
    "id": "18077581-620d-401d-87d9-d1b75a5c885a"
   },
   "outputs": [],
   "source": [
    "metric_fn = Dice(ignore_index=0).to(device)\n",
    "avg_fn = MeanMetric().to(device)"
   ]
  },
  {
   "cell_type": "code",
   "execution_count": null,
   "id": "4807512b-bfac-48af-8bca-5c90d71841c6",
   "metadata": {
    "id": "4807512b-bfac-48af-8bca-5c90d71841c6",
    "outputId": "c166a973-9c76-462e-f359-4e43474e6375"
   },
   "outputs": [
    {
     "name": "stdout",
     "output_type": "stream",
     "text": [
      "\n",
      "LR: 1e-05, WD: 0\n"
     ]
    },
    {
     "name": "stderr",
     "output_type": "stream",
     "text": [
      "Epoch 0: 100%|█████████████████████████████████████████████████████████| 202/202 [04:15<00:00,  1.26s/ batch, loss=0.388, metric=0.0528]\n"
     ]
    },
    {
     "name": "stdout",
     "output_type": "stream",
     "text": [
      "Eval ==> loss: 0.3025\tmetric: 0.2451\n",
      "\n"
     ]
    },
    {
     "name": "stderr",
     "output_type": "stream",
     "text": [
      "Epoch 1: 100%|█████████████████████████████████████████████████████████| 202/202 [04:14<00:00,  1.26s/ batch, loss=0.291, metric=0.0735]\n"
     ]
    },
    {
     "name": "stdout",
     "output_type": "stream",
     "text": [
      "Eval ==> loss: 0.2168\tmetric: 0.1754\n",
      "\n"
     ]
    },
    {
     "name": "stderr",
     "output_type": "stream",
     "text": [
      "Epoch 2: 100%|██████████████████████████████████████████████████████████| 202/202 [04:14<00:00,  1.26s/ batch, loss=0.225, metric=0.102]\n"
     ]
    },
    {
     "name": "stdout",
     "output_type": "stream",
     "text": [
      "Eval ==> loss: 0.1911\tmetric: 0.2224\n",
      "\n",
      "\n",
      "LR: 1e-05, WD: 1e-05\n"
     ]
    },
    {
     "name": "stderr",
     "output_type": "stream",
     "text": [
      "Epoch 0: 100%|██████████████████████████████████████████████████████████| 202/202 [04:15<00:00,  1.27s/ batch, loss=0.453, metric=0.033]\n"
     ]
    },
    {
     "name": "stdout",
     "output_type": "stream",
     "text": [
      "Eval ==> loss: 0.4154\tmetric: 0.08024\n",
      "\n"
     ]
    },
    {
     "name": "stderr",
     "output_type": "stream",
     "text": [
      "Epoch 1: 100%|█████████████████████████████████████████████████████████| 202/202 [04:15<00:00,  1.27s/ batch, loss=0.317, metric=0.0723]\n"
     ]
    },
    {
     "name": "stdout",
     "output_type": "stream",
     "text": [
      "Eval ==> loss: 0.2721\tmetric: 0.1358\n",
      "\n"
     ]
    },
    {
     "name": "stderr",
     "output_type": "stream",
     "text": [
      "Epoch 2: 100%|██████████████████████████████████████████████████████████| 202/202 [04:14<00:00,  1.26s/ batch, loss=0.247, metric=0.122]\n"
     ]
    },
    {
     "name": "stdout",
     "output_type": "stream",
     "text": [
      "Eval ==> loss: 0.2445\tmetric: 0.1736\n",
      "\n",
      "\n",
      "LR: 1e-05, WD: 0.0001\n"
     ]
    },
    {
     "name": "stderr",
     "output_type": "stream",
     "text": [
      "Epoch 0: 100%|█████████████████████████████████████████████████████████| 202/202 [04:15<00:00,  1.26s/ batch, loss=0.396, metric=0.0455]\n"
     ]
    },
    {
     "name": "stdout",
     "output_type": "stream",
     "text": [
      "Eval ==> loss: 0.3832\tmetric: 0.07301\n",
      "\n"
     ]
    },
    {
     "name": "stderr",
     "output_type": "stream",
     "text": [
      "Epoch 1: 100%|██████████████████████████████████████████████████████████| 202/202 [04:15<00:00,  1.26s/ batch, loss=0.319, metric=0.074]\n"
     ]
    },
    {
     "name": "stdout",
     "output_type": "stream",
     "text": [
      "Eval ==> loss: 0.3056\tmetric: 0.1195\n",
      "\n"
     ]
    },
    {
     "name": "stderr",
     "output_type": "stream",
     "text": [
      "Epoch 2: 100%|██████████████████████████████████████████████████████████| 202/202 [04:15<00:00,  1.27s/ batch, loss=0.232, metric=0.104]\n"
     ]
    },
    {
     "name": "stdout",
     "output_type": "stream",
     "text": [
      "Eval ==> loss: 0.183\tmetric: 0.1767\n",
      "\n",
      "\n",
      "LR: 0.0001, WD: 0\n"
     ]
    },
    {
     "name": "stderr",
     "output_type": "stream",
     "text": [
      "Epoch 0: 100%|█████████████████████████████████████████████████████████| 202/202 [04:13<00:00,  1.26s/ batch, loss=0.301, metric=0.0624]\n"
     ]
    },
    {
     "name": "stdout",
     "output_type": "stream",
     "text": [
      "Eval ==> loss: 0.1984\tmetric: 0.6202\n",
      "\n"
     ]
    },
    {
     "name": "stderr",
     "output_type": "stream",
     "text": [
      "Epoch 1: 100%|██████████████████████████████████████████████████████████| 202/202 [04:13<00:00,  1.26s/ batch, loss=0.142, metric=0.456]\n"
     ]
    },
    {
     "name": "stdout",
     "output_type": "stream",
     "text": [
      "Eval ==> loss: 0.1056\tmetric: 0.6204\n",
      "\n"
     ]
    },
    {
     "name": "stderr",
     "output_type": "stream",
     "text": [
      "Epoch 2: 100%|██████████████████████████████████████████████████████████| 202/202 [04:13<00:00,  1.25s/ batch, loss=0.0858, metric=0.51]\n"
     ]
    },
    {
     "name": "stdout",
     "output_type": "stream",
     "text": [
      "Eval ==> loss: 0.07369\tmetric: 0.6079\n",
      "\n",
      "\n",
      "LR: 0.0001, WD: 1e-05\n"
     ]
    },
    {
     "name": "stderr",
     "output_type": "stream",
     "text": [
      "Epoch 0: 100%|█████████████████████████████████████████████████████████| 202/202 [04:13<00:00,  1.26s/ batch, loss=0.261, metric=0.0885]\n"
     ]
    },
    {
     "name": "stdout",
     "output_type": "stream",
     "text": [
      "Eval ==> loss: 0.1523\tmetric: 0.5654\n",
      "\n"
     ]
    },
    {
     "name": "stderr",
     "output_type": "stream",
     "text": [
      "Epoch 1: 100%|██████████████████████████████████████████████████████████| 202/202 [04:13<00:00,  1.25s/ batch, loss=0.122, metric=0.439]\n"
     ]
    },
    {
     "name": "stdout",
     "output_type": "stream",
     "text": [
      "Eval ==> loss: 0.09256\tmetric: 0.5897\n",
      "\n"
     ]
    },
    {
     "name": "stderr",
     "output_type": "stream",
     "text": [
      "Epoch 2: 100%|█████████████████████████████████████████████████████████| 202/202 [04:13<00:00,  1.25s/ batch, loss=0.0715, metric=0.511]\n"
     ]
    },
    {
     "name": "stdout",
     "output_type": "stream",
     "text": [
      "Eval ==> loss: 0.06392\tmetric: 0.689\n",
      "\n",
      "\n",
      "LR: 0.0001, WD: 0.0001\n"
     ]
    },
    {
     "name": "stderr",
     "output_type": "stream",
     "text": [
      "Epoch 0: 100%|██████████████████████████████████████████████████████████| 202/202 [04:13<00:00,  1.26s/ batch, loss=0.238, metric=0.101]\n"
     ]
    },
    {
     "name": "stdout",
     "output_type": "stream",
     "text": [
      "Eval ==> loss: 0.1612\tmetric: 0.5554\n",
      "\n"
     ]
    },
    {
     "name": "stderr",
     "output_type": "stream",
     "text": [
      "Epoch 1: 100%|██████████████████████████████████████████████████████████| 202/202 [04:13<00:00,  1.26s/ batch, loss=0.108, metric=0.445]\n"
     ]
    },
    {
     "name": "stdout",
     "output_type": "stream",
     "text": [
      "Eval ==> loss: 0.08549\tmetric: 0.629\n",
      "\n"
     ]
    },
    {
     "name": "stderr",
     "output_type": "stream",
     "text": [
      "Epoch 2: 100%|█████████████████████████████████████████████████████████| 202/202 [04:13<00:00,  1.25s/ batch, loss=0.0622, metric=0.538]\n"
     ]
    },
    {
     "name": "stdout",
     "output_type": "stream",
     "text": [
      "Eval ==> loss: 0.05347\tmetric: 0.6955\n",
      "\n",
      "\n",
      "LR: 0.0005, WD: 0\n"
     ]
    },
    {
     "name": "stderr",
     "output_type": "stream",
     "text": [
      "Epoch 0: 100%|█████████████████████████████████████████████████████████| 202/202 [04:13<00:00,  1.25s/ batch, loss=0.0984, metric=0.256]\n"
     ]
    },
    {
     "name": "stdout",
     "output_type": "stream",
     "text": [
      "Eval ==> loss: 0.04381\tmetric: 0.6223\n",
      "\n"
     ]
    },
    {
     "name": "stderr",
     "output_type": "stream",
     "text": [
      "Epoch 1: 100%|█████████████████████████████████████████████████████████| 202/202 [04:12<00:00,  1.25s/ batch, loss=0.0358, metric=0.492]\n"
     ]
    },
    {
     "name": "stdout",
     "output_type": "stream",
     "text": [
      "Eval ==> loss: 0.03938\tmetric: 0.5473\n",
      "\n"
     ]
    },
    {
     "name": "stderr",
     "output_type": "stream",
     "text": [
      "Epoch 2: 100%|█████████████████████████████████████████████████████████| 202/202 [04:13<00:00,  1.25s/ batch, loss=0.0254, metric=0.565]\n"
     ]
    },
    {
     "name": "stdout",
     "output_type": "stream",
     "text": [
      "Eval ==> loss: 0.03148\tmetric: 0.614\n",
      "\n",
      "\n",
      "LR: 0.0005, WD: 1e-05\n"
     ]
    },
    {
     "name": "stderr",
     "output_type": "stream",
     "text": [
      "Epoch 0: 100%|██████████████████████████████████████████████████████████| 202/202 [04:13<00:00,  1.26s/ batch, loss=0.105, metric=0.251]\n"
     ]
    },
    {
     "name": "stdout",
     "output_type": "stream",
     "text": [
      "Eval ==> loss: 0.04537\tmetric: 0.6625\n",
      "\n"
     ]
    },
    {
     "name": "stderr",
     "output_type": "stream",
     "text": [
      "Epoch 1: 100%|█████████████████████████████████████████████████████████| 202/202 [04:13<00:00,  1.25s/ batch, loss=0.0367, metric=0.479]\n"
     ]
    },
    {
     "name": "stdout",
     "output_type": "stream",
     "text": [
      "Eval ==> loss: 0.03673\tmetric: 0.6018\n",
      "\n"
     ]
    },
    {
     "name": "stderr",
     "output_type": "stream",
     "text": [
      "Epoch 2: 100%|█████████████████████████████████████████████████████████| 202/202 [04:13<00:00,  1.26s/ batch, loss=0.0261, metric=0.566]\n"
     ]
    },
    {
     "name": "stdout",
     "output_type": "stream",
     "text": [
      "Eval ==> loss: 0.03301\tmetric: 0.5886\n",
      "\n",
      "\n",
      "LR: 0.0005, WD: 0.0001\n"
     ]
    },
    {
     "name": "stderr",
     "output_type": "stream",
     "text": [
      "Epoch 0: 100%|██████████████████████████████████████████████████████████| 202/202 [04:14<00:00,  1.26s/ batch, loss=0.108, metric=0.223]\n"
     ]
    },
    {
     "name": "stdout",
     "output_type": "stream",
     "text": [
      "Eval ==> loss: 0.05266\tmetric: 0.6147\n",
      "\n"
     ]
    },
    {
     "name": "stderr",
     "output_type": "stream",
     "text": [
      "Epoch 1: 100%|█████████████████████████████████████████████████████████| 202/202 [04:12<00:00,  1.25s/ batch, loss=0.0346, metric=0.483]\n"
     ]
    },
    {
     "name": "stdout",
     "output_type": "stream",
     "text": [
      "Eval ==> loss: 0.03947\tmetric: 0.569\n",
      "\n"
     ]
    },
    {
     "name": "stderr",
     "output_type": "stream",
     "text": [
      "Epoch 2: 100%|██████████████████████████████████████████████████████████| 202/202 [04:13<00:00,  1.25s/ batch, loss=0.0303, metric=0.52]\n"
     ]
    },
    {
     "name": "stdout",
     "output_type": "stream",
     "text": [
      "Eval ==> loss: 0.03147\tmetric: 0.7124\n",
      "\n",
      "\n",
      "LR: 0.001, WD: 0\n"
     ]
    },
    {
     "name": "stderr",
     "output_type": "stream",
     "text": [
      "Epoch 0: 100%|█████████████████████████████████████████████████████████| 202/202 [04:13<00:00,  1.26s/ batch, loss=0.0772, metric=0.286]\n"
     ]
    },
    {
     "name": "stdout",
     "output_type": "stream",
     "text": [
      "Eval ==> loss: 0.04877\tmetric: 0.621\n",
      "\n"
     ]
    },
    {
     "name": "stderr",
     "output_type": "stream",
     "text": [
      "Epoch 1: 100%|█████████████████████████████████████████████████████████| 202/202 [04:13<00:00,  1.25s/ batch, loss=0.0328, metric=0.476]\n"
     ]
    },
    {
     "name": "stdout",
     "output_type": "stream",
     "text": [
      "Eval ==> loss: 0.03499\tmetric: 0.6441\n",
      "\n"
     ]
    },
    {
     "name": "stderr",
     "output_type": "stream",
     "text": [
      "Epoch 2: 100%|█████████████████████████████████████████████████████████| 202/202 [04:13<00:00,  1.25s/ batch, loss=0.0311, metric=0.478]\n"
     ]
    },
    {
     "name": "stdout",
     "output_type": "stream",
     "text": [
      "Eval ==> loss: 0.0335\tmetric: 0.7427\n",
      "\n",
      "\n",
      "LR: 0.001, WD: 1e-05\n"
     ]
    },
    {
     "name": "stderr",
     "output_type": "stream",
     "text": [
      "Epoch 0: 100%|█████████████████████████████████████████████████████████| 202/202 [04:13<00:00,  1.26s/ batch, loss=0.0887, metric=0.266]\n"
     ]
    },
    {
     "name": "stdout",
     "output_type": "stream",
     "text": [
      "Eval ==> loss: 0.04355\tmetric: 0.5563\n",
      "\n"
     ]
    },
    {
     "name": "stderr",
     "output_type": "stream",
     "text": [
      "Epoch 1: 100%|█████████████████████████████████████████████████████████| 202/202 [04:13<00:00,  1.25s/ batch, loss=0.0392, metric=0.427]\n"
     ]
    },
    {
     "name": "stdout",
     "output_type": "stream",
     "text": [
      "Eval ==> loss: 0.03757\tmetric: 0.7337\n",
      "\n"
     ]
    },
    {
     "name": "stderr",
     "output_type": "stream",
     "text": [
      "Epoch 2: 100%|█████████████████████████████████████████████████████████| 202/202 [04:13<00:00,  1.26s/ batch, loss=0.0259, metric=0.551]\n"
     ]
    },
    {
     "name": "stdout",
     "output_type": "stream",
     "text": [
      "Eval ==> loss: 0.02641\tmetric: 0.6909\n",
      "\n",
      "\n",
      "LR: 0.001, WD: 0.0001\n"
     ]
    },
    {
     "name": "stderr",
     "output_type": "stream",
     "text": [
      "Epoch 0: 100%|██████████████████████████████████████████████████████████| 202/202 [04:12<00:00,  1.25s/ batch, loss=0.102, metric=0.266]\n"
     ]
    },
    {
     "name": "stdout",
     "output_type": "stream",
     "text": [
      "Eval ==> loss: 0.3253\tmetric: 0.5022\n",
      "\n"
     ]
    },
    {
     "name": "stderr",
     "output_type": "stream",
     "text": [
      "Epoch 1: 100%|█████████████████████████████████████████████████████████| 202/202 [04:11<00:00,  1.25s/ batch, loss=0.0402, metric=0.443]\n"
     ]
    },
    {
     "name": "stdout",
     "output_type": "stream",
     "text": [
      "Eval ==> loss: 0.07954\tmetric: 0.748\n",
      "\n"
     ]
    },
    {
     "name": "stderr",
     "output_type": "stream",
     "text": [
      "Epoch 2: 100%|█████████████████████████████████████████████████████████| 202/202 [04:11<00:00,  1.24s/ batch, loss=0.0346, metric=0.461]\n"
     ]
    },
    {
     "name": "stdout",
     "output_type": "stream",
     "text": [
      "Eval ==> loss: 0.05475\tmetric: 0.7394\n",
      "\n"
     ]
    }
   ],
   "source": [
    "for lr in [0.00001, 0.0001, 0.0005, 0.001]:\n",
    "    for wd in [0, 1e-5, 1e-4]:\n",
    "        print(f\"\\nLR: {lr}, WD: {wd}\")\n",
    "\n",
    "        model = smp.Unet(encoder_name=backbone, encoder_weights=\"imagenet\", classes=1, in_channels=3).to(device)\n",
    "        optimizer = Adam(model.parameters(), lr=lr, weight_decay=wd)\n",
    "\n",
    "        for ep in range(3):\n",
    "            model, _, _ = train_one_epoch(train_loader, model, optimizer, combined_loss_fn, metric_fn, avg_fn, ep, device)\n",
    "            eval_one_epoch(eval_loader, model, combined_loss_fn, metric_fn, avg_fn, device)\n",
    "\n",
    "        torch.cuda.empty_cache()"
   ]
  },
  {
   "cell_type": "markdown",
   "id": "6ccc3b70-2128-4847-a703-fc1f4771703c",
   "metadata": {
    "id": "6ccc3b70-2128-4847-a703-fc1f4771703c"
   },
   "source": [
    "## Full Train"
   ]
  },
  {
   "cell_type": "code",
   "execution_count": 53,
   "id": "f965dee7-268a-405b-b42a-01817eb85cae",
   "metadata": {
    "colab": {
     "base_uri": "https://localhost:8080/"
    },
    "executionInfo": {
     "elapsed": 1946,
     "status": "ok",
     "timestamp": 1747401073499,
     "user": {
      "displayName": "Yasin Gourkani",
      "userId": "15298842580635833110"
     },
     "user_tz": -210
    },
    "id": "f965dee7-268a-405b-b42a-01817eb85cae",
    "outputId": "d31fdf6f-2a41-4d60-af33-fe749ab23752"
   },
   "outputs": [
    {
     "name": "stdout",
     "output_type": "stream",
     "text": [
      "The number of trainable parameters: 6,628,945\n"
     ]
    }
   ],
   "source": [
    "model = smp.Unet(encoder_name=backbone, encoder_weights=\"imagenet\", classes=1, in_channels=3).to(device)\n",
    "num_parameters(model)"
   ]
  },
  {
   "cell_type": "code",
   "execution_count": 55,
   "id": "3fd1f7a5-1948-4ff9-bac8-eaaaaf3f009a",
   "metadata": {
    "executionInfo": {
     "elapsed": 11,
     "status": "ok",
     "timestamp": 1747401090088,
     "user": {
      "displayName": "Yasin Gourkani",
      "userId": "15298842580635833110"
     },
     "user_tz": -210
    },
    "id": "3fd1f7a5-1948-4ff9-bac8-eaaaaf3f009a"
   },
   "outputs": [],
   "source": [
    "optimizer = Adam(model.parameters(), lr=1e-3, weight_decay=1e-4)\n",
    "schedular = MultiStepLR(optimizer, milestones=[4, 10], gamma=0.3)\n",
    "metric_fn = Dice(ignore_index=0).to(device)\n",
    "avg_fn = MeanMetric().to(device)"
   ]
  },
  {
   "cell_type": "code",
   "execution_count": 56,
   "id": "94145f03-7ec7-4984-b197-7e7d45effdec",
   "metadata": {
    "executionInfo": {
     "elapsed": 5,
     "status": "ok",
     "timestamp": 1747401097718,
     "user": {
      "displayName": "Yasin Gourkani",
      "userId": "15298842580635833110"
     },
     "user_tz": -210
    },
    "id": "94145f03-7ec7-4984-b197-7e7d45effdec"
   },
   "outputs": [],
   "source": [
    "best_model = model\n",
    "min_eval_loss = torch.inf"
   ]
  },
  {
   "cell_type": "code",
   "execution_count": 57,
   "id": "57e529f3-c381-4622-b429-7f69cec6c13a",
   "metadata": {
    "executionInfo": {
     "elapsed": 9,
     "status": "ok",
     "timestamp": 1747401100054,
     "user": {
      "displayName": "Yasin Gourkani",
      "userId": "15298842580635833110"
     },
     "user_tz": -210
    },
    "id": "57e529f3-c381-4622-b429-7f69cec6c13a"
   },
   "outputs": [],
   "source": [
    "train_loss_hist, train_metric_hist = [], []\n",
    "eval_loss_hist, eval_metric_hist = [], []"
   ]
  },
  {
   "cell_type": "code",
   "execution_count": 58,
   "id": "f296f9c7-c61b-4a35-a682-f7ca686219f1",
   "metadata": {
    "colab": {
     "base_uri": "https://localhost:8080/"
    },
    "executionInfo": {
     "elapsed": 1804279,
     "status": "ok",
     "timestamp": 1747402904325,
     "user": {
      "displayName": "Yasin Gourkani",
      "userId": "15298842580635833110"
     },
     "user_tz": -210
    },
    "id": "f296f9c7-c61b-4a35-a682-f7ca686219f1",
    "outputId": "6acda50c-0ce4-44b2-d442-57a88ae49a0a"
   },
   "outputs": [
    {
     "name": "stderr",
     "output_type": "stream",
     "text": [
      "Epoch 0: 100%|██████████| 50/50 [01:29<00:00,  1.79s/ batch, loss=0.163, metric=0.318]\n"
     ]
    },
    {
     "name": "stdout",
     "output_type": "stream",
     "text": [
      "Eval ==> loss: 0.08451\tmetric: 0.3155\n",
      "\n"
     ]
    },
    {
     "name": "stderr",
     "output_type": "stream",
     "text": [
      "Epoch 1: 100%|██████████| 50/50 [01:29<00:00,  1.78s/ batch, loss=0.054, metric=0.554]\n"
     ]
    },
    {
     "name": "stdout",
     "output_type": "stream",
     "text": [
      "Eval ==> loss: 0.06248\tmetric: 0.3884\n",
      "\n"
     ]
    },
    {
     "name": "stderr",
     "output_type": "stream",
     "text": [
      "Epoch 2: 100%|██████████| 50/50 [01:31<00:00,  1.83s/ batch, loss=0.039, metric=0.609]\n"
     ]
    },
    {
     "name": "stdout",
     "output_type": "stream",
     "text": [
      "Eval ==> loss: 0.03756\tmetric: 0.5986\n",
      "\n"
     ]
    },
    {
     "name": "stderr",
     "output_type": "stream",
     "text": [
      "Epoch 3: 100%|██████████| 50/50 [01:29<00:00,  1.78s/ batch, loss=0.0336, metric=0.638]\n"
     ]
    },
    {
     "name": "stdout",
     "output_type": "stream",
     "text": [
      "Eval ==> loss: 0.05498\tmetric: 0.5863\n",
      "\n"
     ]
    },
    {
     "name": "stderr",
     "output_type": "stream",
     "text": [
      "Epoch 4: 100%|██████████| 50/50 [01:28<00:00,  1.77s/ batch, loss=0.0269, metric=0.688]\n"
     ]
    },
    {
     "name": "stdout",
     "output_type": "stream",
     "text": [
      "Eval ==> loss: 0.03922\tmetric: 0.7095\n",
      "\n"
     ]
    },
    {
     "name": "stderr",
     "output_type": "stream",
     "text": [
      "Epoch 5: 100%|██████████| 50/50 [01:28<00:00,  1.77s/ batch, loss=0.0241, metric=0.716]\n"
     ]
    },
    {
     "name": "stdout",
     "output_type": "stream",
     "text": [
      "Eval ==> loss: 0.0391\tmetric: 0.6827\n",
      "\n"
     ]
    },
    {
     "name": "stderr",
     "output_type": "stream",
     "text": [
      "Epoch 6: 100%|██████████| 50/50 [01:27<00:00,  1.76s/ batch, loss=0.0222, metric=0.732]\n"
     ]
    },
    {
     "name": "stdout",
     "output_type": "stream",
     "text": [
      "Eval ==> loss: 0.03501\tmetric: 0.7172\n",
      "\n"
     ]
    },
    {
     "name": "stderr",
     "output_type": "stream",
     "text": [
      "Epoch 7: 100%|██████████| 50/50 [01:28<00:00,  1.78s/ batch, loss=0.0213, metric=0.744]\n"
     ]
    },
    {
     "name": "stdout",
     "output_type": "stream",
     "text": [
      "Eval ==> loss: 0.04009\tmetric: 0.7307\n",
      "\n"
     ]
    },
    {
     "name": "stderr",
     "output_type": "stream",
     "text": [
      "Epoch 8: 100%|██████████| 50/50 [01:30<00:00,  1.81s/ batch, loss=0.0198, metric=0.748]\n"
     ]
    },
    {
     "name": "stdout",
     "output_type": "stream",
     "text": [
      "Eval ==> loss: 0.047\tmetric: 0.7435\n",
      "\n"
     ]
    },
    {
     "name": "stderr",
     "output_type": "stream",
     "text": [
      "Epoch 9: 100%|██████████| 50/50 [01:29<00:00,  1.78s/ batch, loss=0.0197, metric=0.751]\n"
     ]
    },
    {
     "name": "stdout",
     "output_type": "stream",
     "text": [
      "Eval ==> loss: 0.04091\tmetric: 0.7597\n",
      "\n"
     ]
    },
    {
     "name": "stderr",
     "output_type": "stream",
     "text": [
      "Epoch 10: 100%|██████████| 50/50 [01:28<00:00,  1.78s/ batch, loss=0.0186, metric=0.767]\n"
     ]
    },
    {
     "name": "stdout",
     "output_type": "stream",
     "text": [
      "Eval ==> loss: 0.0347\tmetric: 0.7404\n",
      "\n"
     ]
    },
    {
     "name": "stderr",
     "output_type": "stream",
     "text": [
      "Epoch 11: 100%|██████████| 50/50 [01:28<00:00,  1.76s/ batch, loss=0.0182, metric=0.767]\n"
     ]
    },
    {
     "name": "stdout",
     "output_type": "stream",
     "text": [
      "Eval ==> loss: 0.03504\tmetric: 0.7175\n",
      "\n"
     ]
    },
    {
     "name": "stderr",
     "output_type": "stream",
     "text": [
      "Epoch 12: 100%|██████████| 50/50 [01:28<00:00,  1.76s/ batch, loss=0.0175, metric=0.773]\n"
     ]
    },
    {
     "name": "stdout",
     "output_type": "stream",
     "text": [
      "Eval ==> loss: 0.03432\tmetric: 0.6875\n",
      "\n"
     ]
    },
    {
     "name": "stderr",
     "output_type": "stream",
     "text": [
      "Epoch 13: 100%|██████████| 50/50 [01:27<00:00,  1.76s/ batch, loss=0.0176, metric=0.771]\n"
     ]
    },
    {
     "name": "stdout",
     "output_type": "stream",
     "text": [
      "Eval ==> loss: 0.0302\tmetric: 0.7006\n",
      "\n"
     ]
    },
    {
     "name": "stderr",
     "output_type": "stream",
     "text": [
      "Epoch 14: 100%|██████████| 50/50 [01:27<00:00,  1.74s/ batch, loss=0.0169, metric=0.774]\n"
     ]
    },
    {
     "name": "stdout",
     "output_type": "stream",
     "text": [
      "Eval ==> loss: 0.03323\tmetric: 0.7109\n",
      "\n"
     ]
    },
    {
     "name": "stderr",
     "output_type": "stream",
     "text": [
      "Epoch 15: 100%|██████████| 50/50 [01:27<00:00,  1.75s/ batch, loss=0.017, metric=0.776]\n"
     ]
    },
    {
     "name": "stdout",
     "output_type": "stream",
     "text": [
      "Eval ==> loss: 0.03433\tmetric: 0.6883\n",
      "\n"
     ]
    },
    {
     "name": "stderr",
     "output_type": "stream",
     "text": [
      "Epoch 16: 100%|██████████| 50/50 [01:28<00:00,  1.77s/ batch, loss=0.0165, metric=0.784]\n"
     ]
    },
    {
     "name": "stdout",
     "output_type": "stream",
     "text": [
      "Eval ==> loss: 0.03722\tmetric: 0.7358\n",
      "\n"
     ]
    },
    {
     "name": "stderr",
     "output_type": "stream",
     "text": [
      "Epoch 17: 100%|██████████| 50/50 [01:28<00:00,  1.77s/ batch, loss=0.0164, metric=0.775]\n"
     ]
    },
    {
     "name": "stdout",
     "output_type": "stream",
     "text": [
      "Eval ==> loss: 0.03325\tmetric: 0.7005\n",
      "\n"
     ]
    },
    {
     "name": "stderr",
     "output_type": "stream",
     "text": [
      "Epoch 18: 100%|██████████| 50/50 [01:27<00:00,  1.75s/ batch, loss=0.0164, metric=0.781]\n"
     ]
    },
    {
     "name": "stdout",
     "output_type": "stream",
     "text": [
      "Eval ==> loss: 0.03432\tmetric: 0.7278\n",
      "\n"
     ]
    },
    {
     "name": "stderr",
     "output_type": "stream",
     "text": [
      "Epoch 19: 100%|██████████| 50/50 [01:27<00:00,  1.75s/ batch, loss=0.0165, metric=0.776]\n"
     ]
    },
    {
     "name": "stdout",
     "output_type": "stream",
     "text": [
      "Eval ==> loss: 0.03519\tmetric: 0.7378\n",
      "\n",
      "Comupation Time: 0:30:08\n"
     ]
    }
   ],
   "source": [
    "start_time = datetime.now().replace(microsecond=0)\n",
    "\n",
    "for ep in range(epochs):\n",
    "    model, train_loss, train_metric = train_one_epoch(train_loader, model, optimizer, combined_loss_fn, metric_fn, avg_fn, ep, device)\n",
    "    eval_loss, eval_metric = eval_one_epoch(eval_loader, model, combined_loss_fn, metric_fn, avg_fn, device)\n",
    "\n",
    "    if min_eval_loss > eval_loss:\n",
    "        best_model = model\n",
    "        min_eval_loss = eval_loss\n",
    "\n",
    "    train_loss_hist.append(train_loss)\n",
    "    eval_loss_hist.append(eval_loss)\n",
    "    train_metric_hist.append(train_metric)\n",
    "    eval_metric_hist.append(eval_metric)\n",
    "\n",
    "    schedular.step()\n",
    "\n",
    "end_time = datetime.now().replace(microsecond=0)\n",
    "\n",
    "torch.cuda.empty_cache()\n",
    "\n",
    "print(f\"Comupation Time: {end_time - start_time}\")"
   ]
  },
  {
   "cell_type": "markdown",
   "id": "cdca47af-17f3-49f5-998e-c6a1bdfbf1a3",
   "metadata": {
    "id": "cdca47af-17f3-49f5-998e-c6a1bdfbf1a3"
   },
   "source": [
    "## Save the best model"
   ]
  },
  {
   "cell_type": "code",
   "execution_count": 59,
   "id": "2a349a52-2259-44aa-bbad-02c79785eac3",
   "metadata": {
    "executionInfo": {
     "elapsed": 449,
     "status": "ok",
     "timestamp": 1747402909950,
     "user": {
      "displayName": "Yasin Gourkani",
      "userId": "15298842580635833110"
     },
     "user_tz": -210
    },
    "id": "2a349a52-2259-44aa-bbad-02c79785eac3"
   },
   "outputs": [],
   "source": [
    "torch.save(best_model.to(\"cpu\"), path.join(getcwd(), final_model_name))"
   ]
  },
  {
   "cell_type": "markdown",
   "id": "fc04edd0-de6b-45ed-b507-340adb016b6b",
   "metadata": {
    "id": "fc04edd0-de6b-45ed-b507-340adb016b6b"
   },
   "source": [
    "## Plot"
   ]
  },
  {
   "cell_type": "code",
   "execution_count": 60,
   "id": "5e5ca69c-b148-4577-a44b-6ba89a3d1bc4",
   "metadata": {
    "colab": {
     "base_uri": "https://localhost:8080/",
     "height": 487
    },
    "executionInfo": {
     "elapsed": 1009,
     "status": "ok",
     "timestamp": 1747402912517,
     "user": {
      "displayName": "Yasin Gourkani",
      "userId": "15298842580635833110"
     },
     "user_tz": -210
    },
    "id": "5e5ca69c-b148-4577-a44b-6ba89a3d1bc4",
    "outputId": "ab197427-a894-442a-adb0-bee102566412"
   },
   "outputs": [
    {
     "data": {
      "image/png": "[encoded data removed]",
      "text/plain": [
       "<Figure size 1600x500 with 2 Axes>"
      ]
     },
     "metadata": {},
     "output_type": "display_data"
    }
   ],
   "source": [
    "fig, axs = plt.subplots(nrows=1, ncols=2, figsize=(16, 5))\n",
    "\n",
    "axs[0].plot(train_loss_hist, c='b', label=\"Train Loss\")\n",
    "axs[0].plot(eval_loss_hist, c='r', label=\"Eval Loss\")\n",
    "axs[1].plot(train_metric_hist, c='b', label=\"Train Metric\")\n",
    "axs[1].plot(eval_metric_hist, c='r', label=\"Eval Metric\")\n",
    "\n",
    "axs[0].set_title(\"Learning Curve\")\n",
    "axs[0].set_ylabel(\"Dice Loss + BCE\")\n",
    "axs[1].set_title(\"Metric Curve\")\n",
    "axs[1].set_ylabel(\"Metric\")\n",
    "\n",
    "for ax in axs:\n",
    "    ax.set_xlabel(\"Epoch\")\n",
    "    ax.grid()\n",
    "    ax.legend()"
   ]
  },
  {
   "cell_type": "markdown",
   "id": "59ae7602-10aa-49ca-a9db-5fb67b217fa7",
   "metadata": {
    "id": "59ae7602-10aa-49ca-a9db-5fb67b217fa7",
    "jp-MarkdownHeadingCollapsed": true
   },
   "source": [
    "# Test phase"
   ]
  },
  {
   "cell_type": "code",
   "execution_count": 61,
   "id": "1c398861-5c0a-4eea-825d-88902a150330",
   "metadata": {
    "executionInfo": {
     "elapsed": 884,
     "status": "ok",
     "timestamp": 1747402917428,
     "user": {
      "displayName": "Yasin Gourkani",
      "userId": "15298842580635833110"
     },
     "user_tz": -210
    },
    "id": "1c398861-5c0a-4eea-825d-88902a150330"
   },
   "outputs": [],
   "source": [
    "final_model_loaded = torch.load(path.join(getcwd(), final_model_name), weights_only=False)"
   ]
  },
  {
   "cell_type": "code",
   "execution_count": 62,
   "id": "2d2b1735-5a50-42bc-8798-54177fca4ae9",
   "metadata": {
    "colab": {
     "base_uri": "https://localhost:8080/"
    },
    "executionInfo": {
     "elapsed": 2461,
     "status": "ok",
     "timestamp": 1747402920870,
     "user": {
      "displayName": "Yasin Gourkani",
      "userId": "15298842580635833110"
     },
     "user_tz": -210
    },
    "id": "2d2b1735-5a50-42bc-8798-54177fca4ae9",
    "outputId": "0e1ea026-d180-4d1a-be3f-9011655773b0"
   },
   "outputs": [
    {
     "name": "stdout",
     "output_type": "stream",
     "text": [
      "Eval ==> loss: 0.02524\tmetric: 0.8004\n",
      "\n"
     ]
    }
   ],
   "source": [
    "with torch.inference_mode():\n",
    "    final_model_loaded.to(device)\n",
    "    test_loss, test_metric = eval_one_epoch(test_loader, final_model_loaded, combined_loss_fn, metric_fn, avg_fn, device)\n",
    "\n",
    "torch.cuda.empty_cache()"
   ]
  },
  {
   "cell_type": "markdown",
   "id": "fa613a71-469b-433a-8d93-c397469b3930",
   "metadata": {
    "id": "fa613a71-469b-433a-8d93-c397469b3930"
   },
   "source": [
    "# Segmentation phase"
   ]
  },
  {
   "cell_type": "code",
   "execution_count": 63,
   "id": "iR1ZJ-Wh6elu",
   "metadata": {
    "executionInfo": {
     "elapsed": 6,
     "status": "ok",
     "timestamp": 1747402923801,
     "user": {
      "displayName": "Yasin Gourkani",
      "userId": "15298842580635833110"
     },
     "user_tz": -210
    },
    "id": "iR1ZJ-Wh6elu"
   },
   "outputs": [],
   "source": [
    "test_iter = iter(test_loader)"
   ]
  },
  {
   "cell_type": "code",
   "execution_count": 64,
   "id": "e49d92bb-f6d7-4d65-9b51-8b2c5505734f",
   "metadata": {
    "executionInfo": {
     "elapsed": 33792,
     "status": "ok",
     "timestamp": 1747402958595,
     "user": {
      "displayName": "Yasin Gourkani",
      "userId": "15298842580635833110"
     },
     "user_tz": -210
    },
    "id": "e49d92bb-f6d7-4d65-9b51-8b2c5505734f"
   },
   "outputs": [],
   "source": [
    "with torch.inference_mode():\n",
    "    final_model_loaded.to(\"cpu\")\n",
    "    test_img, test_msk = next(test_iter)\n",
    "\n",
    "    yp = final_model_loaded(test_img)\n",
    "    yp = torch.sigmoid(yp)\n",
    "\n",
    "torch.cuda.empty_cache()"
   ]
  },
  {
   "cell_type": "code",
   "execution_count": 65,
   "id": "kwyeQ7J184Q2",
   "metadata": {
    "colab": {
     "base_uri": "https://localhost:8080/",
     "height": 1000,
     "output_embedded_package_id": "16C2GMDYB-Ou3neV34ytvgOqCUbBskpOO"
    },
    "executionInfo": {
     "elapsed": 12903,
     "status": "ok",
     "timestamp": 1747402971492,
     "user": {
      "displayName": "Yasin Gourkani",
      "userId": "15298842580635833110"
     },
     "user_tz": -210
    },
    "id": "kwyeQ7J184Q2",
    "outputId": "78d7b488-eadc-4ff2-c028-de965c18c351"
   },
   "outputs": [
    {
     "data": {
      "text/plain": [
       "Output hidden; open in https://colab.research.google.com to view."
      ]
     },
     "metadata": {},
     "output_type": "display_data"
    }
   ],
   "source": [
    "fig, axs = plt.subplots(nrows=test_img.shape[0]//2, ncols=4, figsize=(16, 74))\n",
    "axs = axs.flatten()\n",
    "axs_len = len(axs)\n",
    "\n",
    "axs[0].set_title(\"Main Scan\")\n",
    "axs[1].set_title(\"Main Scan + Main Mask\")\n",
    "axs[2].set_title(\"Main Scan + Generated Mask\")\n",
    "axs[3].set_title(\"Generated Mask\")\n",
    "\n",
    "for j, i in zip(range(axs_len), range(0, axs_len, 4)):\n",
    "  axs[i].imshow(test_img[j, ...].permute(1, 2, 0), cmap=\"gray\")\n",
    "\n",
    "  axs[i+1].imshow(test_img[j, ...].permute(1, 2, 0), cmap=\"gray\")\n",
    "  axs[i+1].imshow(test_msk[j, ...].permute(1, 2, 0), cmap=\"gray\", alpha=0.7)\n",
    "\n",
    "  axs[i+2].imshow(test_img[j, ...].permute(1, 2, 0), cmap=\"gray\")\n",
    "  axs[i+2].imshow(yp[j, ...].permute(1, 2, 0), cmap=\"gray\", alpha=0.7)\n",
    "\n",
    "  axs[i+3].imshow(yp[j, ...].permute(1, 2, 0), cmap=\"gray\")\n",
    "\n",
    "for ax in axs:\n",
    "  ax.axis(\"off\")"
   ]
  }
 ],
 "metadata": {
  "accelerator": "GPU",
  "colab": {
   "collapsed_sections": [
    "e7d210f7-8787-4ae2-bec5-6c9c26b9c901",
    "uMPXZabD2SKB",
    "a9aa6a31-6111-4437-8a26-214dccd1abdc",
    "7515c45a-d443-408b-be9d-d29a5a152532",
    "KXKWn4-P2t3s",
    "7c69e886-9fb7-4064-a93c-d082ac00b1b3",
    "da0dad8b-ab9e-42e3-ab1b-80479b1b3a03",
    "6b7f04fa-5568-4e03-bc07-53e871df8515",
    "b97fcd73-fc49-402e-a8da-345123053107",
    "b39bd67e-3c9b-4224-8fb7-2c8fa208054a",
    "b78e9878-d2b3-447f-ab51-315d55d0bdfb",
    "cf5ad6c7-8ad9-429e-9dfa-ab021be81ea2",
    "80b0d5fb-4735-4ba1-b673-929aa128a61e",
    "31c951f9-a1db-4634-88dc-8a1b6c2e9835",
    "ab947ab7-59c1-41f5-9dec-bbe53cb82433",
    "c264e463-255b-4796-899c-fb9a16d2cc43",
    "e7108124-1d20-46d6-9d9c-e0d893c5e4b2",
    "9f997c42-d119-4c20-932d-35590bd29e22",
    "a52f6542-9c7f-4895-8329-356965f9d78c",
    "9d0d3ab5-caad-4b03-b314-c94fe186fe4e",
    "62202daf-6a4f-47c2-b7a0-7e42d9418e23",
    "4ce99499-63e7-4434-bf84-68dd3812ae61",
    "cb6a9c38-7e03-4c0f-8a2a-ca6aee457804",
    "eb841c95-42b0-439f-a3af-7fa822d7f8ba",
    "4a40aa30-bb80-4a03-8e23-95f0304bb438",
    "72068e0b-71c8-4b31-b10e-3840450138b0",
    "f2b4bead-7c66-4689-b72a-ed7d6fa9ab26",
    "1fe01737-4303-4eb2-b141-c54fa4f85ea4",
    "93c7d759-de05-447d-86cf-ce468bc54bc7",
    "610be759-2180-41b9-b50a-95b63e003102",
    "10176347-caf3-45ab-9bd3-61de14ef4e9d",
    "3de9e0db-66b0-480f-bf46-3d1ae9aa21a0",
    "dbf447f4-05e6-46d7-96a4-884abe999928"
   ],
   "gpuType": "T4",
   "provenance": []
  },
  "kernelspec": {
   "display_name": "Python 3 (ipykernel)",
   "language": "python",
   "name": "python3"
  },
  "language_info": {
   "codemirror_mode": {
    "name": "ipython",
    "version": 3
   },
   "file_extension": ".py",
   "mimetype": "text/x-python",
   "name": "python",
   "nbconvert_exporter": "python",
   "pygments_lexer": "ipython3",
   "version": "3.12.3"
  }
 },
 "nbformat": 4,
 "nbformat_minor": 5
}
